{
 "cells": [
  {
   "cell_type": "markdown",
   "metadata": {},
   "source": [
    "# Ejercicios de bucles, contenedores y funciones de Python\n",
    "**Docente**: Antonio Gago.  **I.E.S. Velázquez:** Curso 2020-2021\n",
    "**Alumno**:"
   ]
  },
  {
   "cell_type": "markdown",
   "metadata": {},
   "source": [
    "## Índice de ejercicios\n",
    "* [Ejercicio 1](#ejercicio_uno)\n",
    "* [Ejercicio 2](#ejercicio_dos)\n",
    "* [Ejercicio 3](#ejercicio_tres)\n",
    "* [Ejercicio 4](#ejercicio_cuatro)\n",
    "* [Ejercicio 5](#ejercicio_cinco)\n",
    "* [Ejercicio 6](#ejercicio_seis)\n",
    "* [Ejercicio 7](#ejercicio_siete)"
   ]
  },
  {
   "cell_type": "markdown",
   "metadata": {},
   "source": [
    "## Ejercicio 1 <a name=\"ejercicio_uno\"/>"
   ]
  },
  {
   "cell_type": "markdown",
   "metadata": {},
   "source": [
    "Escribir un programa que pida al usuario un número entero positivo y muestre por pantalla la cuenta atrás desde ese número hasta cero separados por comas."
   ]
  },
  {
   "cell_type": "markdown",
   "metadata": {},
   "source": [
    "### ¡Prueba tú!"
   ]
  },
  {
   "cell_type": "code",
   "execution_count": 10,
   "metadata": {},
   "outputs": [
    {
     "name": "stdout",
     "output_type": "stream",
     "text": [
      "Introduce un numero positivo: 3\n",
      "3,2,1,0"
     ]
    }
   ],
   "source": [
    "numero = int(input(\"Introduce un numero positivo: \"))\n",
    "for i in range(numero, -1, -1):\n",
    "    if i == 0: \n",
    "        print(0,end=\"\")\n",
    "    else:\n",
    "        print(i, end=\",\")"
   ]
  },
  {
   "cell_type": "markdown",
   "metadata": {},
   "source": [
    "## Ejercicio 2 <a name=\"ejercicio_dos\"/>"
   ]
  },
  {
   "cell_type": "markdown",
   "metadata": {},
   "source": [
    "Escribir un programa que almacene las asignaturas de un curso (por ejemplo Matemáticas, Física, Química, Inglés, Historia y Lengua) en una lista y la muestre por pantalla."
   ]
  },
  {
   "cell_type": "markdown",
   "metadata": {},
   "source": [
    "### ¡Prueba tú!"
   ]
  },
  {
   "cell_type": "code",
   "execution_count": 7,
   "metadata": {},
   "outputs": [
    {
     "name": "stdout",
     "output_type": "stream",
     "text": [
      "Matematicas\n",
      "Fisica\n",
      "Quimica\n",
      "Ingles\n",
      "Historia\n",
      "Lengua\n"
     ]
    }
   ],
   "source": [
    "asignaturas = [\"Matematicas\",\"Fisica\",\"Quimica\",\"Ingles\",\"Historia\",\"Lengua\"]\n",
    "for asignatura in asignaturas:\n",
    "    print(asignatura)"
   ]
  },
  {
   "cell_type": "markdown",
   "metadata": {},
   "source": [
    "<hr>"
   ]
  },
  {
   "cell_type": "markdown",
   "metadata": {},
   "source": [
    "## Ejercicio 3 <a name=\"ejercicio_tres\"/>"
   ]
  },
  {
   "cell_type": "markdown",
   "metadata": {},
   "source": [
    "Escribir un programa que almacene las matrices\n",
    "\n",
    "$$\n",
    "A = \\left(\n",
    "  \\begin{array}{rrr}\n",
    "  1 & 2 & 3\\\\\n",
    "  4 & 5 & 6\n",
    "  \\end{array}\n",
    "  \\right)\n",
    "  \\quad  y\n",
    "  \\quad\n",
    "  B = \\left(\n",
    "  \\begin{array}{rr}\n",
    "  -1 & 0\\\\\n",
    "  0 & 1\\\\\n",
    "  1 & 1\n",
    "  \\end{array}\n",
    "  \\right)\n",
    "$$\n",
    "\n",
    "en una tupla y muestre por pantalla su producto.  \n",
    "Nota: Para representar matrices mediante tuplas usar tuplas anidadas, representando cada vector fila en una tupla."
   ]
  },
  {
   "cell_type": "markdown",
   "metadata": {},
   "source": [
    "### ¡Prueba tú!"
   ]
  },
  {
   "cell_type": "code",
   "execution_count": 84,
   "metadata": {
    "scrolled": false
   },
   "outputs": [
    {
     "name": "stdout",
     "output_type": "stream",
     "text": [
      "[[0, 12], [30, 30]]\n"
     ]
    }
   ],
   "source": [
    "a = ((1,2,3),(4,5,6))\n",
    "b = ((-1,0),(0,1),(1,1))\n",
    "resultado = []\n",
    "for (i,x) in enumerate(a):\n",
    "    result = [0,0]\n",
    "    for y in x:\n",
    "        for z in range(0,len(x)):\n",
    "            result[0] += y*b[z][i]\n",
    "            result[1] += y*b[z][len(b[z])-1]\n",
    "    resultado.append(result)\n",
    "print(resultado)\n",
    "        \n",
    "        \n",
    "    "
   ]
  },
  {
   "cell_type": "markdown",
   "metadata": {},
   "source": [
    "<hr>"
   ]
  },
  {
   "cell_type": "markdown",
   "metadata": {},
   "source": [
    "## Ejercicio 4 <a name=\"ejercicio_cuatro\"/>"
   ]
  },
  {
   "cell_type": "markdown",
   "metadata": {},
   "source": [
    "Escribir un programa que guarde en un diccionario los precios de las frutas de la tabla, pregunte al usuario por una fruta, un número de kilos y muestre por pantalla el precio de ese número de kilos de fruta. Si la fruta no está en el diccionario debe mostrar un mensaje informando de ello.\n",
    "\n",
    "| Fruta | Precio|\n",
    "|:-|:-:|\n",
    "|Plátano | 2.35 |\n",
    "|Manzana | 1.20|\n",
    "|Pera| 1.65|\n",
    "|Naranja | 0.70|\n",
    "|Melocotón | 1.95|\n"
   ]
  },
  {
   "cell_type": "markdown",
   "metadata": {},
   "source": [
    "### ¡Prueba tú!"
   ]
  },
  {
   "cell_type": "code",
   "execution_count": 90,
   "metadata": {},
   "outputs": [
    {
     "name": "stdout",
     "output_type": "stream",
     "text": [
      "Introduce el nombre de una fruta: platano\n",
      "Introduce el numero de kilos de la fruta: 3\n",
      "El precio de la cantidad de kilos  3  de  platano  es igual a:  7.050000000000001\n"
     ]
    }
   ],
   "source": [
    "frutas = {\"platano\":2.35,\"manzana\":1.20,\"pera\":1.65,\"naranja\":0.70,\"melocoton\":1.95}\n",
    "fruta = input(\"Introduce el nombre de una fruta: \")\n",
    "kilos = int(input(\"Introduce el numero de kilos de la fruta: \"))\n",
    "if(fruta.lower() in frutas):\n",
    "    print(\"El precio de la cantidad de kilos \",kilos,\" de \",fruta,\" es igual a: \",(kilos*frutas[fruta]))\n",
    "else:\n",
    "    print(\"La fruta seleccionada no está disponible\")"
   ]
  },
  {
   "cell_type": "markdown",
   "metadata": {},
   "source": [
    "<hr>"
   ]
  },
  {
   "cell_type": "markdown",
   "metadata": {},
   "source": [
    "## Ejercicio 5 <a name=\"ejercicio_cinco\"/>"
   ]
  },
  {
   "cell_type": "markdown",
   "metadata": {},
   "source": [
    "Escribir un programa que cree un diccionario simulando una cesta de la compra. El programa debe preguntar el artículo y su precio y añadir el par al diccionario, hasta que el usuario decida terminar (¿Quieres añadir artículos a la lista (Si/No)?) Después se debe mostrar por pantalla la lista de la compra y el coste total, con el siguiente formato\n",
    "\n",
    "|Lista de la compra| |\n",
    "|:-|-:|\n",
    "|Artículo 1 | Precio|\n",
    "|Artículo 2 | Precio|\n",
    "|Artículo 3 | Precio|\n",
    "|...| ...|\n",
    "|Total| Coste|\n"
   ]
  },
  {
   "cell_type": "markdown",
   "metadata": {},
   "source": [
    "### ¡Prueba tú!"
   ]
  },
  {
   "cell_type": "code",
   "execution_count": 107,
   "metadata": {
    "scrolled": true
   },
   "outputs": [
    {
     "name": "stdout",
     "output_type": "stream",
     "text": [
      "Introduce el nombre del articulo: platanos\n",
      "Introduce el precio del articulo: 20\n",
      "{'platanos': 20}\n",
      "¿Quieres añadir articulos a la lista Si/No?si\n",
      "Introduce el nombre del articulo: melocotones\n",
      "Introduce el precio del articulo: 10\n",
      "¿Quieres añadir articulos a la lista Si/No?no\n",
      "20\n",
      "10\n",
      "30\n"
     ]
    }
   ],
   "source": [
    "articulos = {}\n",
    "articulo = input(\"Introduce el nombre del articulo: \")\n",
    "precio = int(input(\"Introduce el precio del articulo: \"))\n",
    "articulos[articulo] = precio\n",
    "print(articulos)\n",
    "while(input(\"¿Quieres añadir articulos a la lista Si/No?\").lower() == \"si\"):\n",
    "    articulo = input(\"Introduce el nombre del articulo: \")\n",
    "    precio = int(input(\"Introduce el precio del articulo: \"))\n",
    "    articulos[articulo] = precio\n",
    "total = 0\n",
    "for articulo in articulos:\n",
    "    print(\"Precio total de los articulos: \",total += articulos[articulo])\n",
    "print(total)"
   ]
  },
  {
   "cell_type": "markdown",
   "metadata": {},
   "source": [
    "## "
   ]
  },
  {
   "cell_type": "markdown",
   "metadata": {},
   "source": [
    "<hr>"
   ]
  },
  {
   "cell_type": "markdown",
   "metadata": {},
   "source": [
    "## Ejercicio 6 <a name=\"ejercicio_seis\"/>|"
   ]
  },
  {
   "cell_type": "markdown",
   "metadata": {},
   "source": [
    "Escribir una función que, dado un número de DNI sin letra, devuelva la letra correspondiente. \n",
    "\n",
    "El código de control se obtiene a partir del número completo del DNI (8 cifras) o el NIE (letra X, Y o Z seguido de 7 cifras) y dividiéndolo entre 23. En el caso del NIE se sustituye la primera letra por un 0, un 1 o un 2, según sea X, Y o Z respectivamente. Al resto resultante de dicha división, que deberá estar comprendido entre 0 y 22, se le asigna la letra de control según la equivalencia la siguiente lista:\n",
    "\n",
    "lista=['T','R','W','A','G','M','Y','F','P','D','X','B','N','J','Z','S','Q','V','H','L','C','K','E']\n"
   ]
  },
  {
   "cell_type": "markdown",
   "metadata": {},
   "source": [
    "### ¡Prueba tú!"
   ]
  },
  {
   "cell_type": "code",
   "execution_count": 146,
   "metadata": {},
   "outputs": [
    {
     "name": "stdout",
     "output_type": "stream",
     "text": [
      "DNI: d2135\n",
      "Introduzca una letra correcta para el NIE o un DNI sin letra\n"
     ]
    },
    {
     "data": {
      "text/plain": [
       "''"
      ]
     },
     "execution_count": 146,
     "metadata": {},
     "output_type": "execute_result"
    }
   ],
   "source": [
    "def letraDNI(dni):\n",
    "    listaLetras=['T','R','W','A','G','M','Y','F','P','D','X','B','N','J','Z','S','Q','V','H','L','C','K','E']\n",
    "    if 'x' in dni or 'y' in dni or 'z' in dni:\n",
    "        letras = {\n",
    "            'x' : dni.replace('x','0'),\n",
    "            'y' : dni.replace('y','1'),\n",
    "            'z' : dni.replace('z','2')\n",
    "        }\n",
    "        dni = letras[dni[0]]\n",
    "    else:\n",
    "        print(\"Introduzca una letra correcta para el NIE o un DNI sin letra\")\n",
    "        return \"\"\n",
    "    return listaLetras[int(dni)%23]\n",
    "    \n",
    "letraDNI(input(\"DNI: \"))\n"
   ]
  },
  {
   "cell_type": "markdown",
   "metadata": {},
   "source": [
    "<hr>"
   ]
  },
  {
   "cell_type": "markdown",
   "metadata": {},
   "source": [
    "# Ejercicio 7 <a name=\"ejercicio_siete\"/>"
   ]
  },
  {
   "cell_type": "markdown",
   "metadata": {},
   "source": [
    "Escribir una función que convierta un número binario en decimal."
   ]
  },
  {
   "cell_type": "markdown",
   "metadata": {},
   "source": [
    "### ¡Prueba tú!"
   ]
  },
  {
   "cell_type": "code",
   "execution_count": 164,
   "metadata": {},
   "outputs": [
    {
     "name": "stdout",
     "output_type": "stream",
     "text": [
      "Introduce el numero binario: 10000011\n"
     ]
    },
    {
     "data": {
      "text/plain": [
       "131"
      ]
     },
     "execution_count": 164,
     "metadata": {},
     "output_type": "execute_result"
    }
   ],
   "source": [
    "def convertirBinario(binario):\n",
    "    \n",
    "    potencia = [0,0];\n",
    "    while(binario):\n",
    "        if binario%10 == 1:\n",
    "            potencia[1] += pow(2,potencia[0])\n",
    "        binario = binario//10\n",
    "        potencia[0] += 1\n",
    "    return potencia[1]\n",
    "\n",
    "convertirBinario(int(input(\"Introduce el numero binario: \")))\n",
    "\n",
    "    \n",
    "    \n",
    "    "
   ]
  },
  {
   "cell_type": "markdown",
   "metadata": {},
   "source": [
    "<hr>"
   ]
  },
  {
   "cell_type": "code",
   "execution_count": null,
   "metadata": {},
   "outputs": [],
   "source": []
  },
  {
   "cell_type": "code",
   "execution_count": null,
   "metadata": {},
   "outputs": [],
   "source": []
  }
 ],
 "metadata": {
  "kernelspec": {
   "display_name": "Python 3",
   "language": "python",
   "name": "python3"
  },
  "language_info": {
   "codemirror_mode": {
    "name": "ipython",
    "version": 3
   },
   "file_extension": ".py",
   "mimetype": "text/x-python",
   "name": "python",
   "nbconvert_exporter": "python",
   "pygments_lexer": "ipython3",
   "version": "3.8.3"
  }
 },
 "nbformat": 4,
 "nbformat_minor": 4
}
