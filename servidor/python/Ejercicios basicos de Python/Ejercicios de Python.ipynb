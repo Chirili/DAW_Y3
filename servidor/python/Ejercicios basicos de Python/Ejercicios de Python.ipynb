{
 "cells": [
  {
   "cell_type": "markdown",
   "metadata": {},
   "source": [
    "# Ejercicios básicos de Python\n",
    "**Docente**: Antonio Gago.  **I.E.S. Velázquez:** Curso 2020-2021\n",
    "\n",
    "**Alumno**: Andrés Carmona Lozano\n"
   ]
  },
  {
   "cell_type": "markdown",
   "metadata": {},
   "source": [
    "## Índice de ejercicios\n",
    "* [Ejercicio 1](#ejercicio_uno)\n",
    "* [Ejercicio 2](#ejercicio_dos)\n",
    "* [Ejercicio 3](#ejercicio_tres)\n",
    "* [Ejercicio 4](#ejercicio_cuatro)\n",
    "* [Ejercicio 5](#ejercicio_cinco)\n",
    "* [Ejercicio 6](#ejercicio_seis)\n",
    "* [Ejercicio 7](#ejercicio_siete)\n",
    "* [Ejercicio 8](#ejercicio_ocho)\n",
    "* [Ejercicio 9](#ejercicio_nueve)\n",
    "* [Ejercicio 10](#ejercicio_diez)"
   ]
  },
  {
   "cell_type": "markdown",
   "metadata": {},
   "source": [
    "## Ejercicio 1 <a name=\"ejercicio_uno\"/>"
   ]
  },
  {
   "cell_type": "markdown",
   "metadata": {},
   "source": [
    "Escribe un programa que solicite al usuario el ingreso de una temperatura en escala Fahrenheit (debe permitir decimales) y le muestre el equivalente en grados Celsius. La fórmula de conversión que se usa para este cálculo es:`Celsius = (5/9) * (Fahrenheit-32)`"
   ]
  },
  {
   "cell_type": "markdown",
   "metadata": {},
   "source": [
    "### ¡Prueba tú!"
   ]
  },
  {
   "cell_type": "code",
   "execution_count": 2,
   "metadata": {},
   "outputs": [
    {
     "name": "stdout",
     "output_type": "stream",
     "text": [
      "Introduce el valor farenheit: \n",
      "32\n",
      "El valor Farenheit  32.0  en Celsius es igual a:  0.0\n"
     ]
    }
   ],
   "source": [
    "print(\"Introduce el valor farenheit: \")\n",
    "farenheit = float(input())\n",
    "print(\"El valor Farenheit \",farenheit,\" en Celsius es igual a: \",((5/9)*(farenheit-32)))"
   ]
  },
  {
   "cell_type": "markdown",
   "metadata": {},
   "source": [
    "<hr>"
   ]
  },
  {
   "cell_type": "markdown",
   "metadata": {},
   "source": [
    "## Ejercicio 2 <a name=\"ejercicio_dos\"/>"
   ]
  },
  {
   "cell_type": "markdown",
   "metadata": {},
   "source": [
    "Escribe un programa que solicite al usuario ingresar tres números para luego mostrarle el promedio de los tres."
   ]
  },
  {
   "cell_type": "markdown",
   "metadata": {},
   "source": [
    "### ¡Prueba tú!"
   ]
  },
  {
   "cell_type": "code",
   "execution_count": 57,
   "metadata": {},
   "outputs": [
    {
     "name": "stdout",
     "output_type": "stream",
     "text": [
      "Introduce el primer numero: \n",
      "2\n",
      "Introduce el segundo numero: \n",
      "5\n",
      "Introduce el tercer numero: \n",
      "10\n",
      "El promedio de  2 ,  5  y  10  es igual a:  5.666666666666667\n"
     ]
    }
   ],
   "source": [
    "print(\"Introduce el primer numero: \")\n",
    "numero = int(input())\n",
    "print(\"Introduce el segundo numero: \")\n",
    "snumero = int(input())\n",
    "print(\"Introduce el tercer numero: \")\n",
    "tnumero = int(input())\n",
    "\n",
    "print(\"El promedio de \",numero,\", \",snumero,\" y \",tnumero,\" es igual a: \",(numero+snumero+tnumero)/3)"
   ]
  },
  {
   "cell_type": "markdown",
   "metadata": {},
   "source": [
    "<hr>"
   ]
  },
  {
   "cell_type": "markdown",
   "metadata": {},
   "source": [
    "## Ejercicio 3 <a name=\"ejercicio_tres\"/>"
   ]
  },
  {
   "cell_type": "markdown",
   "metadata": {},
   "source": [
    "Escribe un programa que solicite al usuario el ingreso de dos palabras, las cuales se guardarán en dos variables distintas. A continuación, almacená en una variable la concatenación de la primera palabra, más un espacio, más la segunda palabra. Mostrar este resultado en pantalla.\n"
   ]
  },
  {
   "cell_type": "markdown",
   "metadata": {},
   "source": [
    "### ¡Prueba tú!"
   ]
  },
  {
   "cell_type": "code",
   "execution_count": 3,
   "metadata": {},
   "outputs": [
    {
     "name": "stdout",
     "output_type": "stream",
     "text": [
      "Introduce la primera palabra: \n",
      "Hola\n",
      "Introduce la segunda palabra: \n",
      "Pepe\n",
      "La frase formada es:  Hola Pepe\n"
     ]
    }
   ],
   "source": [
    "print(\"Introduce la primera palabra: \")\n",
    "palabra = input()\n",
    "print(\"Introduce la segunda palabra: \")\n",
    "palabra1 = input()\n",
    "\n",
    "frase = palabra + \" \" + palabra1\n",
    "print(\"La frase formada es: \",frase)"
   ]
  },
  {
   "cell_type": "markdown",
   "metadata": {},
   "source": [
    "<hr>"
   ]
  },
  {
   "cell_type": "markdown",
   "metadata": {},
   "source": [
    "## Ejercicio 4 <a name=\"ejercicio_cuatro\"/>"
   ]
  },
  {
   "cell_type": "markdown",
   "metadata": {},
   "source": [
    "Escribe un programa que solicite al usuario el ingreso de un texto y almacene ese texto en una variable. A continuación, mostrar en pantalla la primera letra del texto ingresado. Luego, solicitar al usuario que ingrese un número positivo menor a la cantidad de caracteres que tiene el texto que ingresó (por ejemplo, si escribió la palabra “HOLA”, tendrá que ser un número entre 0 y 4) y almacenar este número en una variable llamada indice.\n",
    "Mostrar en pantalla el carácter del texto ubicado en la posición dada por indice.\n"
   ]
  },
  {
   "cell_type": "markdown",
   "metadata": {},
   "source": [
    "### ¡Prueba tú!"
   ]
  },
  {
   "cell_type": "code",
   "execution_count": 5,
   "metadata": {},
   "outputs": [
    {
     "name": "stdout",
     "output_type": "stream",
     "text": [
      "Introduce un texto: \n",
      "Hola mundo\n",
      "La primera letra del texto es:  H\n",
      "Introduce un numero positivo menor al numero de caracteres del texto: \n",
      "15\n",
      "Introduce un numero positivo menor al numero de caracteres del texto: \n",
      "14\n",
      "Introduce un numero positivo menor al numero de caracteres del texto: \n",
      "5\n",
      "El texto encontrado con ese numero es:  m\n"
     ]
    }
   ],
   "source": [
    "print(\"Introduce un texto: \")\n",
    "texto = input()\n",
    "print(\"La primera letra del texto es: \",texto[0])\n",
    "print(\"Introduce un numero positivo menor al numero de caracteres del texto: \")\n",
    "numero = int(input())\n",
    "while numero < 0 or numero > len(texto):\n",
    "    print(\"Introduce un numero positivo menor al numero de caracteres del texto: \")\n",
    "    numero = int(input())\n",
    "print(\"El texto encontrado con ese numero es: \",texto[numero])"
   ]
  },
  {
   "cell_type": "markdown",
   "metadata": {},
   "source": [
    "<hr>"
   ]
  },
  {
   "cell_type": "markdown",
   "metadata": {},
   "source": [
    "## Ejercicio 5 <a name=\"ejercicio_cinco\"/>"
   ]
  },
  {
   "cell_type": "markdown",
   "metadata": {},
   "source": [
    "Escribe un programa para solicitar al usuario el ingreso de un número entero y que luego imprima un valor booleano (**True** o **False**) dependiendo de si el número es par o no."
   ]
  },
  {
   "cell_type": "markdown",
   "metadata": {},
   "source": [
    "### ¡Prueba tú!"
   ]
  },
  {
   "cell_type": "code",
   "execution_count": 9,
   "metadata": {},
   "outputs": [
    {
     "name": "stdout",
     "output_type": "stream",
     "text": [
      "Introduce un numero entero: \n",
      "5\n",
      "False\n"
     ]
    }
   ],
   "source": [
    "print(\"Introduce un numero entero: \")\n",
    "numero = int(input())\n",
    "if (numero % 2) == 0:\n",
    "    print(True)\n",
    "else:\n",
    "    print(False)"
   ]
  },
  {
   "cell_type": "markdown",
   "metadata": {},
   "source": [
    "<hr>"
   ]
  },
  {
   "cell_type": "markdown",
   "metadata": {},
   "source": [
    "## Ejercicio 6 <a name=\"ejercicio_seis\"/>"
   ]
  },
  {
   "cell_type": "markdown",
   "metadata": {},
   "source": [
    "Escribe un programa para pedir al usuario su nombre y luego el nombre de otra persona, almacenando cada nombre en una variable. Luego mostrar en pantalla un valor booleano (**True** o **False**) que indique si los nombres de ambas personas comienzan con la misma letra ó si terminan con la misma letra. Por ejemplo, si los nombres ingresados son María y Marcos, se mostrará **True**, ya que ambos comienzan con la misma letra. Si los nombres son Ricardo y Gonzalo se mostrará **True**, ya que ambos terminan con la misma letra. Si los nombres son Florencia y Lautaro se mostrará **False**, ya que no coinciden ni la primera ni la última letra."
   ]
  },
  {
   "cell_type": "markdown",
   "metadata": {},
   "source": [
    "### ¡Prueba tú!"
   ]
  },
  {
   "cell_type": "code",
   "execution_count": 18,
   "metadata": {},
   "outputs": [
    {
     "name": "stdout",
     "output_type": "stream",
     "text": [
      "Introduce tu nombre: \n",
      "Maria\n",
      "Introduced otro nombre: \n",
      "Marcos\n",
      "True\n"
     ]
    }
   ],
   "source": [
    "print(\"Introduce tu nombre: \")\n",
    "nombre = input()\n",
    "print(\"Introduced otro nombre: \")\n",
    "nombre1 = input()\n",
    "if nombre[0] == nombre1[0] or nombre[-1] == nombre1[-1]:\n",
    "    print(True)\n",
    "else:\n",
    "    print(False)\n"
   ]
  },
  {
   "cell_type": "markdown",
   "metadata": {},
   "source": [
    "<hr>"
   ]
  },
  {
   "cell_type": "markdown",
   "metadata": {},
   "source": [
    "# Ejercicio 7 <a name=\"ejercicio_siete\"/>"
   ]
  },
  {
   "cell_type": "markdown",
   "metadata": {},
   "source": [
    "Escribe un programa para solicitar al usuario tres números y mostrar en pantalla el menor de los tres."
   ]
  },
  {
   "cell_type": "markdown",
   "metadata": {},
   "source": [
    "### ¡Prueba tú!"
   ]
  },
  {
   "cell_type": "code",
   "execution_count": 22,
   "metadata": {},
   "outputs": [
    {
     "name": "stdout",
     "output_type": "stream",
     "text": [
      "Introduce el primer numero: \n",
      "4\n",
      "Introduce el segundo numero: \n",
      "5\n",
      "Introduce el tercer numero: \n",
      "1\n",
      "El tercer numero es el menor:  1\n"
     ]
    }
   ],
   "source": [
    "print(\"Introduce el primer numero: \")\n",
    "numero = int(input())\n",
    "print(\"Introduce el segundo numero: \")\n",
    "snumero = int(input())\n",
    "print(\"Introduce el tercer numero: \")\n",
    "tnumero = int(input())\n",
    "\n",
    "if numero < snumero and numero < tnumero:\n",
    "    print(\"El primer numero es el menor: \",numero)\n",
    "elif snumero < numero and snumero < tnumero:\n",
    "    print(\"El segundo numero es el menor: \",snumero)\n",
    "else:\n",
    "    print(\"El tercer numero es el menor: \",tnumero)\n",
    "    "
   ]
  },
  {
   "cell_type": "markdown",
   "metadata": {},
   "source": [
    "<hr>"
   ]
  },
  {
   "cell_type": "markdown",
   "metadata": {},
   "source": [
    "# Ejercicio 8 <a name=\"ejercicio_ocho\"/>"
   ]
  },
  {
   "cell_type": "markdown",
   "metadata": {},
   "source": [
    "Escribe un programa que, dada una frase por el usuario, muestre la cantidad total de vocales (tanto mayúsculas como minúsculas) que contiene."
   ]
  },
  {
   "cell_type": "markdown",
   "metadata": {},
   "source": [
    "### ¡Prueba tú!"
   ]
  },
  {
   "cell_type": "code",
   "execution_count": 64,
   "metadata": {},
   "outputs": [
    {
     "name": "stdout",
     "output_type": "stream",
     "text": [
      "Introduce una frase: \n",
      "asdf\n",
      "Cantidad de vocales:  1\n"
     ]
    }
   ],
   "source": [
    "print(\"Introduce una frase: \")\n",
    "frase = input()\n",
    "vocales = \"aeiou\"\n",
    "numeroVocales = int()\n",
    "for i,caracter in enumerate(frase):\n",
    "    for j,caracter2 in enumerate(vocales):\n",
    "        if caracter == caracter2:\n",
    "            numeroVocales += 1\n",
    "            \n",
    "print(\"Cantidad de vocales: \",numeroVocales)\n"
   ]
  },
  {
   "cell_type": "markdown",
   "metadata": {},
   "source": [
    "<hr>"
   ]
  },
  {
   "cell_type": "markdown",
   "metadata": {},
   "source": [
    "# Ejercicio 9 <a name=\"ejercicio_nueve\"/>"
   ]
  },
  {
   "cell_type": "markdown",
   "metadata": {},
   "source": [
    "Escribe un programa que solicite al usuario el ingreso de cadenas de longitud 1 (un solo carácter), uno por vez. La repetición finalizará cuando se ingrese una cadena que no tenga longitud 1, o cuando la cadena ingresada corresponda al dígito numérico 0. Al finalizar, mostrar la cadena completa que se formó con todos los caracteres ingresados y qué porcentaje de caracteres del total fueron la letra **\"a\"**."
   ]
  },
  {
   "cell_type": "markdown",
   "metadata": {},
   "source": [
    "### ¡Prueba tú!"
   ]
  },
  {
   "cell_type": "code",
   "execution_count": 40,
   "metadata": {},
   "outputs": [
    {
     "name": "stdout",
     "output_type": "stream",
     "text": [
      "Introduce un caracter para continuar, 0 o mas de un caracter para finalizar\n",
      "h\n",
      "Introduce un caracter para continuar, 0 o mas de un caracter para finalizar\n",
      "o\n",
      "Introduce un caracter para continuar, 0 o mas de un caracter para finalizar\n",
      "l\n",
      "Introduce un caracter para continuar, 0 o mas de un caracter para finalizar\n",
      "a\n",
      "Introduce un caracter para continuar, 0 o mas de un caracter para finalizar\n",
      " \n",
      "Introduce un caracter para continuar, 0 o mas de un caracter para finalizar\n",
      "m\n",
      "Introduce un caracter para continuar, 0 o mas de un caracter para finalizar\n",
      "0\n",
      "Cadena formada:  hola m\n"
     ]
    }
   ],
   "source": [
    "print(\"Introduce un caracter para continuar, 0 o mas de un caracter para finalizar\")\n",
    "cadena = str()\n",
    "letra = input()\n",
    "while letra != \"0\" and len(letra) == 1:\n",
    "    cadena += letra\n",
    "    print(\"Introduce un caracter para continuar, 0 o mas de un caracter para finalizar\")\n",
    "    letra = input()\n",
    "print(\"Cadena formada: \",cadena)"
   ]
  },
  {
   "cell_type": "markdown",
   "metadata": {},
   "source": [
    "<hr>"
   ]
  },
  {
   "cell_type": "markdown",
   "metadata": {},
   "source": [
    "# Ejercicio 10 <a name=\"ejercicio_diez\"/>"
   ]
  },
  {
   "cell_type": "markdown",
   "metadata": {},
   "source": [
    "Escribe un programa que, dado un número entero por el usuario (guardado como **int**), muestre la suma de todos sus dígitos. Recuerda que vas a necesitar obtener cada uno de los dígitos por separado para poder sumarlos entre sí. "
   ]
  },
  {
   "cell_type": "markdown",
   "metadata": {},
   "source": [
    "### ¡Prueba tú!"
   ]
  },
  {
   "cell_type": "code",
   "execution_count": 115,
   "metadata": {},
   "outputs": [
    {
     "name": "stdout",
     "output_type": "stream",
     "text": [
      "Introduce un numero entero: \n",
      "234\n",
      "58.5 4\n",
      "Suma total de sus digitos:  4\n"
     ]
    }
   ],
   "source": []
  },
  {
   "cell_type": "markdown",
   "metadata": {},
   "source": [
    "<hr>"
   ]
  }
 ],
 "metadata": {
  "kernelspec": {
   "display_name": "Python 3",
   "language": "python",
   "name": "python3"
  },
  "language_info": {
   "codemirror_mode": {
    "name": "ipython",
    "version": 3
   },
   "file_extension": ".py",
   "mimetype": "text/x-python",
   "name": "python",
   "nbconvert_exporter": "python",
   "pygments_lexer": "ipython3",
   "version": "3.8.3"
  }
 },
 "nbformat": 4,
 "nbformat_minor": 4
}
