{
 "cells": [
  {
   "cell_type": "markdown",
   "metadata": {},
   "source": [
    "# Una introducción a Python: Conceptos básicos de programación\n",
    "**Docente**: Antonio Gago.  **I.E.S. Velázquez:** Curso 2020-2021"
   ]
  },
  {
   "cell_type": "markdown",
   "metadata": {},
   "source": [
    "Este documento está pensado para que comiences a comprender los programas escritos en el lenguaje Python, y a escribir tus primeros programas. No tienes que tener ningún conocimiento previo para entenderlo. No pretendemos profundizar en ninguno de los contenidos que aquí se presentan, sino más bien dar un primer vistazo a lo que te puedes encontrar en un programa escrito en Python. Más adelante, iremos profundizando en cada uno de estos contenidos. \n",
    "\n",
    "\n",
    "Debes ir ejecutando cada una de las celdas de código\\* que vayas encontrado. Para hacer esto, puedes hacer clic en la celda en cuestión y luego en el botón con el icono de \"play\" que aparece en la barra de herramientas; también puedes pulsar las teclas \"Mayúsculas\" y \"Entrar\" al mismo tiempo. Si empiezas en la primera celda, puedes ir usando el mismo icono de \"play\" para ir ejecutando y avanzando a lo largo del notebook. Si \"ejecutas\" una celda como esta, que no contiene código, simplemente pasarás a la siguiente. **Debes ejecutar todas las celdas que contienen código**, si no lo haces es posible que algunos ejemplos de código\\* no funcionen. \n",
    "\n",
    "Los apartados marcados con el título **¡Prueba tú!** están pensados para que escribas pequeños trocitos de código\\*, de manera que compruebes si has comprendido lo que se acaba de explicar.\n",
    "\n",
    "\\* Cuando hablamos de \"código\" nos referimos a un trozo de texto sacado de un programa informático. En inglés, es frecuente usar el término **coding** para referirse al acto de escribir programas informáticos.\n",
    "\n",
    "### ¿Empezamos?"
   ]
  },
  {
   "cell_type": "markdown",
   "metadata": {},
   "source": [
    "## 1. Instrucciones y funciones"
   ]
  },
  {
   "cell_type": "markdown",
   "metadata": {
    "nbpresent": {
     "id": "71219fc3-c9cb-4700-9f0b-ab38b1b223da"
    },
    "slideshow": {
     "slide_type": "-"
    }
   },
   "source": [
    "Un programa Python está formado por **instrucciones** (a veces también son llamadas **sentencias**). Cada instrucción se escribe normalmente en una línea. Por ejemplo, la siguiente instrucción sirve para imprimir el mensaje \"Hola, mundo!\" en la pantalla.\n",
    "\n",
    "Para ejecutar la instrucción, haz clic sobre la celda de abajo y luego pulsa el icono de \"play\" (también puedes pulsar las teclas \"Mayúsculas+Entrar\")."
   ]
  },
  {
   "cell_type": "code",
   "execution_count": null,
   "metadata": {
    "nbpresent": {
     "id": "ae8725fa-30f7-4d7f-a2c2-5f86953d730b"
    }
   },
   "outputs": [],
   "source": [
    "print(\"Hola, mundo!\")"
   ]
  },
  {
   "cell_type": "markdown",
   "metadata": {
    "nbpresent": {
     "id": "86423d42-e808-47e6-b1a7-e925e195f821"
    }
   },
   "source": [
    "Si en un programa hay varias instrucciones, estas se ejecutan secuencialmente, una tras otra."
   ]
  },
  {
   "cell_type": "code",
   "execution_count": null,
   "metadata": {
    "nbpresent": {
     "id": "d0569bb0-fad8-48b7-8d48-0066bfb90401"
    }
   },
   "outputs": [],
   "source": [
    "print(\"Hola, mundo!\")\n",
    "print(\"Adiós, mundo!\")"
   ]
  },
  {
   "cell_type": "markdown",
   "metadata": {
    "nbpresent": {
     "id": "7adaaf8f-a83e-456b-b99a-d3b3d4cb6d1a"
    }
   },
   "source": [
    "La instrucción que hemos usado en los ejemplos anteriores, **print** (que significa imprimir en inglés), es una **función predefinida** (*built-in function*). Una función puede ser \"llamada\" (también se dice \"invocada\") desde un programa escribiendo su nombre y a continuación unos paréntesis de apertura y cierre. En ocasiones, las funciones reciben **parámetros**, que se escriben en la llamada dentro de los paréntesis, separados por comas si hay más de uno."
   ]
  },
  {
   "cell_type": "markdown",
   "metadata": {},
   "source": [
    "### ¡Prueba tú!"
   ]
  },
  {
   "cell_type": "code",
   "execution_count": 1,
   "metadata": {
    "scrolled": true
   },
   "outputs": [
    {
     "name": "stdout",
     "output_type": "stream",
     "text": [
      "Hello World!\n"
     ]
    }
   ],
   "source": [
    "# Escribe una llamada a la función print para mostrar algún mensaje en pantalla.\n",
    "print(\"Hello World!\")\n",
    "\n"
   ]
  },
  {
   "cell_type": "markdown",
   "metadata": {},
   "source": [
    "Hay muchas funciones predefinidas, por ejemplo la función **help** nos proporciona ayuda sobre cualquier otra función. "
   ]
  },
  {
   "cell_type": "code",
   "execution_count": 2,
   "metadata": {
    "nbpresent": {
     "id": "998dc7f5-ab6d-4fb8-866f-4fa96a06aaaa"
    }
   },
   "outputs": [
    {
     "name": "stdout",
     "output_type": "stream",
     "text": [
      "Help on built-in function print in module builtins:\n",
      "\n",
      "print(...)\n",
      "    print(value, ..., sep=' ', end='\\n', file=sys.stdout, flush=False)\n",
      "    \n",
      "    Prints the values to a stream, or to sys.stdout by default.\n",
      "    Optional keyword arguments:\n",
      "    file:  a file-like object (stream); defaults to the current sys.stdout.\n",
      "    sep:   string inserted between values, default a space.\n",
      "    end:   string appended after the last value, default a newline.\n",
      "    flush: whether to forcibly flush the stream.\n",
      "\n"
     ]
    }
   ],
   "source": [
    "help(print)   # Nos muestra información de ayuda sobre la función predefinida print"
   ]
  },
  {
   "cell_type": "markdown",
   "metadata": {},
   "source": [
    "### ¡Prueba tú!"
   ]
  },
  {
   "cell_type": "code",
   "execution_count": 3,
   "metadata": {},
   "outputs": [
    {
     "name": "stdout",
     "output_type": "stream",
     "text": [
      "Help on built-in function print in module builtins:\n",
      "\n",
      "print(...)\n",
      "    print(value, ..., sep=' ', end='\\n', file=sys.stdout, flush=False)\n",
      "    \n",
      "    Prints the values to a stream, or to sys.stdout by default.\n",
      "    Optional keyword arguments:\n",
      "    file:  a file-like object (stream); defaults to the current sys.stdout.\n",
      "    sep:   string inserted between values, default a space.\n",
      "    end:   string appended after the last value, default a newline.\n",
      "    flush: whether to forcibly flush the stream.\n",
      "\n"
     ]
    }
   ],
   "source": [
    "# Haz que se muestre la ayuda disponible sobre la propia función help\n",
    "help(print)\n"
   ]
  },
  {
   "cell_type": "markdown",
   "metadata": {
    "nbpresent": {
     "id": "829150e0-712b-4739-92d6-37b9c3d789cb"
    }
   },
   "source": [
    "En el ejemplo anterior hemos usado el carácter almohadilla (#) para escribir un **comentario** sobre el código. Los comentarios se usan en los programas para hacer aclaraciones, explicar el funcionamiento y, en general, hacer más fácil de entender nuestros programas. \n",
    "\n",
    "Las funciones anteriores se llaman funciones predefinidas porque ya vienen incluidas \"por defecto\" en Python. Por contra, los programadores pueden **definir** sus propias **funciones**, como se muestra a continuación."
   ]
  },
  {
   "cell_type": "code",
   "execution_count": null,
   "metadata": {
    "nbpresent": {
     "id": "8dce188c-36b7-41fa-9020-b5cb5502e452"
    }
   },
   "outputs": [],
   "source": [
    "def saluda(nombre):\n",
    "    ''' \n",
    "    Esta función imprime un saludo personalizado con el nombre indicado mediante el parámetro \"nombre\".\n",
    "    '''\n",
    "    print(\"Hola, \" + nombre)"
   ]
  },
  {
   "cell_type": "markdown",
   "metadata": {
    "nbpresent": {
     "id": "35a148d4-f201-4441-bf5e-8a07f93dea84"
    }
   },
   "source": [
    "La función que acabamos de definir se llama *saluda* y recibe un único parámetro. Después de la primera línea (llamada **cabecera** o **prototipo** de la función) vienen una o varias instrucciones (llamadas **cuerpo** de la función), que serán ejecutadas cuando alguien llame a la función. Date cuenta de que las instrucciones que conforman el cuerpo de la función aparecen indentadas, es decir, tienen un tabulador delante. \n",
    "\n",
    "Las primeras líneas del cuerpo de la función, que comienzan y acaban con tres comillas simples, se llaman **comentario de documentación** de la función, y, aunque no son obligatorias, sí es recomendable incluirlas. Cuando alguien llame a la función predefinida *help* para pedir ayuda sobre nuestra función, se mostrará precisamente el texto aquí incluido.\n",
    "\n",
    "Lo que hará la función cuando alguien la llame será mostrar un mensaje de saludo. Hagamos una llamada para probar la función: prueba a escribir tu nombre entre las comillas."
   ]
  },
  {
   "cell_type": "code",
   "execution_count": 6,
   "metadata": {
    "nbpresent": {
     "id": "85d1ab90-cc65-4935-808b-a6f57ecc892e"
    }
   },
   "outputs": [
    {
     "name": "stdout",
     "output_type": "stream",
     "text": [
      "Hola Andres\n"
     ]
    }
   ],
   "source": [
    "def saluda(nombre):\n",
    "    print(\"Hola \" + nombre)\n",
    "saluda(\"Andres\")\n"
   ]
  },
  {
   "cell_type": "markdown",
   "metadata": {
    "nbpresent": {
     "id": "d99a804c-9444-418b-bc94-3c2f064e2844"
    }
   },
   "source": [
    "Al definir una función conseguimos reutilizar la funcionalidad implementada las veces que queramos, simplemente llamando a la función en las partes del programa en que necesitemos dicha funcionalidad. Por ejemplo, ahora puedo realizar varios saludos, uno tras otro:"
   ]
  },
  {
   "cell_type": "code",
   "execution_count": 7,
   "metadata": {
    "nbpresent": {
     "id": "86172e20-fe16-447d-859f-24a81e563011"
    }
   },
   "outputs": [
    {
     "name": "stdout",
     "output_type": "stream",
     "text": [
      "Hola John\n",
      "Hola Paul\n",
      "Hola George\n",
      "Hola Ringo\n"
     ]
    }
   ],
   "source": [
    "def saluda(nombre):\n",
    "    print(\"Hola \" + nombre)\n",
    "saluda(\"John\")\n",
    "saluda(\"Paul\")\n",
    "saluda(\"George\")\n",
    "saluda(\"Ringo\")"
   ]
  },
  {
   "cell_type": "markdown",
   "metadata": {},
   "source": [
    "### ¡Prueba tú!"
   ]
  },
  {
   "cell_type": "markdown",
   "metadata": {},
   "source": [
    "Define una función llamada *saluda_educado* que reciba un nombre como parámetro, imprima el mismo saludo personalizado que la función saluda, y a continuación imprima el texto \"Encantado de conocerle\".\n",
    "\n",
    "**¡Truco!:** puedes llamar a la función anterior *saluda* desde el cuerpo de la nueva función *saluda_educado*."
   ]
  },
  {
   "cell_type": "code",
   "execution_count": 18,
   "metadata": {},
   "outputs": [
    {
     "name": "stdout",
     "output_type": "stream",
     "text": [
      "Hola Andres\n",
      "Encantado de conocerte \n"
     ]
    }
   ],
   "source": [
    "def saluda(nombre):\n",
    "    print(\"Hola \"+ nombre)\n",
    "def saluda_educado(nombre):\n",
    "    '''\n",
    "        Esta funcion imprime por pantalla un saludo educado\n",
    "    '''\n",
    "    saluda(nombre)\n",
    "    print(\"Encantado de conocerte.\")\n",
    "\n",
    "saluda_educado(\"Andres\")\n",
    "\n"
   ]
  },
  {
   "cell_type": "markdown",
   "metadata": {},
   "source": [
    "## 2. Expresiones y tipos"
   ]
  },
  {
   "cell_type": "markdown",
   "metadata": {
    "nbpresent": {
     "id": "9659b1c1-9aed-4d71-b830-4a60d408ad71"
    }
   },
   "source": [
    "En la instrucción que hemos escrito al definir la función *saluda*:\n",
    "```python \n",
    "print(\"Hola, \" + nombre)\n",
    "```\n",
    "\n",
    "hemos usado un **operador**, el signo +, que sirve para concatenar las dos cadenas de texto: la cadena *\"Hola, \"* y la cadena contenida en el parámetro *nombre*. \n",
    "\n",
    "El uso de operadores es habitual en todos los lenguajes de programación. Llamamos **expresiones** a las instrucciones formadas por operadores (como el +), literales (como la cadena *\"Hola, \"*) y variables (como el parámetro *nombre*). Una expresión es siempre evaluada por Python, para obtener un resultado, antes de seguir ejecutando el resto de instrucciones del programa. \n",
    "\n",
    "Veamos algunos ejemplos de expresiones utilizando los **operadores aritméticos**. Prueba a cambiar los ejemplos que se muestran para experimentar un poco."
   ]
  },
  {
   "cell_type": "code",
   "execution_count": 10,
   "metadata": {
    "nbpresent": {
     "id": "5a579720-fa62-4525-85e3-dd049cbd73be"
    }
   },
   "outputs": [
    {
     "data": {
      "text/plain": [
       "8"
      ]
     },
     "execution_count": 10,
     "metadata": {},
     "output_type": "execute_result"
    }
   ],
   "source": [
    "3 + 5"
   ]
  },
  {
   "cell_type": "code",
   "execution_count": 13,
   "metadata": {
    "nbpresent": {
     "id": "f6847886-4044-43a7-9edd-f18efddcb7a9"
    }
   },
   "outputs": [
    {
     "data": {
      "text/plain": [
       "43"
      ]
     },
     "execution_count": 13,
     "metadata": {},
     "output_type": "execute_result"
    }
   ],
   "source": [
    "3 + 5 * 8"
   ]
  },
  {
   "cell_type": "code",
   "execution_count": 14,
   "metadata": {
    "nbpresent": {
     "id": "5d433d13-f44a-45bb-91fd-406f60b33b67"
    }
   },
   "outputs": [
    {
     "data": {
      "text/plain": [
       "64"
      ]
     },
     "execution_count": 14,
     "metadata": {},
     "output_type": "execute_result"
    }
   ],
   "source": [
    "(3 + 5) * 8"
   ]
  },
  {
   "cell_type": "code",
   "execution_count": 15,
   "metadata": {},
   "outputs": [
    {
     "data": {
      "text/plain": [
       "4.571428571428571"
      ]
     },
     "execution_count": 15,
     "metadata": {},
     "output_type": "execute_result"
    }
   ],
   "source": [
    "(3 + 5) * 8 / 14"
   ]
  },
  {
   "cell_type": "markdown",
   "metadata": {},
   "source": [
    "### ¡Prueba tú!"
   ]
  },
  {
   "cell_type": "code",
   "execution_count": 30,
   "metadata": {},
   "outputs": [
    {
     "name": "stdout",
     "output_type": "stream",
     "text": [
      "0\n",
      "112\n",
      "112.5\n",
      "25\n",
      "10\n"
     ]
    }
   ],
   "source": [
    "# Escribe alguna expresión usando operadores aritméticos. Además de los anteriores tienes los siguientes:\n",
    "# - // % **\n",
    "print(10%2)\n",
    "print(225//2)\n",
    "print(225/2)\n",
    "print(5**2)\n",
    "print(5*2)\n",
    "\n"
   ]
  },
  {
   "cell_type": "markdown",
   "metadata": {},
   "source": [
    "En las expresiones también podemos usar llamadas a funciones, siempre que sean funciones que devuelvan algún resultado. Para que una función devuelva un valor cuando sea invocada, usaremos la instrucción **return** en algún punto del cuerpo de la función (casi siempre, al final del cuerpo de la función). Por ejemplo:"
   ]
  },
  {
   "cell_type": "code",
   "execution_count": 31,
   "metadata": {},
   "outputs": [
    {
     "data": {
      "text/plain": [
       "20"
      ]
     },
     "execution_count": 31,
     "metadata": {},
     "output_type": "execute_result"
    }
   ],
   "source": [
    "def doble(x):\n",
    "    return x * 2\n",
    "\n",
    "doble(10)"
   ]
  },
  {
   "cell_type": "markdown",
   "metadata": {
    "nbpresent": {
     "id": "ee1bdf03-6e13-4f1f-9dc9-22d4e344fdba"
    }
   },
   "source": [
    "A veces necesitamos guardar el resultado de una expresión para utilizarlo más adelante en nuestro programa. Para esto se usan las **variables**. "
   ]
  },
  {
   "cell_type": "code",
   "execution_count": 32,
   "metadata": {
    "nbpresent": {
     "id": "14d1a927-b37f-4323-9404-17d453f3b487"
    }
   },
   "outputs": [
    {
     "name": "stdout",
     "output_type": "stream",
     "text": [
      "25.6\n"
     ]
    }
   ],
   "source": [
    "resultado = (3 + 5) * doble(8)\n",
    "print(resultado / 5)"
   ]
  },
  {
   "cell_type": "markdown",
   "metadata": {
    "nbpresent": {
     "id": "c71a78d7-9d0e-4825-9c84-9998f971317d"
    }
   },
   "source": [
    "Hemos **asignado** a la variable *resultado* el valor de la expresión que hemos escrito a la derecha del carácter igual (=), de manera que más adelante en el programa podremos utilizar ese valor haciendo mención a la variable. A este carácter igual lo llamamos instrucción de **asignación**."
   ]
  },
  {
   "cell_type": "markdown",
   "metadata": {},
   "source": [
    "### ¡Prueba tú!"
   ]
  },
  {
   "cell_type": "markdown",
   "metadata": {},
   "source": [
    "Intenta definir una función de nombre *descuento* que reciba como parámetro un valor y un porcentaje y devuelva el resultado de aplicar el descuento correspondiente al porcentaje sobre el valor indicado."
   ]
  },
  {
   "cell_type": "code",
   "execution_count": 37,
   "metadata": {},
   "outputs": [
    {
     "name": "stdout",
     "output_type": "stream",
     "text": [
      "50.0\n"
     ]
    }
   ],
   "source": [
    "# Define aquí la función\n",
    "def descuento(valor,descuento):\n",
    "    return (valor*descuento)/100;\n",
    "print(descuento(100,50))\n",
    "\n",
    "\n"
   ]
  },
  {
   "cell_type": "markdown",
   "metadata": {},
   "source": [
    "Cuando la termines de escribir, puedes ejecutar esta prueba:"
   ]
  },
  {
   "cell_type": "code",
   "execution_count": 38,
   "metadata": {},
   "outputs": [
    {
     "name": "stdout",
     "output_type": "stream",
     "text": [
      "Precio con 10% de descuento: 20.0\n"
     ]
    }
   ],
   "source": [
    "def descuento(valor,descuento):\n",
    "    return (valor*descuento)/100;\n",
    "precio = 200\n",
    "print(\"Precio con 10% de descuento:\", descuento(precio, 10))"
   ]
  },
  {
   "cell_type": "markdown",
   "metadata": {},
   "source": [
    "En los ejemplos anteriores, hemos utilizado **literales** de tipo **cadena de caracteres** (por ejemplo, *\"Hola, mundo!\"*) y literales de tipo número **entero** (por ejemplo, *3*, *5* y *8*). Hay más tipos de literales, por ejemplo literales de tipo número **real** o de tipo **lógico**: "
   ]
  },
  {
   "cell_type": "code",
   "execution_count": 39,
   "metadata": {
    "nbpresent": {
     "id": "80be6133-d85a-4e43-9964-6578abcbaaac"
    }
   },
   "outputs": [
    {
     "name": "stdout",
     "output_type": "stream",
     "text": [
      "El área del círculo es 7.0685775\n",
      "¿Es el área superior al umbral? False\n"
     ]
    }
   ],
   "source": [
    "PI = 3.14159\n",
    "radio = 1.5\n",
    "area = PI * radio**2   # El operador ** sirve para calcular potencias\n",
    "print(\"El área del círculo es\", area)\n",
    "\n",
    "umbral = 100.0\n",
    "area_superior_umbral = area > umbral  \n",
    "# El carácter > es un operador relacional, se evalúa como True (verdadero) o False (falso)\n",
    "print(\"¿Es el área superior al umbral?\", area_superior_umbral)"
   ]
  },
  {
   "cell_type": "markdown",
   "metadata": {},
   "source": [
    "## 3. Listas y tuplas"
   ]
  },
  {
   "cell_type": "markdown",
   "metadata": {
    "nbpresent": {
     "id": "9b7597e9-aaa9-4d9f-ba0d-22f43d1a3900"
    }
   },
   "source": [
    "Cuando necesitamos almacenar varios datos en una sola variable, utilizamos literales de tipo **lista**:"
   ]
  },
  {
   "cell_type": "code",
   "execution_count": 40,
   "metadata": {
    "nbpresent": {
     "id": "0281a659-abae-4cb9-b30f-b552b9db399e"
    }
   },
   "outputs": [
    {
     "name": "stdout",
     "output_type": "stream",
     "text": [
      "[28.5, 27.8, 29.5, 32.1, 30.7, 25.5, 26.0]\n"
     ]
    }
   ],
   "source": [
    "temperaturas = [28.5, 27.8, 29.5, 32.1, 30.7, 25.5, 26.0]\n",
    "print(temperaturas)"
   ]
  },
  {
   "cell_type": "code",
   "execution_count": 41,
   "metadata": {},
   "outputs": [
    {
     "name": "stdout",
     "output_type": "stream",
     "text": [
      "['Spiderman', 'Iron Man', 'Lobezno', 'Capitán América', 'Hulk']\n"
     ]
    }
   ],
   "source": [
    "heroes = [\"Spiderman\", \"Iron Man\", \"Lobezno\", \"Capitán América\", \"Hulk\"]\n",
    "print(heroes)"
   ]
  },
  {
   "cell_type": "markdown",
   "metadata": {
    "collapsed": true
   },
   "source": [
    "O, a veces, de tipo **tupla**, que se escriben igual pero usando paréntesis en lugar de corchetes:"
   ]
  },
  {
   "cell_type": "code",
   "execution_count": 42,
   "metadata": {
    "scrolled": true
   },
   "outputs": [
    {
     "name": "stdout",
     "output_type": "stream",
     "text": [
      "('Mark', 'Lenders')\n"
     ]
    }
   ],
   "source": [
    "usuario = (\"Mark\", \"Lenders\")\n",
    "print(usuario)"
   ]
  },
  {
   "cell_type": "markdown",
   "metadata": {},
   "source": [
    "Ambos, listas y tuplas, se parecen mucho (ya veremos algunas diferencias más adelante). Podemos acceder a un elemento concreto, indicando el **índice** de dicho elemento (es decir, la posición que ocupa dentro de la lista o tupla, contando desde la izquierda):"
   ]
  },
  {
   "cell_type": "code",
   "execution_count": 48,
   "metadata": {},
   "outputs": [
    {
     "data": {
      "text/plain": [
       "29.0"
      ]
     },
     "execution_count": 48,
     "metadata": {},
     "output_type": "execute_result"
    }
   ],
   "source": [
    "temperaturas[0]   # La primera posición corresponde al índice 0"
   ]
  },
  {
   "cell_type": "code",
   "execution_count": 44,
   "metadata": {},
   "outputs": [
    {
     "data": {
      "text/plain": [
       "'Hulk'"
      ]
     },
     "execution_count": 44,
     "metadata": {},
     "output_type": "execute_result"
    }
   ],
   "source": [
    "heroes[4]"
   ]
  },
  {
   "cell_type": "code",
   "execution_count": 47,
   "metadata": {},
   "outputs": [
    {
     "data": {
      "text/plain": [
       "'Lenders'"
      ]
     },
     "execution_count": 47,
     "metadata": {},
     "output_type": "execute_result"
    }
   ],
   "source": [
    "usuario[1]"
   ]
  },
  {
   "cell_type": "code",
   "execution_count": null,
   "metadata": {},
   "outputs": [],
   "source": [
    "temperaturas = [28.5, 27.8, 29.5, 32.1, 30.7, 25.5, 26.0]\n",
    "temperaturas[1] = 27.0\n",
    "# Puedo asignar un valor a una posición cualquiera de una lista\n",
    "print(temperaturas)"
   ]
  },
  {
   "cell_type": "code",
   "execution_count": 46,
   "metadata": {},
   "outputs": [
    {
     "name": "stdout",
     "output_type": "stream",
     "text": [
      "[29.0, 27.8, 29.5, 32.1, 30.7, 25.5, 26.0]\n"
     ]
    }
   ],
   "source": [
    "temperaturas[0] = temperaturas[0] + 0.5\n",
    "# Incrementamos en 0.5 grados la primera temperatura de la lista\n",
    "print(temperaturas)"
   ]
  },
  {
   "cell_type": "markdown",
   "metadata": {},
   "source": [
    "También podemos conocer en cualquier momento el número total de elementos dentro de una lista o una tupla mediante la función predefinida **len**:"
   ]
  },
  {
   "cell_type": "code",
   "execution_count": 49,
   "metadata": {},
   "outputs": [
    {
     "data": {
      "text/plain": [
       "7"
      ]
     },
     "execution_count": 49,
     "metadata": {},
     "output_type": "execute_result"
    }
   ],
   "source": [
    "len(temperaturas)"
   ]
  },
  {
   "cell_type": "code",
   "execution_count": 50,
   "metadata": {},
   "outputs": [
    {
     "data": {
      "text/plain": [
       "2"
      ]
     },
     "execution_count": 50,
     "metadata": {},
     "output_type": "execute_result"
    }
   ],
   "source": [
    "len(usuario)"
   ]
  },
  {
   "cell_type": "markdown",
   "metadata": {},
   "source": [
    "---\n",
    "**¡Cuidado!** No podemos asignar valores a las posiciones de una tupla. Prueba a ejecutar este código:"
   ]
  },
  {
   "cell_type": "code",
   "execution_count": 51,
   "metadata": {},
   "outputs": [
    {
     "ename": "TypeError",
     "evalue": "'tuple' object does not support item assignment",
     "output_type": "error",
     "traceback": [
      "\u001b[1;31m---------------------------------------------------------------------------\u001b[0m",
      "\u001b[1;31mTypeError\u001b[0m                                 Traceback (most recent call last)",
      "\u001b[1;32m<ipython-input-51-4064d3d57ed0>\u001b[0m in \u001b[0;36m<module>\u001b[1;34m\u001b[0m\n\u001b[1;32m----> 1\u001b[1;33m \u001b[0musuario\u001b[0m\u001b[1;33m[\u001b[0m\u001b[1;36m0\u001b[0m\u001b[1;33m]\u001b[0m \u001b[1;33m=\u001b[0m \u001b[1;34m\"Marcos\"\u001b[0m \u001b[1;31m# Cambiemos el nombre del usuario\u001b[0m\u001b[1;33m\u001b[0m\u001b[1;33m\u001b[0m\u001b[0m\n\u001b[0m",
      "\u001b[1;31mTypeError\u001b[0m: 'tuple' object does not support item assignment"
     ]
    }
   ],
   "source": [
    "usuario[0] = \"Marcos\" # Cambiemos el nombre del usuario"
   ]
  },
  {
   "cell_type": "markdown",
   "metadata": {},
   "source": [
    "Decimos que las tuplas son un **tipo inmutable**, lo que significa que una vez que hemos guardado un valor en una variable de este tipo, ¡ya no podremos cambiarlo!\n",
    "\n",
    "Lo que acaba de ocurrir es un **error en tiempo de ejecución**. Estos errores ocurren frecuentemente mientras estamos escribiendo y probando nuestros programas, y significan que no hemos hecho algo de la manera correcta. Cuando se produce uno de estos errores, el programa deja de ejecutarse. Cuando nuestro programa esté acabado y bien probado, no debería ocurrir ninguno de estos errores... Aunque ocasionalmente ocurre. Seguro que te suena esta ventana:\n",
    "\n",
    "![title](img001.png)\n"
   ]
  },
  {
   "cell_type": "markdown",
   "metadata": {},
   "source": [
    "### ¡Prueba tú!"
   ]
  },
  {
   "cell_type": "markdown",
   "metadata": {},
   "source": [
    "Los elementos de la lista *temperaturas* son números reales. Pero una lista puede contener elementos del tipo que quieras. Intenta definir una lista *usuarios*, en la que cada elemento sea una tupla *(nombre, apellido)*, como la tupla *usuario* que hemos definido anteriormente. Aquí tienes algunos pares nombre-apellido que puedes meter en la lista:\n",
    "* Mark Lenders\n",
    "* Oliver Atom\n",
    "* Benji Price"
   ]
  },
  {
   "cell_type": "code",
   "execution_count": 87,
   "metadata": {},
   "outputs": [
    {
     "name": "stdout",
     "output_type": "stream",
     "text": [
      "[('Mark', 'Lenders'), ('Oliver', 'Atom'), ('Benji', 'Price')]\n"
     ]
    }
   ],
   "source": [
    "# Completa la instrucción siguiente:\n",
    "usuarios = [(\"Mark\",\"Lenders\"), (\"Oliver\",\"Atom\"), (\"Benji\",\"Price\")]\n",
    "print(usuarios)"
   ]
  },
  {
   "cell_type": "markdown",
   "metadata": {},
   "source": [
    "## 4. Diccionarios\n",
    "\n",
    "Existen más tipos como las listas y las tuplas, que permiten almacenar conjuntos de datos. Uno muy utilizado es el **diccionario**. En un diccionario, cada valor almacenado se asocia a una clave, de manera que para acceder a los **valores** se utilizan dichas **claves** (de forma parecida a como para acceder a los valores de una lista se utilizan los índices).\n"
   ]
  },
  {
   "cell_type": "markdown",
   "metadata": {},
   "source": [
    "Puedes pensar en un diccionario como si se tratara de una tabla con dos columnas. Por ejemplo, un diccionario podría almacenar las temperaturas medias de las capitales andaluzas, indexando dichos valores mediante los nombres de las capitales:\n",
    "\n",
    "|Clave|Valor|\n",
    "|---|---|\n",
    "|\"Almería\"|19.9|\n",
    "|\"Cádiz\"| 19.1|\n",
    "|\"Córdoba\"| 19.1|\n",
    "|\"Granada\"|16.6|\n",
    "|\"Jaén\"|18.2|\n",
    "|\"Huelva\"|19.0|\n",
    "|\"Málaga\"|19.8|\n",
    "|\"Sevilla\"|20.0|\n",
    "\n",
    "Lo cual se escribiría en Python de la siguiente manera:"
   ]
  },
  {
   "cell_type": "code",
   "execution_count": 54,
   "metadata": {},
   "outputs": [
    {
     "name": "stdout",
     "output_type": "stream",
     "text": [
      "{'Almería': 19.9, 'Cádiz': 19.1, 'Córdoba': 19.1, 'Granada': 16.6, 'Jaén': 18.2, 'Huelva': 19.0, 'Málaga': 19.8, 'Sevilla': 20.0}\n"
     ]
    }
   ],
   "source": [
    "temperaturaMedia = {\"Almería\": 19.9, \"Cádiz\": 19.1, \"Córdoba\": 19.1, \"Granada\": 16.6, \n",
    "                    \"Jaén\": 18.2, \"Huelva\": 19.0, \"Málaga\": 19.8, \"Sevilla\": 20.0}\n",
    "print(temperaturaMedia)"
   ]
  },
  {
   "cell_type": "markdown",
   "metadata": {},
   "source": [
    "Ahora podemos trabajar con los datos del diccionario de forma parecida a las listas, aunque usando las claves para acceder a los valores, en lugar de los índices."
   ]
  },
  {
   "cell_type": "code",
   "execution_count": 55,
   "metadata": {},
   "outputs": [
    {
     "name": "stdout",
     "output_type": "stream",
     "text": [
      "Temperatura anterior: 20.0\n",
      "Temperatura actual: 21.0\n"
     ]
    }
   ],
   "source": [
    "print(\"Temperatura anterior:\", temperaturaMedia['Sevilla'])\n",
    "temperaturaMedia['Sevilla'] += 1.0   # ¡Cambio climático!\n",
    "print(\"Temperatura actual:\", temperaturaMedia['Sevilla'])"
   ]
  },
  {
   "cell_type": "markdown",
   "metadata": {},
   "source": [
    "### ¡Prueba tú!\n",
    "\n",
    "Intenta definir un diccionario en el que las claves sean los usuarios que definiste en el ejercicio anterior, y los valores asociados sean las claves de acceso a un sistema."
   ]
  },
  {
   "cell_type": "code",
   "execution_count": 57,
   "metadata": {},
   "outputs": [
    {
     "name": "stdout",
     "output_type": "stream",
     "text": [
      "MarkLenders01\n"
     ]
    }
   ],
   "source": [
    "# Completa la instrucción siguiente:\n",
    "claves = {\"MarkL\":\"MarkLenders01\",\"OliverA\":\"OliverAtom02\",\"BenjiP\":\"BenjiPrice03\"}\n",
    "print(claves[\"MarkL\"])"
   ]
  },
  {
   "cell_type": "markdown",
   "metadata": {},
   "source": [
    "## 5. Objetos"
   ]
  },
  {
   "cell_type": "markdown",
   "metadata": {},
   "source": [
    "Si queremos añadir un elemento a la lista *temperaturas*, podemos hacerlo así:"
   ]
  },
  {
   "cell_type": "code",
   "execution_count": 58,
   "metadata": {},
   "outputs": [
    {
     "name": "stdout",
     "output_type": "stream",
     "text": [
      "[29.0, 27.8, 29.5, 32.1, 30.7, 25.5, 26.0, 29.2]\n",
      "8\n"
     ]
    }
   ],
   "source": [
    "temperaturas.append(29.2)  # añade el valor 29.2 al final de la lista\n",
    "print(temperaturas)\n",
    "print(len(temperaturas))"
   ]
  },
  {
   "cell_type": "markdown",
   "metadata": {},
   "source": [
    "Cuando una variable (*temperaturas*) puede ser usada como en el ejemplo anterior, escribiendo un punto (.) y a continuación invocando a una función (*append*), decimos que la variable es un **objeto**, y a la función en cuestión la llamamos **método**. La principal diferencia entre un método y una función es que el primero sólo se puede llamar si tenemos previamente un objeto del tipo adecuado. Por ejemplo, el método *append* sólo puede ser invocado sobre un objeto de tipo lista. \n",
    "\n",
    "Intentemos llamar a *append* como si fuese una función:"
   ]
  },
  {
   "cell_type": "code",
   "execution_count": 59,
   "metadata": {},
   "outputs": [
    {
     "ename": "NameError",
     "evalue": "name 'append' is not defined",
     "output_type": "error",
     "traceback": [
      "\u001b[1;31m---------------------------------------------------------------------------\u001b[0m",
      "\u001b[1;31mNameError\u001b[0m                                 Traceback (most recent call last)",
      "\u001b[1;32m<ipython-input-59-7a2cbbc23a19>\u001b[0m in \u001b[0;36m<module>\u001b[1;34m\u001b[0m\n\u001b[1;32m----> 1\u001b[1;33m \u001b[0mappend\u001b[0m\u001b[1;33m(\u001b[0m\u001b[1;36m29.2\u001b[0m\u001b[1;33m)\u001b[0m\u001b[1;33m\u001b[0m\u001b[1;33m\u001b[0m\u001b[0m\n\u001b[0m",
      "\u001b[1;31mNameError\u001b[0m: name 'append' is not defined"
     ]
    }
   ],
   "source": [
    "append(29.2)"
   ]
  },
  {
   "cell_type": "markdown",
   "metadata": {},
   "source": [
    "Puedes ver todos los métodos que tiene un objeto mediante la función predefinida **dir**:"
   ]
  },
  {
   "cell_type": "code",
   "execution_count": 60,
   "metadata": {},
   "outputs": [
    {
     "data": {
      "text/plain": [
       "['__add__',\n",
       " '__class__',\n",
       " '__contains__',\n",
       " '__delattr__',\n",
       " '__delitem__',\n",
       " '__dir__',\n",
       " '__doc__',\n",
       " '__eq__',\n",
       " '__format__',\n",
       " '__ge__',\n",
       " '__getattribute__',\n",
       " '__getitem__',\n",
       " '__gt__',\n",
       " '__hash__',\n",
       " '__iadd__',\n",
       " '__imul__',\n",
       " '__init__',\n",
       " '__init_subclass__',\n",
       " '__iter__',\n",
       " '__le__',\n",
       " '__len__',\n",
       " '__lt__',\n",
       " '__mul__',\n",
       " '__ne__',\n",
       " '__new__',\n",
       " '__reduce__',\n",
       " '__reduce_ex__',\n",
       " '__repr__',\n",
       " '__reversed__',\n",
       " '__rmul__',\n",
       " '__setattr__',\n",
       " '__setitem__',\n",
       " '__sizeof__',\n",
       " '__str__',\n",
       " '__subclasshook__',\n",
       " 'append',\n",
       " 'clear',\n",
       " 'copy',\n",
       " 'count',\n",
       " 'extend',\n",
       " 'index',\n",
       " 'insert',\n",
       " 'pop',\n",
       " 'remove',\n",
       " 'reverse',\n",
       " 'sort']"
      ]
     },
     "execution_count": 60,
     "metadata": {},
     "output_type": "execute_result"
    }
   ],
   "source": [
    "dir(temperaturas)"
   ]
  },
  {
   "cell_type": "markdown",
   "metadata": {},
   "source": [
    "Y si quieres una descripción más detallada de cada método, puedes usar la función **help**, que ya hemos usado anteriormente."
   ]
  },
  {
   "cell_type": "code",
   "execution_count": 61,
   "metadata": {},
   "outputs": [
    {
     "name": "stdout",
     "output_type": "stream",
     "text": [
      "Help on list object:\n",
      "\n",
      "class list(object)\n",
      " |  list(iterable=(), /)\n",
      " |  \n",
      " |  Built-in mutable sequence.\n",
      " |  \n",
      " |  If no argument is given, the constructor creates a new empty list.\n",
      " |  The argument must be an iterable if specified.\n",
      " |  \n",
      " |  Methods defined here:\n",
      " |  \n",
      " |  __add__(self, value, /)\n",
      " |      Return self+value.\n",
      " |  \n",
      " |  __contains__(self, key, /)\n",
      " |      Return key in self.\n",
      " |  \n",
      " |  __delitem__(self, key, /)\n",
      " |      Delete self[key].\n",
      " |  \n",
      " |  __eq__(self, value, /)\n",
      " |      Return self==value.\n",
      " |  \n",
      " |  __ge__(self, value, /)\n",
      " |      Return self>=value.\n",
      " |  \n",
      " |  __getattribute__(self, name, /)\n",
      " |      Return getattr(self, name).\n",
      " |  \n",
      " |  __getitem__(...)\n",
      " |      x.__getitem__(y) <==> x[y]\n",
      " |  \n",
      " |  __gt__(self, value, /)\n",
      " |      Return self>value.\n",
      " |  \n",
      " |  __iadd__(self, value, /)\n",
      " |      Implement self+=value.\n",
      " |  \n",
      " |  __imul__(self, value, /)\n",
      " |      Implement self*=value.\n",
      " |  \n",
      " |  __init__(self, /, *args, **kwargs)\n",
      " |      Initialize self.  See help(type(self)) for accurate signature.\n",
      " |  \n",
      " |  __iter__(self, /)\n",
      " |      Implement iter(self).\n",
      " |  \n",
      " |  __le__(self, value, /)\n",
      " |      Return self<=value.\n",
      " |  \n",
      " |  __len__(self, /)\n",
      " |      Return len(self).\n",
      " |  \n",
      " |  __lt__(self, value, /)\n",
      " |      Return self<value.\n",
      " |  \n",
      " |  __mul__(self, value, /)\n",
      " |      Return self*value.\n",
      " |  \n",
      " |  __ne__(self, value, /)\n",
      " |      Return self!=value.\n",
      " |  \n",
      " |  __repr__(self, /)\n",
      " |      Return repr(self).\n",
      " |  \n",
      " |  __reversed__(self, /)\n",
      " |      Return a reverse iterator over the list.\n",
      " |  \n",
      " |  __rmul__(self, value, /)\n",
      " |      Return value*self.\n",
      " |  \n",
      " |  __setitem__(self, key, value, /)\n",
      " |      Set self[key] to value.\n",
      " |  \n",
      " |  __sizeof__(self, /)\n",
      " |      Return the size of the list in memory, in bytes.\n",
      " |  \n",
      " |  append(self, object, /)\n",
      " |      Append object to the end of the list.\n",
      " |  \n",
      " |  clear(self, /)\n",
      " |      Remove all items from list.\n",
      " |  \n",
      " |  copy(self, /)\n",
      " |      Return a shallow copy of the list.\n",
      " |  \n",
      " |  count(self, value, /)\n",
      " |      Return number of occurrences of value.\n",
      " |  \n",
      " |  extend(self, iterable, /)\n",
      " |      Extend list by appending elements from the iterable.\n",
      " |  \n",
      " |  index(self, value, start=0, stop=9223372036854775807, /)\n",
      " |      Return first index of value.\n",
      " |      \n",
      " |      Raises ValueError if the value is not present.\n",
      " |  \n",
      " |  insert(self, index, object, /)\n",
      " |      Insert object before index.\n",
      " |  \n",
      " |  pop(self, index=-1, /)\n",
      " |      Remove and return item at index (default last).\n",
      " |      \n",
      " |      Raises IndexError if list is empty or index is out of range.\n",
      " |  \n",
      " |  remove(self, value, /)\n",
      " |      Remove first occurrence of value.\n",
      " |      \n",
      " |      Raises ValueError if the value is not present.\n",
      " |  \n",
      " |  reverse(self, /)\n",
      " |      Reverse *IN PLACE*.\n",
      " |  \n",
      " |  sort(self, /, *, key=None, reverse=False)\n",
      " |      Sort the list in ascending order and return None.\n",
      " |      \n",
      " |      The sort is in-place (i.e. the list itself is modified) and stable (i.e. the\n",
      " |      order of two equal elements is maintained).\n",
      " |      \n",
      " |      If a key function is given, apply it once to each list item and sort them,\n",
      " |      ascending or descending, according to their function values.\n",
      " |      \n",
      " |      The reverse flag can be set to sort in descending order.\n",
      " |  \n",
      " |  ----------------------------------------------------------------------\n",
      " |  Static methods defined here:\n",
      " |  \n",
      " |  __new__(*args, **kwargs) from builtins.type\n",
      " |      Create and return a new object.  See help(type) for accurate signature.\n",
      " |  \n",
      " |  ----------------------------------------------------------------------\n",
      " |  Data and other attributes defined here:\n",
      " |  \n",
      " |  __hash__ = None\n",
      "\n"
     ]
    }
   ],
   "source": [
    "help(temperaturas)"
   ]
  },
  {
   "cell_type": "markdown",
   "metadata": {},
   "source": [
    "### ¡Prueba tú!"
   ]
  },
  {
   "cell_type": "markdown",
   "metadata": {},
   "source": [
    "Intenta utilizar algunos de los métodos del objeto *temperaturas*:"
   ]
  },
  {
   "cell_type": "code",
   "execution_count": 67,
   "metadata": {},
   "outputs": [
    {
     "ename": "ValueError",
     "evalue": "28.5 is not in list",
     "output_type": "error",
     "traceback": [
      "\u001b[1;31m---------------------------------------------------------------------------\u001b[0m",
      "\u001b[1;31mValueError\u001b[0m                                Traceback (most recent call last)",
      "\u001b[1;32m<ipython-input-67-3f929f0c75db>\u001b[0m in \u001b[0;36m<module>\u001b[1;34m\u001b[0m\n\u001b[1;32m----> 1\u001b[1;33m \u001b[0mtemperaturas\u001b[0m\u001b[1;33m.\u001b[0m\u001b[0mindex\u001b[0m\u001b[1;33m(\u001b[0m\u001b[1;36m28.5\u001b[0m\u001b[1;33m)\u001b[0m\u001b[1;33m\u001b[0m\u001b[1;33m\u001b[0m\u001b[0m\n\u001b[0m\u001b[0;32m      2\u001b[0m \u001b[1;33m\u001b[0m\u001b[0m\n\u001b[0;32m      3\u001b[0m \u001b[1;33m\u001b[0m\u001b[0m\n",
      "\u001b[1;31mValueError\u001b[0m: 28.5 is not in list"
     ]
    }
   ],
   "source": [
    "temperaturas.index()\n",
    "\n",
    "\n"
   ]
  },
  {
   "cell_type": "markdown",
   "metadata": {},
   "source": [
    "## 6. Control del flujo de ejecución"
   ]
  },
  {
   "cell_type": "markdown",
   "metadata": {},
   "source": [
    "Podemos utilizar la instrucción **for** para recorrer los elementos de una lista o una tupla. Llamamos a esto un **bucle**."
   ]
  },
  {
   "cell_type": "code",
   "execution_count": 68,
   "metadata": {},
   "outputs": [
    {
     "name": "stdout",
     "output_type": "stream",
     "text": [
      "Temperatura: 29.0\n",
      "Temperatura: 27.8\n",
      "Temperatura: 29.5\n",
      "Temperatura: 32.1\n",
      "Temperatura: 30.7\n",
      "Temperatura: 25.5\n",
      "Temperatura: 26.0\n",
      "Temperatura: 29.2\n"
     ]
    }
   ],
   "source": [
    "for temperatura in temperaturas:    # Se puede leer así: para cada valor \"temperatura\" en la lista \"temperaturas\"\n",
    "    print(\"Temperatura:\", temperatura)"
   ]
  },
  {
   "cell_type": "markdown",
   "metadata": {},
   "source": [
    "En el código anterior, la instrucción que aparece indentada se ejecuta una vez para cada elemento de la lista *temperaturas*. En cada ejecución, la variable *temperatura* almacena un elemento distinto de la lista, comenzando por el primero y pasando por cada elemento secuencialmente. Date cuenta también de que la función predefinida *print* se puede usar con varios parámetros, en cuyo caso mostrará cada uno de ellos por pantalla.\n",
    "\n",
    "Veamos otro ejemplo de bucle:"
   ]
  },
  {
   "cell_type": "code",
   "execution_count": 69,
   "metadata": {},
   "outputs": [
    {
     "name": "stdout",
     "output_type": "stream",
     "text": [
      "La temperatura media en la semana ha sido 28.724999999999998 grados.\n"
     ]
    }
   ],
   "source": [
    "suma = 0\n",
    "for temperatura in temperaturas:\n",
    "    suma += temperatura\n",
    "    # El operador += almacena en \"suma\" el resultado de sumar \"temperatura\" al valor anterior de \"suma\"\n",
    "print(\"La temperatura media en la semana ha sido\", suma / len(temperaturas), \"grados.\")"
   ]
  },
  {
   "cell_type": "markdown",
   "metadata": {},
   "source": [
    "Aunque realmente no hace falta hacer un bucle para sumar los elementos de una lista, ya que esto mismo podemos hacerlo en Python con la función predefinida **sum**."
   ]
  },
  {
   "cell_type": "code",
   "execution_count": 70,
   "metadata": {},
   "outputs": [
    {
     "name": "stdout",
     "output_type": "stream",
     "text": [
      "La temperatura media en la semana ha sido 28.724999999999998 grados.\n"
     ]
    }
   ],
   "source": [
    "print(\"La temperatura media en la semana ha sido\", sum(temperaturas) / len(temperaturas), \"grados.\")"
   ]
  },
  {
   "cell_type": "markdown",
   "metadata": {},
   "source": [
    "La instrucción *for* es una instrucción de **control del flujo de ejecución**, pues permite que la secuencia en que se van ejecutando las distintas instrucciones varíe con respecto a la ejecución esperada (recordemos que, por defecto, las instrucciones se van ejecutando una tras otra, en el orden en que las hemos escrito, y una sola vez). Otra instrucción que también altera el flujo normal de ejecución es la instrucción **if**. Veamos un ejemplo:"
   ]
  },
  {
   "cell_type": "code",
   "execution_count": 71,
   "metadata": {},
   "outputs": [
    {
     "name": "stdout",
     "output_type": "stream",
     "text": [
      "Buenos días, Antonio\n",
      "Buenas tardes, Antonio\n",
      "Buenas noches, Antonio\n"
     ]
    }
   ],
   "source": [
    "def saluda(nombre, hora):\n",
    "    if hora < 12:     # Si el parámetro \"hora\" es menor de 12, se ejecuta el siguiente bloque de instrucciones\n",
    "        print(\"Buenos días, \" + nombre)\n",
    "    elif hora < 21:   # En otro caso, si el parámetro \"hora\" es menor de 21, se ejecuta el siguiente bloque de instrucciones\n",
    "        print(\"Buenas tardes, \" + nombre)\n",
    "    else:           # En cualquier otro caso, se ejecuta el siguiente bloque de instrucciones\n",
    "        print(\"Buenas noches, \" + nombre)\n",
    "\n",
    "saluda(\"Antonio\", 11)\n",
    "saluda(\"Antonio\", 16)\n",
    "saluda(\"Antonio\", 23)\n"
   ]
  },
  {
   "cell_type": "markdown",
   "metadata": {},
   "source": [
    "Observa que las **palabras clave** que se usan son **if**, **elif** y **else**, y que a continuación de las dos primeras se escribe una expresión lógica (es decir, una expresión cuyo resultado es de tipo lógico: verdadero o falso). Las instrucciones que aparecen tras la palabra **if** sólo se ejecutan si la expresión correspondiente se evalúa como verdadera. Las instrucciones que aparecen tras la palabra **elif** sólo se ejecutan si no se han ejecutado las anteriores, y si la expresión correspondiente se evalúa como verdadera. Las instrucciones que aparecen tras la palabra **else** sólo se ejecutan si no se han ejecutado ninguna de las anteriores. \n",
    "\n",
    "Aquí tienes otros ejemplos:"
   ]
  },
  {
   "cell_type": "code",
   "execution_count": 74,
   "metadata": {},
   "outputs": [],
   "source": [
    "temperaturaActual = temperaturas[6]\n",
    "if temperaturaActual < 0:  # Si la temperatura es menor de cero grados\n",
    "    print(\"¡Cuidado! Riesgo de congelación.\")\n"
   ]
  },
  {
   "cell_type": "code",
   "execution_count": 75,
   "metadata": {},
   "outputs": [
    {
     "name": "stdout",
     "output_type": "stream",
     "text": [
      "Hola, Mark. Te estaba esperando.\n"
     ]
    }
   ],
   "source": [
    "# Si el primer elemento de la tupla \"usuario\" es igual a \"Mark\" y el segundo elemento es igual a \"Lenders\"\n",
    "if usuario[0] == \"Mark\" and usuario[1] == \"Lenders\": \n",
    "    print(\"Hola, Mark. Te estaba esperando.\")\n",
    "else:  # En otro caso\n",
    "    print(\"Hola, ¿nos conocemos?\")\n"
   ]
  },
  {
   "cell_type": "code",
   "execution_count": 88,
   "metadata": {
    "scrolled": true
   },
   "outputs": [
    {
     "name": "stdout",
     "output_type": "stream",
     "text": [
      "Hola, Mark. Te estaba esperando.\n",
      "[('Mark', 'Lenders'), ('Oliver', 'Atom'), ('Benji', 'Price')]\n"
     ]
    }
   ],
   "source": [
    "def acceso_restringido(usuario):\n",
    "    if usuario[0] == \"Mark\" and usuario[1] == \"Lenders\": \n",
    "        print(\"Hola, Mark. Te estaba esperando.\")\n",
    "    elif usuario[0] == \"Oliver\" and usuario[1] == \"Atom\": \n",
    "        print(\"Hola, Oliver. Te estaba esperando.\")\n",
    "    elif usuario[0] == \"Benji\" and usuario[1] == \"Price\": \n",
    "        print(\"Hola, Benji. Te estaba esperando.\")\n",
    "    else:  \n",
    "        print(\"Hola, ¿nos conocemos?\")\n",
    "acceso_restringido(usuarios[0])"
   ]
  },
  {
   "cell_type": "markdown",
   "metadata": {},
   "source": [
    "Para escribir las expresiones lógicas se usan distintos **operadores lógicos** (como el operador **and**) y **operadores relacionales** (como los operadores **>** o **==**). Iremos viendo más operadores de estos tipos a medida que los vayamos necesitando."
   ]
  },
  {
   "cell_type": "markdown",
   "metadata": {},
   "source": [
    "### ¡Prueba tú!"
   ]
  },
  {
   "cell_type": "markdown",
   "metadata": {},
   "source": [
    "Escribe un bucle *for* para llamar a la función *acceso_restringido* pasándole cada uno de los elementos de la lista *usuarios*."
   ]
  },
  {
   "cell_type": "code",
   "execution_count": 89,
   "metadata": {},
   "outputs": [
    {
     "name": "stdout",
     "output_type": "stream",
     "text": [
      "Hola, Mark. Te estaba esperando.\n",
      "Hola, Oliver. Te estaba esperando.\n",
      "Hola, Benji. Te estaba esperando.\n"
     ]
    }
   ],
   "source": [
    "for usuario in usuarios:\n",
    "    acceso_restringido(usuario)\n"
   ]
  },
  {
   "cell_type": "markdown",
   "metadata": {},
   "source": [
    "## 7. Módulos y paquetes"
   ]
  },
  {
   "cell_type": "markdown",
   "metadata": {},
   "source": [
    "Además de las funciones predefinidas, hay muchas otras cosas que se pueden hacer con Python sin necesidad de implementar nosotros ninguna función ni tener que descargar o instalar nada en el ordenador. Eso sí, para poder hacer uso de estas funcionalidades incluidas en Python, es necesario **importar** el módulo o módulos donde están implementadas. Un **módulo** es cada uno de los ficheros con extensión .py en los que están escritos los programas en Python. Los módulos están agrupados en **paquetes**, que son parecidos a las carpetas del explorador de archivos de Windows.\n",
    "\n",
    "Por ejemplo, si queremos generar números aleatorios, podemos usar el módulo **random**. Antes de hacerlo, es necesario importarlo. Prueba a ejecutar varias veces el siguiente código y verás como cada vez se genera un número distinto:"
   ]
  },
  {
   "cell_type": "code",
   "execution_count": 92,
   "metadata": {},
   "outputs": [
    {
     "name": "stdout",
     "output_type": "stream",
     "text": [
      "9\n"
     ]
    }
   ],
   "source": [
    "import random\n",
    "\n",
    "print(random.randint(1, 10))"
   ]
  },
  {
   "cell_type": "markdown",
   "metadata": {},
   "source": [
    "Fíjate que para llamar a la función randint, que está definida dentro del módulo random, debemos escribir *random.randint(...)*. Si vamos a usar muy a menudo la función en nuestro código, también podemos importarla así:"
   ]
  },
  {
   "cell_type": "code",
   "execution_count": 95,
   "metadata": {},
   "outputs": [
    {
     "name": "stdout",
     "output_type": "stream",
     "text": [
      "4\n"
     ]
    }
   ],
   "source": [
    "from random import randint\n",
    "\n",
    "print(randint(1, 10))"
   ]
  },
  {
   "cell_type": "markdown",
   "metadata": {},
   "source": [
    "De esta manera ya no es necesario indicar la ubicación de la función cada vez que la llamemos. Aunque es más cómodo, no es del todo recomendable, como veremos más adelante.\n",
    "\n",
    "¿Y si queremos generar, pongamos, 20 números aleatorios, entre 1 y 10? Podemos hacerlo con la instrucción **for**, la misma que utilizamos antes para recorrer los elementos de una lista:"
   ]
  },
  {
   "cell_type": "code",
   "execution_count": 97,
   "metadata": {},
   "outputs": [
    {
     "name": "stdout",
     "output_type": "stream",
     "text": [
      "[3, 3, 4, 9, 5, 10, 5, 7, 8, 8, 10, 2, 3, 5, 10, 3, 4, 5, 5, 5]\n"
     ]
    }
   ],
   "source": [
    "numeros = []\n",
    "for i in range(20):  # la función predefinida \"range\" devuelve los números enteros del 0 al 19.\n",
    "    numeros.append(randint(1, 10))\n",
    "print(numeros)"
   ]
  },
  {
   "cell_type": "markdown",
   "metadata": {},
   "source": [
    "En el siguiente ejemplo, usamos el módulo *datetime*, que nos permite, entre otras cosas, saber la hora actual en que se está ejecutando el programa."
   ]
  },
  {
   "cell_type": "code",
   "execution_count": 104,
   "metadata": {},
   "outputs": [
    {
     "name": "stdout",
     "output_type": "stream",
     "text": [
      "Buenos días, Antonio\n"
     ]
    }
   ],
   "source": [
    "# El módulo se llama \"datetime\", y dentro hay definido un objeto que también se llama \"datetime\"\n",
    "from datetime import datetime\n",
    "    \n",
    "horaActual = datetime.now()  # El método now() devuelve un objeto de tipo datetime\n",
    "# El objeto horaActual tiene un atributo hour que indica la hora actual (de 0 a 23)\n",
    "saluda(\"Antonio\", horaActual.hour)"
   ]
  },
  {
   "cell_type": "markdown",
   "metadata": {},
   "source": [
    "En el ejemplo anterior, cuando escribimos *horaActual.hour* estamos accediendo a un **atributo**, llamado *hour*, del objeto *horaActual*. Por tanto, los objetos tienen, además de métodos, atributos, los cuales son parecidos a las variables (al igual que los métodos eran parecidos a las funciones). La manera de diferenciar si estamos accediendo a un atributo o llamando a un método es que en el segundo caso usamos los paréntesis."
   ]
  },
  {
   "cell_type": "markdown",
   "metadata": {},
   "source": [
    "Con los distintos módulos existentes para Python se puede hacer prácticamente de todo. Por ejemplo, dibujar gráficas de todo tipo, mediante la librería **matplotlib**. Cuando hablamos de una **librería** nos referimos a un conjunto de módulos relacionados entre sí por el tipo de funcionalidad que ofrecen. Generalmente, los módulos de una librería están agrupados dentro de un paquete, como es el caso de *matplotlib*."
   ]
  },
  {
   "cell_type": "code",
   "execution_count": 105,
   "metadata": {
    "scrolled": false
   },
   "outputs": [
    {
     "data": {
      "application/javascript": [
       "/* Put everything inside the global mpl namespace */\n",
       "window.mpl = {};\n",
       "\n",
       "\n",
       "mpl.get_websocket_type = function() {\n",
       "    if (typeof(WebSocket) !== 'undefined') {\n",
       "        return WebSocket;\n",
       "    } else if (typeof(MozWebSocket) !== 'undefined') {\n",
       "        return MozWebSocket;\n",
       "    } else {\n",
       "        alert('Your browser does not have WebSocket support. ' +\n",
       "              'Please try Chrome, Safari or Firefox ≥ 6. ' +\n",
       "              'Firefox 4 and 5 are also supported but you ' +\n",
       "              'have to enable WebSockets in about:config.');\n",
       "    };\n",
       "}\n",
       "\n",
       "mpl.figure = function(figure_id, websocket, ondownload, parent_element) {\n",
       "    this.id = figure_id;\n",
       "\n",
       "    this.ws = websocket;\n",
       "\n",
       "    this.supports_binary = (this.ws.binaryType != undefined);\n",
       "\n",
       "    if (!this.supports_binary) {\n",
       "        var warnings = document.getElementById(\"mpl-warnings\");\n",
       "        if (warnings) {\n",
       "            warnings.style.display = 'block';\n",
       "            warnings.textContent = (\n",
       "                \"This browser does not support binary websocket messages. \" +\n",
       "                    \"Performance may be slow.\");\n",
       "        }\n",
       "    }\n",
       "\n",
       "    this.imageObj = new Image();\n",
       "\n",
       "    this.context = undefined;\n",
       "    this.message = undefined;\n",
       "    this.canvas = undefined;\n",
       "    this.rubberband_canvas = undefined;\n",
       "    this.rubberband_context = undefined;\n",
       "    this.format_dropdown = undefined;\n",
       "\n",
       "    this.image_mode = 'full';\n",
       "\n",
       "    this.root = $('<div/>');\n",
       "    this._root_extra_style(this.root)\n",
       "    this.root.attr('style', 'display: inline-block');\n",
       "\n",
       "    $(parent_element).append(this.root);\n",
       "\n",
       "    this._init_header(this);\n",
       "    this._init_canvas(this);\n",
       "    this._init_toolbar(this);\n",
       "\n",
       "    var fig = this;\n",
       "\n",
       "    this.waiting = false;\n",
       "\n",
       "    this.ws.onopen =  function () {\n",
       "            fig.send_message(\"supports_binary\", {value: fig.supports_binary});\n",
       "            fig.send_message(\"send_image_mode\", {});\n",
       "            if (mpl.ratio != 1) {\n",
       "                fig.send_message(\"set_dpi_ratio\", {'dpi_ratio': mpl.ratio});\n",
       "            }\n",
       "            fig.send_message(\"refresh\", {});\n",
       "        }\n",
       "\n",
       "    this.imageObj.onload = function() {\n",
       "            if (fig.image_mode == 'full') {\n",
       "                // Full images could contain transparency (where diff images\n",
       "                // almost always do), so we need to clear the canvas so that\n",
       "                // there is no ghosting.\n",
       "                fig.context.clearRect(0, 0, fig.canvas.width, fig.canvas.height);\n",
       "            }\n",
       "            fig.context.drawImage(fig.imageObj, 0, 0);\n",
       "        };\n",
       "\n",
       "    this.imageObj.onunload = function() {\n",
       "        fig.ws.close();\n",
       "    }\n",
       "\n",
       "    this.ws.onmessage = this._make_on_message_function(this);\n",
       "\n",
       "    this.ondownload = ondownload;\n",
       "}\n",
       "\n",
       "mpl.figure.prototype._init_header = function() {\n",
       "    var titlebar = $(\n",
       "        '<div class=\"ui-dialog-titlebar ui-widget-header ui-corner-all ' +\n",
       "        'ui-helper-clearfix\"/>');\n",
       "    var titletext = $(\n",
       "        '<div class=\"ui-dialog-title\" style=\"width: 100%; ' +\n",
       "        'text-align: center; padding: 3px;\"/>');\n",
       "    titlebar.append(titletext)\n",
       "    this.root.append(titlebar);\n",
       "    this.header = titletext[0];\n",
       "}\n",
       "\n",
       "\n",
       "\n",
       "mpl.figure.prototype._canvas_extra_style = function(canvas_div) {\n",
       "\n",
       "}\n",
       "\n",
       "\n",
       "mpl.figure.prototype._root_extra_style = function(canvas_div) {\n",
       "\n",
       "}\n",
       "\n",
       "mpl.figure.prototype._init_canvas = function() {\n",
       "    var fig = this;\n",
       "\n",
       "    var canvas_div = $('<div/>');\n",
       "\n",
       "    canvas_div.attr('style', 'position: relative; clear: both; outline: 0');\n",
       "\n",
       "    function canvas_keyboard_event(event) {\n",
       "        return fig.key_event(event, event['data']);\n",
       "    }\n",
       "\n",
       "    canvas_div.keydown('key_press', canvas_keyboard_event);\n",
       "    canvas_div.keyup('key_release', canvas_keyboard_event);\n",
       "    this.canvas_div = canvas_div\n",
       "    this._canvas_extra_style(canvas_div)\n",
       "    this.root.append(canvas_div);\n",
       "\n",
       "    var canvas = $('<canvas/>');\n",
       "    canvas.addClass('mpl-canvas');\n",
       "    canvas.attr('style', \"left: 0; top: 0; z-index: 0; outline: 0\")\n",
       "\n",
       "    this.canvas = canvas[0];\n",
       "    this.context = canvas[0].getContext(\"2d\");\n",
       "\n",
       "    var backingStore = this.context.backingStorePixelRatio ||\n",
       "\tthis.context.webkitBackingStorePixelRatio ||\n",
       "\tthis.context.mozBackingStorePixelRatio ||\n",
       "\tthis.context.msBackingStorePixelRatio ||\n",
       "\tthis.context.oBackingStorePixelRatio ||\n",
       "\tthis.context.backingStorePixelRatio || 1;\n",
       "\n",
       "    mpl.ratio = (window.devicePixelRatio || 1) / backingStore;\n",
       "\n",
       "    var rubberband = $('<canvas/>');\n",
       "    rubberband.attr('style', \"position: absolute; left: 0; top: 0; z-index: 1;\")\n",
       "\n",
       "    var pass_mouse_events = true;\n",
       "\n",
       "    canvas_div.resizable({\n",
       "        start: function(event, ui) {\n",
       "            pass_mouse_events = false;\n",
       "        },\n",
       "        resize: function(event, ui) {\n",
       "            fig.request_resize(ui.size.width, ui.size.height);\n",
       "        },\n",
       "        stop: function(event, ui) {\n",
       "            pass_mouse_events = true;\n",
       "            fig.request_resize(ui.size.width, ui.size.height);\n",
       "        },\n",
       "    });\n",
       "\n",
       "    function mouse_event_fn(event) {\n",
       "        if (pass_mouse_events)\n",
       "            return fig.mouse_event(event, event['data']);\n",
       "    }\n",
       "\n",
       "    rubberband.mousedown('button_press', mouse_event_fn);\n",
       "    rubberband.mouseup('button_release', mouse_event_fn);\n",
       "    // Throttle sequential mouse events to 1 every 20ms.\n",
       "    rubberband.mousemove('motion_notify', mouse_event_fn);\n",
       "\n",
       "    rubberband.mouseenter('figure_enter', mouse_event_fn);\n",
       "    rubberband.mouseleave('figure_leave', mouse_event_fn);\n",
       "\n",
       "    canvas_div.on(\"wheel\", function (event) {\n",
       "        event = event.originalEvent;\n",
       "        event['data'] = 'scroll'\n",
       "        if (event.deltaY < 0) {\n",
       "            event.step = 1;\n",
       "        } else {\n",
       "            event.step = -1;\n",
       "        }\n",
       "        mouse_event_fn(event);\n",
       "    });\n",
       "\n",
       "    canvas_div.append(canvas);\n",
       "    canvas_div.append(rubberband);\n",
       "\n",
       "    this.rubberband = rubberband;\n",
       "    this.rubberband_canvas = rubberband[0];\n",
       "    this.rubberband_context = rubberband[0].getContext(\"2d\");\n",
       "    this.rubberband_context.strokeStyle = \"#000000\";\n",
       "\n",
       "    this._resize_canvas = function(width, height) {\n",
       "        // Keep the size of the canvas, canvas container, and rubber band\n",
       "        // canvas in synch.\n",
       "        canvas_div.css('width', width)\n",
       "        canvas_div.css('height', height)\n",
       "\n",
       "        canvas.attr('width', width * mpl.ratio);\n",
       "        canvas.attr('height', height * mpl.ratio);\n",
       "        canvas.attr('style', 'width: ' + width + 'px; height: ' + height + 'px;');\n",
       "\n",
       "        rubberband.attr('width', width);\n",
       "        rubberband.attr('height', height);\n",
       "    }\n",
       "\n",
       "    // Set the figure to an initial 600x600px, this will subsequently be updated\n",
       "    // upon first draw.\n",
       "    this._resize_canvas(600, 600);\n",
       "\n",
       "    // Disable right mouse context menu.\n",
       "    $(this.rubberband_canvas).bind(\"contextmenu\",function(e){\n",
       "        return false;\n",
       "    });\n",
       "\n",
       "    function set_focus () {\n",
       "        canvas.focus();\n",
       "        canvas_div.focus();\n",
       "    }\n",
       "\n",
       "    window.setTimeout(set_focus, 100);\n",
       "}\n",
       "\n",
       "mpl.figure.prototype._init_toolbar = function() {\n",
       "    var fig = this;\n",
       "\n",
       "    var nav_element = $('<div/>');\n",
       "    nav_element.attr('style', 'width: 100%');\n",
       "    this.root.append(nav_element);\n",
       "\n",
       "    // Define a callback function for later on.\n",
       "    function toolbar_event(event) {\n",
       "        return fig.toolbar_button_onclick(event['data']);\n",
       "    }\n",
       "    function toolbar_mouse_event(event) {\n",
       "        return fig.toolbar_button_onmouseover(event['data']);\n",
       "    }\n",
       "\n",
       "    for(var toolbar_ind in mpl.toolbar_items) {\n",
       "        var name = mpl.toolbar_items[toolbar_ind][0];\n",
       "        var tooltip = mpl.toolbar_items[toolbar_ind][1];\n",
       "        var image = mpl.toolbar_items[toolbar_ind][2];\n",
       "        var method_name = mpl.toolbar_items[toolbar_ind][3];\n",
       "\n",
       "        if (!name) {\n",
       "            // put a spacer in here.\n",
       "            continue;\n",
       "        }\n",
       "        var button = $('<button/>');\n",
       "        button.addClass('ui-button ui-widget ui-state-default ui-corner-all ' +\n",
       "                        'ui-button-icon-only');\n",
       "        button.attr('role', 'button');\n",
       "        button.attr('aria-disabled', 'false');\n",
       "        button.click(method_name, toolbar_event);\n",
       "        button.mouseover(tooltip, toolbar_mouse_event);\n",
       "\n",
       "        var icon_img = $('<span/>');\n",
       "        icon_img.addClass('ui-button-icon-primary ui-icon');\n",
       "        icon_img.addClass(image);\n",
       "        icon_img.addClass('ui-corner-all');\n",
       "\n",
       "        var tooltip_span = $('<span/>');\n",
       "        tooltip_span.addClass('ui-button-text');\n",
       "        tooltip_span.html(tooltip);\n",
       "\n",
       "        button.append(icon_img);\n",
       "        button.append(tooltip_span);\n",
       "\n",
       "        nav_element.append(button);\n",
       "    }\n",
       "\n",
       "    var fmt_picker_span = $('<span/>');\n",
       "\n",
       "    var fmt_picker = $('<select/>');\n",
       "    fmt_picker.addClass('mpl-toolbar-option ui-widget ui-widget-content');\n",
       "    fmt_picker_span.append(fmt_picker);\n",
       "    nav_element.append(fmt_picker_span);\n",
       "    this.format_dropdown = fmt_picker[0];\n",
       "\n",
       "    for (var ind in mpl.extensions) {\n",
       "        var fmt = mpl.extensions[ind];\n",
       "        var option = $(\n",
       "            '<option/>', {selected: fmt === mpl.default_extension}).html(fmt);\n",
       "        fmt_picker.append(option);\n",
       "    }\n",
       "\n",
       "    // Add hover states to the ui-buttons\n",
       "    $( \".ui-button\" ).hover(\n",
       "        function() { $(this).addClass(\"ui-state-hover\");},\n",
       "        function() { $(this).removeClass(\"ui-state-hover\");}\n",
       "    );\n",
       "\n",
       "    var status_bar = $('<span class=\"mpl-message\"/>');\n",
       "    nav_element.append(status_bar);\n",
       "    this.message = status_bar[0];\n",
       "}\n",
       "\n",
       "mpl.figure.prototype.request_resize = function(x_pixels, y_pixels) {\n",
       "    // Request matplotlib to resize the figure. Matplotlib will then trigger a resize in the client,\n",
       "    // which will in turn request a refresh of the image.\n",
       "    this.send_message('resize', {'width': x_pixels, 'height': y_pixels});\n",
       "}\n",
       "\n",
       "mpl.figure.prototype.send_message = function(type, properties) {\n",
       "    properties['type'] = type;\n",
       "    properties['figure_id'] = this.id;\n",
       "    this.ws.send(JSON.stringify(properties));\n",
       "}\n",
       "\n",
       "mpl.figure.prototype.send_draw_message = function() {\n",
       "    if (!this.waiting) {\n",
       "        this.waiting = true;\n",
       "        this.ws.send(JSON.stringify({type: \"draw\", figure_id: this.id}));\n",
       "    }\n",
       "}\n",
       "\n",
       "\n",
       "mpl.figure.prototype.handle_save = function(fig, msg) {\n",
       "    var format_dropdown = fig.format_dropdown;\n",
       "    var format = format_dropdown.options[format_dropdown.selectedIndex].value;\n",
       "    fig.ondownload(fig, format);\n",
       "}\n",
       "\n",
       "\n",
       "mpl.figure.prototype.handle_resize = function(fig, msg) {\n",
       "    var size = msg['size'];\n",
       "    if (size[0] != fig.canvas.width || size[1] != fig.canvas.height) {\n",
       "        fig._resize_canvas(size[0], size[1]);\n",
       "        fig.send_message(\"refresh\", {});\n",
       "    };\n",
       "}\n",
       "\n",
       "mpl.figure.prototype.handle_rubberband = function(fig, msg) {\n",
       "    var x0 = msg['x0'] / mpl.ratio;\n",
       "    var y0 = (fig.canvas.height - msg['y0']) / mpl.ratio;\n",
       "    var x1 = msg['x1'] / mpl.ratio;\n",
       "    var y1 = (fig.canvas.height - msg['y1']) / mpl.ratio;\n",
       "    x0 = Math.floor(x0) + 0.5;\n",
       "    y0 = Math.floor(y0) + 0.5;\n",
       "    x1 = Math.floor(x1) + 0.5;\n",
       "    y1 = Math.floor(y1) + 0.5;\n",
       "    var min_x = Math.min(x0, x1);\n",
       "    var min_y = Math.min(y0, y1);\n",
       "    var width = Math.abs(x1 - x0);\n",
       "    var height = Math.abs(y1 - y0);\n",
       "\n",
       "    fig.rubberband_context.clearRect(\n",
       "        0, 0, fig.canvas.width / mpl.ratio, fig.canvas.height / mpl.ratio);\n",
       "\n",
       "    fig.rubberband_context.strokeRect(min_x, min_y, width, height);\n",
       "}\n",
       "\n",
       "mpl.figure.prototype.handle_figure_label = function(fig, msg) {\n",
       "    // Updates the figure title.\n",
       "    fig.header.textContent = msg['label'];\n",
       "}\n",
       "\n",
       "mpl.figure.prototype.handle_cursor = function(fig, msg) {\n",
       "    var cursor = msg['cursor'];\n",
       "    switch(cursor)\n",
       "    {\n",
       "    case 0:\n",
       "        cursor = 'pointer';\n",
       "        break;\n",
       "    case 1:\n",
       "        cursor = 'default';\n",
       "        break;\n",
       "    case 2:\n",
       "        cursor = 'crosshair';\n",
       "        break;\n",
       "    case 3:\n",
       "        cursor = 'move';\n",
       "        break;\n",
       "    }\n",
       "    fig.rubberband_canvas.style.cursor = cursor;\n",
       "}\n",
       "\n",
       "mpl.figure.prototype.handle_message = function(fig, msg) {\n",
       "    fig.message.textContent = msg['message'];\n",
       "}\n",
       "\n",
       "mpl.figure.prototype.handle_draw = function(fig, msg) {\n",
       "    // Request the server to send over a new figure.\n",
       "    fig.send_draw_message();\n",
       "}\n",
       "\n",
       "mpl.figure.prototype.handle_image_mode = function(fig, msg) {\n",
       "    fig.image_mode = msg['mode'];\n",
       "}\n",
       "\n",
       "mpl.figure.prototype.updated_canvas_event = function() {\n",
       "    // Called whenever the canvas gets updated.\n",
       "    this.send_message(\"ack\", {});\n",
       "}\n",
       "\n",
       "// A function to construct a web socket function for onmessage handling.\n",
       "// Called in the figure constructor.\n",
       "mpl.figure.prototype._make_on_message_function = function(fig) {\n",
       "    return function socket_on_message(evt) {\n",
       "        if (evt.data instanceof Blob) {\n",
       "            /* FIXME: We get \"Resource interpreted as Image but\n",
       "             * transferred with MIME type text/plain:\" errors on\n",
       "             * Chrome.  But how to set the MIME type?  It doesn't seem\n",
       "             * to be part of the websocket stream */\n",
       "            evt.data.type = \"image/png\";\n",
       "\n",
       "            /* Free the memory for the previous frames */\n",
       "            if (fig.imageObj.src) {\n",
       "                (window.URL || window.webkitURL).revokeObjectURL(\n",
       "                    fig.imageObj.src);\n",
       "            }\n",
       "\n",
       "            fig.imageObj.src = (window.URL || window.webkitURL).createObjectURL(\n",
       "                evt.data);\n",
       "            fig.updated_canvas_event();\n",
       "            fig.waiting = false;\n",
       "            return;\n",
       "        }\n",
       "        else if (typeof evt.data === 'string' && evt.data.slice(0, 21) == \"data:image/png;base64\") {\n",
       "            fig.imageObj.src = evt.data;\n",
       "            fig.updated_canvas_event();\n",
       "            fig.waiting = false;\n",
       "            return;\n",
       "        }\n",
       "\n",
       "        var msg = JSON.parse(evt.data);\n",
       "        var msg_type = msg['type'];\n",
       "\n",
       "        // Call the  \"handle_{type}\" callback, which takes\n",
       "        // the figure and JSON message as its only arguments.\n",
       "        try {\n",
       "            var callback = fig[\"handle_\" + msg_type];\n",
       "        } catch (e) {\n",
       "            console.log(\"No handler for the '\" + msg_type + \"' message type: \", msg);\n",
       "            return;\n",
       "        }\n",
       "\n",
       "        if (callback) {\n",
       "            try {\n",
       "                // console.log(\"Handling '\" + msg_type + \"' message: \", msg);\n",
       "                callback(fig, msg);\n",
       "            } catch (e) {\n",
       "                console.log(\"Exception inside the 'handler_\" + msg_type + \"' callback:\", e, e.stack, msg);\n",
       "            }\n",
       "        }\n",
       "    };\n",
       "}\n",
       "\n",
       "// from http://stackoverflow.com/questions/1114465/getting-mouse-location-in-canvas\n",
       "mpl.findpos = function(e) {\n",
       "    //this section is from http://www.quirksmode.org/js/events_properties.html\n",
       "    var targ;\n",
       "    if (!e)\n",
       "        e = window.event;\n",
       "    if (e.target)\n",
       "        targ = e.target;\n",
       "    else if (e.srcElement)\n",
       "        targ = e.srcElement;\n",
       "    if (targ.nodeType == 3) // defeat Safari bug\n",
       "        targ = targ.parentNode;\n",
       "\n",
       "    // jQuery normalizes the pageX and pageY\n",
       "    // pageX,Y are the mouse positions relative to the document\n",
       "    // offset() returns the position of the element relative to the document\n",
       "    var x = e.pageX - $(targ).offset().left;\n",
       "    var y = e.pageY - $(targ).offset().top;\n",
       "\n",
       "    return {\"x\": x, \"y\": y};\n",
       "};\n",
       "\n",
       "/*\n",
       " * return a copy of an object with only non-object keys\n",
       " * we need this to avoid circular references\n",
       " * http://stackoverflow.com/a/24161582/3208463\n",
       " */\n",
       "function simpleKeys (original) {\n",
       "  return Object.keys(original).reduce(function (obj, key) {\n",
       "    if (typeof original[key] !== 'object')\n",
       "        obj[key] = original[key]\n",
       "    return obj;\n",
       "  }, {});\n",
       "}\n",
       "\n",
       "mpl.figure.prototype.mouse_event = function(event, name) {\n",
       "    var canvas_pos = mpl.findpos(event)\n",
       "\n",
       "    if (name === 'button_press')\n",
       "    {\n",
       "        this.canvas.focus();\n",
       "        this.canvas_div.focus();\n",
       "    }\n",
       "\n",
       "    var x = canvas_pos.x * mpl.ratio;\n",
       "    var y = canvas_pos.y * mpl.ratio;\n",
       "\n",
       "    this.send_message(name, {x: x, y: y, button: event.button,\n",
       "                             step: event.step,\n",
       "                             guiEvent: simpleKeys(event)});\n",
       "\n",
       "    /* This prevents the web browser from automatically changing to\n",
       "     * the text insertion cursor when the button is pressed.  We want\n",
       "     * to control all of the cursor setting manually through the\n",
       "     * 'cursor' event from matplotlib */\n",
       "    event.preventDefault();\n",
       "    return false;\n",
       "}\n",
       "\n",
       "mpl.figure.prototype._key_event_extra = function(event, name) {\n",
       "    // Handle any extra behaviour associated with a key event\n",
       "}\n",
       "\n",
       "mpl.figure.prototype.key_event = function(event, name) {\n",
       "\n",
       "    // Prevent repeat events\n",
       "    if (name == 'key_press')\n",
       "    {\n",
       "        if (event.which === this._key)\n",
       "            return;\n",
       "        else\n",
       "            this._key = event.which;\n",
       "    }\n",
       "    if (name == 'key_release')\n",
       "        this._key = null;\n",
       "\n",
       "    var value = '';\n",
       "    if (event.ctrlKey && event.which != 17)\n",
       "        value += \"ctrl+\";\n",
       "    if (event.altKey && event.which != 18)\n",
       "        value += \"alt+\";\n",
       "    if (event.shiftKey && event.which != 16)\n",
       "        value += \"shift+\";\n",
       "\n",
       "    value += 'k';\n",
       "    value += event.which.toString();\n",
       "\n",
       "    this._key_event_extra(event, name);\n",
       "\n",
       "    this.send_message(name, {key: value,\n",
       "                             guiEvent: simpleKeys(event)});\n",
       "    return false;\n",
       "}\n",
       "\n",
       "mpl.figure.prototype.toolbar_button_onclick = function(name) {\n",
       "    if (name == 'download') {\n",
       "        this.handle_save(this, null);\n",
       "    } else {\n",
       "        this.send_message(\"toolbar_button\", {name: name});\n",
       "    }\n",
       "};\n",
       "\n",
       "mpl.figure.prototype.toolbar_button_onmouseover = function(tooltip) {\n",
       "    this.message.textContent = tooltip;\n",
       "};\n",
       "mpl.toolbar_items = [[\"Home\", \"Reset original view\", \"fa fa-home icon-home\", \"home\"], [\"Back\", \"Back to previous view\", \"fa fa-arrow-left icon-arrow-left\", \"back\"], [\"Forward\", \"Forward to next view\", \"fa fa-arrow-right icon-arrow-right\", \"forward\"], [\"\", \"\", \"\", \"\"], [\"Pan\", \"Pan axes with left mouse, zoom with right\", \"fa fa-arrows icon-move\", \"pan\"], [\"Zoom\", \"Zoom to rectangle\", \"fa fa-square-o icon-check-empty\", \"zoom\"], [\"\", \"\", \"\", \"\"], [\"Download\", \"Download plot\", \"fa fa-floppy-o icon-save\", \"download\"]];\n",
       "\n",
       "mpl.extensions = [\"eps\", \"jpeg\", \"pdf\", \"png\", \"ps\", \"raw\", \"svg\", \"tif\"];\n",
       "\n",
       "mpl.default_extension = \"png\";var comm_websocket_adapter = function(comm) {\n",
       "    // Create a \"websocket\"-like object which calls the given IPython comm\n",
       "    // object with the appropriate methods. Currently this is a non binary\n",
       "    // socket, so there is still some room for performance tuning.\n",
       "    var ws = {};\n",
       "\n",
       "    ws.close = function() {\n",
       "        comm.close()\n",
       "    };\n",
       "    ws.send = function(m) {\n",
       "        //console.log('sending', m);\n",
       "        comm.send(m);\n",
       "    };\n",
       "    // Register the callback with on_msg.\n",
       "    comm.on_msg(function(msg) {\n",
       "        //console.log('receiving', msg['content']['data'], msg);\n",
       "        // Pass the mpl event to the overridden (by mpl) onmessage function.\n",
       "        ws.onmessage(msg['content']['data'])\n",
       "    });\n",
       "    return ws;\n",
       "}\n",
       "\n",
       "mpl.mpl_figure_comm = function(comm, msg) {\n",
       "    // This is the function which gets called when the mpl process\n",
       "    // starts-up an IPython Comm through the \"matplotlib\" channel.\n",
       "\n",
       "    var id = msg.content.data.id;\n",
       "    // Get hold of the div created by the display call when the Comm\n",
       "    // socket was opened in Python.\n",
       "    var element = $(\"#\" + id);\n",
       "    var ws_proxy = comm_websocket_adapter(comm)\n",
       "\n",
       "    function ondownload(figure, format) {\n",
       "        window.open(figure.imageObj.src);\n",
       "    }\n",
       "\n",
       "    var fig = new mpl.figure(id, ws_proxy,\n",
       "                           ondownload,\n",
       "                           element.get(0));\n",
       "\n",
       "    // Call onopen now - mpl needs it, as it is assuming we've passed it a real\n",
       "    // web socket which is closed, not our websocket->open comm proxy.\n",
       "    ws_proxy.onopen();\n",
       "\n",
       "    fig.parent_element = element.get(0);\n",
       "    fig.cell_info = mpl.find_output_cell(\"<div id='\" + id + \"'></div>\");\n",
       "    if (!fig.cell_info) {\n",
       "        console.error(\"Failed to find cell for figure\", id, fig);\n",
       "        return;\n",
       "    }\n",
       "\n",
       "    var output_index = fig.cell_info[2]\n",
       "    var cell = fig.cell_info[0];\n",
       "\n",
       "};\n",
       "\n",
       "mpl.figure.prototype.handle_close = function(fig, msg) {\n",
       "    var width = fig.canvas.width/mpl.ratio\n",
       "    fig.root.unbind('remove')\n",
       "\n",
       "    // Update the output cell to use the data from the current canvas.\n",
       "    fig.push_to_output();\n",
       "    var dataURL = fig.canvas.toDataURL();\n",
       "    // Re-enable the keyboard manager in IPython - without this line, in FF,\n",
       "    // the notebook keyboard shortcuts fail.\n",
       "    IPython.keyboard_manager.enable()\n",
       "    $(fig.parent_element).html('<img src=\"' + dataURL + '\" width=\"' + width + '\">');\n",
       "    fig.close_ws(fig, msg);\n",
       "}\n",
       "\n",
       "mpl.figure.prototype.close_ws = function(fig, msg){\n",
       "    fig.send_message('closing', msg);\n",
       "    // fig.ws.close()\n",
       "}\n",
       "\n",
       "mpl.figure.prototype.push_to_output = function(remove_interactive) {\n",
       "    // Turn the data on the canvas into data in the output cell.\n",
       "    var width = this.canvas.width/mpl.ratio\n",
       "    var dataURL = this.canvas.toDataURL();\n",
       "    this.cell_info[1]['text/html'] = '<img src=\"' + dataURL + '\" width=\"' + width + '\">';\n",
       "}\n",
       "\n",
       "mpl.figure.prototype.updated_canvas_event = function() {\n",
       "    // Tell IPython that the notebook contents must change.\n",
       "    IPython.notebook.set_dirty(true);\n",
       "    this.send_message(\"ack\", {});\n",
       "    var fig = this;\n",
       "    // Wait a second, then push the new image to the DOM so\n",
       "    // that it is saved nicely (might be nice to debounce this).\n",
       "    setTimeout(function () { fig.push_to_output() }, 1000);\n",
       "}\n",
       "\n",
       "mpl.figure.prototype._init_toolbar = function() {\n",
       "    var fig = this;\n",
       "\n",
       "    var nav_element = $('<div/>');\n",
       "    nav_element.attr('style', 'width: 100%');\n",
       "    this.root.append(nav_element);\n",
       "\n",
       "    // Define a callback function for later on.\n",
       "    function toolbar_event(event) {\n",
       "        return fig.toolbar_button_onclick(event['data']);\n",
       "    }\n",
       "    function toolbar_mouse_event(event) {\n",
       "        return fig.toolbar_button_onmouseover(event['data']);\n",
       "    }\n",
       "\n",
       "    for(var toolbar_ind in mpl.toolbar_items){\n",
       "        var name = mpl.toolbar_items[toolbar_ind][0];\n",
       "        var tooltip = mpl.toolbar_items[toolbar_ind][1];\n",
       "        var image = mpl.toolbar_items[toolbar_ind][2];\n",
       "        var method_name = mpl.toolbar_items[toolbar_ind][3];\n",
       "\n",
       "        if (!name) { continue; };\n",
       "\n",
       "        var button = $('<button class=\"btn btn-default\" href=\"#\" title=\"' + name + '\"><i class=\"fa ' + image + ' fa-lg\"></i></button>');\n",
       "        button.click(method_name, toolbar_event);\n",
       "        button.mouseover(tooltip, toolbar_mouse_event);\n",
       "        nav_element.append(button);\n",
       "    }\n",
       "\n",
       "    // Add the status bar.\n",
       "    var status_bar = $('<span class=\"mpl-message\" style=\"text-align:right; float: right;\"/>');\n",
       "    nav_element.append(status_bar);\n",
       "    this.message = status_bar[0];\n",
       "\n",
       "    // Add the close button to the window.\n",
       "    var buttongrp = $('<div class=\"btn-group inline pull-right\"></div>');\n",
       "    var button = $('<button class=\"btn btn-mini btn-primary\" href=\"#\" title=\"Stop Interaction\"><i class=\"fa fa-power-off icon-remove icon-large\"></i></button>');\n",
       "    button.click(function (evt) { fig.handle_close(fig, {}); } );\n",
       "    button.mouseover('Stop Interaction', toolbar_mouse_event);\n",
       "    buttongrp.append(button);\n",
       "    var titlebar = this.root.find($('.ui-dialog-titlebar'));\n",
       "    titlebar.prepend(buttongrp);\n",
       "}\n",
       "\n",
       "mpl.figure.prototype._root_extra_style = function(el){\n",
       "    var fig = this\n",
       "    el.on(\"remove\", function(){\n",
       "\tfig.close_ws(fig, {});\n",
       "    });\n",
       "}\n",
       "\n",
       "mpl.figure.prototype._canvas_extra_style = function(el){\n",
       "    // this is important to make the div 'focusable\n",
       "    el.attr('tabindex', 0)\n",
       "    // reach out to IPython and tell the keyboard manager to turn it's self\n",
       "    // off when our div gets focus\n",
       "\n",
       "    // location in version 3\n",
       "    if (IPython.notebook.keyboard_manager) {\n",
       "        IPython.notebook.keyboard_manager.register_events(el);\n",
       "    }\n",
       "    else {\n",
       "        // location in version 2\n",
       "        IPython.keyboard_manager.register_events(el);\n",
       "    }\n",
       "\n",
       "}\n",
       "\n",
       "mpl.figure.prototype._key_event_extra = function(event, name) {\n",
       "    var manager = IPython.notebook.keyboard_manager;\n",
       "    if (!manager)\n",
       "        manager = IPython.keyboard_manager;\n",
       "\n",
       "    // Check for shift+enter\n",
       "    if (event.shiftKey && event.which == 13) {\n",
       "        this.canvas_div.blur();\n",
       "        // select the cell after this one\n",
       "        var index = IPython.notebook.find_cell_index(this.cell_info[0]);\n",
       "        IPython.notebook.select(index + 1);\n",
       "    }\n",
       "}\n",
       "\n",
       "mpl.figure.prototype.handle_save = function(fig, msg) {\n",
       "    fig.ondownload(fig, null);\n",
       "}\n",
       "\n",
       "\n",
       "mpl.find_output_cell = function(html_output) {\n",
       "    // Return the cell and output element which can be found *uniquely* in the notebook.\n",
       "    // Note - this is a bit hacky, but it is done because the \"notebook_saving.Notebook\"\n",
       "    // IPython event is triggered only after the cells have been serialised, which for\n",
       "    // our purposes (turning an active figure into a static one), is too late.\n",
       "    var cells = IPython.notebook.get_cells();\n",
       "    var ncells = cells.length;\n",
       "    for (var i=0; i<ncells; i++) {\n",
       "        var cell = cells[i];\n",
       "        if (cell.cell_type === 'code'){\n",
       "            for (var j=0; j<cell.output_area.outputs.length; j++) {\n",
       "                var data = cell.output_area.outputs[j];\n",
       "                if (data.data) {\n",
       "                    // IPython >= 3 moved mimebundle to data attribute of output\n",
       "                    data = data.data;\n",
       "                }\n",
       "                if (data['text/html'] == html_output) {\n",
       "                    return [cell, data, j];\n",
       "                }\n",
       "            }\n",
       "        }\n",
       "    }\n",
       "}\n",
       "\n",
       "// Register the function which deals with the matplotlib target/channel.\n",
       "// The kernel may be null if the page has been refreshed.\n",
       "if (IPython.notebook.kernel != null) {\n",
       "    IPython.notebook.kernel.comm_manager.register_target('matplotlib', mpl.mpl_figure_comm);\n",
       "}\n"
      ],
      "text/plain": [
       "<IPython.core.display.Javascript object>"
      ]
     },
     "metadata": {},
     "output_type": "display_data"
    },
    {
     "data": {
      "text/html": [
       "<img src=\"data:image/png;base64,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\" width=\"640\">"
      ],
      "text/plain": [
       "<IPython.core.display.HTML object>"
      ]
     },
     "metadata": {},
     "output_type": "display_data"
    },
    {
     "data": {
      "text/plain": [
       "[<matplotlib.lines.Line2D at 0x153d985cf70>]"
      ]
     },
     "execution_count": 105,
     "metadata": {},
     "output_type": "execute_result"
    }
   ],
   "source": [
    "# Para que las gráficas se muestren sobre el propio notebook, en lugar de en una ventana, hay que escribir:\n",
    "%matplotlib notebook    \n",
    "\n",
    "from matplotlib import pyplot  # pyplot es el módulo que permite dibujar gráficas matemáticas\n",
    "\n",
    "x = []   # \"x\" es una lista vacía, es decir, aún no contiene elementos\n",
    "y = []   # \"y\" también es una lista vacía\n",
    "for i in range(20):\n",
    "    x.append(randint(-50, 50))\n",
    "    y.append(randint(-50, 50))\n",
    "\n",
    "# El tercer parámetro sirve para especificar el formato de la representación gráfica de los datos\n",
    "pyplot.plot(x, y, \"o\")"
   ]
  },
  {
   "cell_type": "markdown",
   "metadata": {},
   "source": [
    "Todos los paquetes, módulos y librerías más usados están ampliamente documentados en Internet: sólo tienes que hacer una consulta a tu buscador favorito. Por ejemplo, si quieres ver qué otras cosas se pueden hacer con la función *plot*, puedes verlo aquí: https://matplotlib.org/api/pyplot_api.html#matplotlib.pyplot.plot"
   ]
  },
  {
   "cell_type": "markdown",
   "metadata": {},
   "source": [
    "### ¡Prueba tú!"
   ]
  },
  {
   "cell_type": "markdown",
   "metadata": {},
   "source": [
    "Intenta completar el siguiente código para mostrar una gráfica de la función coseno para los valores de la x contenidos en el intervalo \\[-10,10\\]. Busca documentación sobre el módulo **math** para ver cómo calcular el coseno de un número [prueba buscando en Google \"math Python 3\"](https://www.google.es/search?q=math+Python+3)."
   ]
  },
  {
   "cell_type": "code",
   "execution_count": 106,
   "metadata": {},
   "outputs": [
    {
     "data": {
      "application/javascript": [
       "/* Put everything inside the global mpl namespace */\n",
       "window.mpl = {};\n",
       "\n",
       "\n",
       "mpl.get_websocket_type = function() {\n",
       "    if (typeof(WebSocket) !== 'undefined') {\n",
       "        return WebSocket;\n",
       "    } else if (typeof(MozWebSocket) !== 'undefined') {\n",
       "        return MozWebSocket;\n",
       "    } else {\n",
       "        alert('Your browser does not have WebSocket support. ' +\n",
       "              'Please try Chrome, Safari or Firefox ≥ 6. ' +\n",
       "              'Firefox 4 and 5 are also supported but you ' +\n",
       "              'have to enable WebSockets in about:config.');\n",
       "    };\n",
       "}\n",
       "\n",
       "mpl.figure = function(figure_id, websocket, ondownload, parent_element) {\n",
       "    this.id = figure_id;\n",
       "\n",
       "    this.ws = websocket;\n",
       "\n",
       "    this.supports_binary = (this.ws.binaryType != undefined);\n",
       "\n",
       "    if (!this.supports_binary) {\n",
       "        var warnings = document.getElementById(\"mpl-warnings\");\n",
       "        if (warnings) {\n",
       "            warnings.style.display = 'block';\n",
       "            warnings.textContent = (\n",
       "                \"This browser does not support binary websocket messages. \" +\n",
       "                    \"Performance may be slow.\");\n",
       "        }\n",
       "    }\n",
       "\n",
       "    this.imageObj = new Image();\n",
       "\n",
       "    this.context = undefined;\n",
       "    this.message = undefined;\n",
       "    this.canvas = undefined;\n",
       "    this.rubberband_canvas = undefined;\n",
       "    this.rubberband_context = undefined;\n",
       "    this.format_dropdown = undefined;\n",
       "\n",
       "    this.image_mode = 'full';\n",
       "\n",
       "    this.root = $('<div/>');\n",
       "    this._root_extra_style(this.root)\n",
       "    this.root.attr('style', 'display: inline-block');\n",
       "\n",
       "    $(parent_element).append(this.root);\n",
       "\n",
       "    this._init_header(this);\n",
       "    this._init_canvas(this);\n",
       "    this._init_toolbar(this);\n",
       "\n",
       "    var fig = this;\n",
       "\n",
       "    this.waiting = false;\n",
       "\n",
       "    this.ws.onopen =  function () {\n",
       "            fig.send_message(\"supports_binary\", {value: fig.supports_binary});\n",
       "            fig.send_message(\"send_image_mode\", {});\n",
       "            if (mpl.ratio != 1) {\n",
       "                fig.send_message(\"set_dpi_ratio\", {'dpi_ratio': mpl.ratio});\n",
       "            }\n",
       "            fig.send_message(\"refresh\", {});\n",
       "        }\n",
       "\n",
       "    this.imageObj.onload = function() {\n",
       "            if (fig.image_mode == 'full') {\n",
       "                // Full images could contain transparency (where diff images\n",
       "                // almost always do), so we need to clear the canvas so that\n",
       "                // there is no ghosting.\n",
       "                fig.context.clearRect(0, 0, fig.canvas.width, fig.canvas.height);\n",
       "            }\n",
       "            fig.context.drawImage(fig.imageObj, 0, 0);\n",
       "        };\n",
       "\n",
       "    this.imageObj.onunload = function() {\n",
       "        fig.ws.close();\n",
       "    }\n",
       "\n",
       "    this.ws.onmessage = this._make_on_message_function(this);\n",
       "\n",
       "    this.ondownload = ondownload;\n",
       "}\n",
       "\n",
       "mpl.figure.prototype._init_header = function() {\n",
       "    var titlebar = $(\n",
       "        '<div class=\"ui-dialog-titlebar ui-widget-header ui-corner-all ' +\n",
       "        'ui-helper-clearfix\"/>');\n",
       "    var titletext = $(\n",
       "        '<div class=\"ui-dialog-title\" style=\"width: 100%; ' +\n",
       "        'text-align: center; padding: 3px;\"/>');\n",
       "    titlebar.append(titletext)\n",
       "    this.root.append(titlebar);\n",
       "    this.header = titletext[0];\n",
       "}\n",
       "\n",
       "\n",
       "\n",
       "mpl.figure.prototype._canvas_extra_style = function(canvas_div) {\n",
       "\n",
       "}\n",
       "\n",
       "\n",
       "mpl.figure.prototype._root_extra_style = function(canvas_div) {\n",
       "\n",
       "}\n",
       "\n",
       "mpl.figure.prototype._init_canvas = function() {\n",
       "    var fig = this;\n",
       "\n",
       "    var canvas_div = $('<div/>');\n",
       "\n",
       "    canvas_div.attr('style', 'position: relative; clear: both; outline: 0');\n",
       "\n",
       "    function canvas_keyboard_event(event) {\n",
       "        return fig.key_event(event, event['data']);\n",
       "    }\n",
       "\n",
       "    canvas_div.keydown('key_press', canvas_keyboard_event);\n",
       "    canvas_div.keyup('key_release', canvas_keyboard_event);\n",
       "    this.canvas_div = canvas_div\n",
       "    this._canvas_extra_style(canvas_div)\n",
       "    this.root.append(canvas_div);\n",
       "\n",
       "    var canvas = $('<canvas/>');\n",
       "    canvas.addClass('mpl-canvas');\n",
       "    canvas.attr('style', \"left: 0; top: 0; z-index: 0; outline: 0\")\n",
       "\n",
       "    this.canvas = canvas[0];\n",
       "    this.context = canvas[0].getContext(\"2d\");\n",
       "\n",
       "    var backingStore = this.context.backingStorePixelRatio ||\n",
       "\tthis.context.webkitBackingStorePixelRatio ||\n",
       "\tthis.context.mozBackingStorePixelRatio ||\n",
       "\tthis.context.msBackingStorePixelRatio ||\n",
       "\tthis.context.oBackingStorePixelRatio ||\n",
       "\tthis.context.backingStorePixelRatio || 1;\n",
       "\n",
       "    mpl.ratio = (window.devicePixelRatio || 1) / backingStore;\n",
       "\n",
       "    var rubberband = $('<canvas/>');\n",
       "    rubberband.attr('style', \"position: absolute; left: 0; top: 0; z-index: 1;\")\n",
       "\n",
       "    var pass_mouse_events = true;\n",
       "\n",
       "    canvas_div.resizable({\n",
       "        start: function(event, ui) {\n",
       "            pass_mouse_events = false;\n",
       "        },\n",
       "        resize: function(event, ui) {\n",
       "            fig.request_resize(ui.size.width, ui.size.height);\n",
       "        },\n",
       "        stop: function(event, ui) {\n",
       "            pass_mouse_events = true;\n",
       "            fig.request_resize(ui.size.width, ui.size.height);\n",
       "        },\n",
       "    });\n",
       "\n",
       "    function mouse_event_fn(event) {\n",
       "        if (pass_mouse_events)\n",
       "            return fig.mouse_event(event, event['data']);\n",
       "    }\n",
       "\n",
       "    rubberband.mousedown('button_press', mouse_event_fn);\n",
       "    rubberband.mouseup('button_release', mouse_event_fn);\n",
       "    // Throttle sequential mouse events to 1 every 20ms.\n",
       "    rubberband.mousemove('motion_notify', mouse_event_fn);\n",
       "\n",
       "    rubberband.mouseenter('figure_enter', mouse_event_fn);\n",
       "    rubberband.mouseleave('figure_leave', mouse_event_fn);\n",
       "\n",
       "    canvas_div.on(\"wheel\", function (event) {\n",
       "        event = event.originalEvent;\n",
       "        event['data'] = 'scroll'\n",
       "        if (event.deltaY < 0) {\n",
       "            event.step = 1;\n",
       "        } else {\n",
       "            event.step = -1;\n",
       "        }\n",
       "        mouse_event_fn(event);\n",
       "    });\n",
       "\n",
       "    canvas_div.append(canvas);\n",
       "    canvas_div.append(rubberband);\n",
       "\n",
       "    this.rubberband = rubberband;\n",
       "    this.rubberband_canvas = rubberband[0];\n",
       "    this.rubberband_context = rubberband[0].getContext(\"2d\");\n",
       "    this.rubberband_context.strokeStyle = \"#000000\";\n",
       "\n",
       "    this._resize_canvas = function(width, height) {\n",
       "        // Keep the size of the canvas, canvas container, and rubber band\n",
       "        // canvas in synch.\n",
       "        canvas_div.css('width', width)\n",
       "        canvas_div.css('height', height)\n",
       "\n",
       "        canvas.attr('width', width * mpl.ratio);\n",
       "        canvas.attr('height', height * mpl.ratio);\n",
       "        canvas.attr('style', 'width: ' + width + 'px; height: ' + height + 'px;');\n",
       "\n",
       "        rubberband.attr('width', width);\n",
       "        rubberband.attr('height', height);\n",
       "    }\n",
       "\n",
       "    // Set the figure to an initial 600x600px, this will subsequently be updated\n",
       "    // upon first draw.\n",
       "    this._resize_canvas(600, 600);\n",
       "\n",
       "    // Disable right mouse context menu.\n",
       "    $(this.rubberband_canvas).bind(\"contextmenu\",function(e){\n",
       "        return false;\n",
       "    });\n",
       "\n",
       "    function set_focus () {\n",
       "        canvas.focus();\n",
       "        canvas_div.focus();\n",
       "    }\n",
       "\n",
       "    window.setTimeout(set_focus, 100);\n",
       "}\n",
       "\n",
       "mpl.figure.prototype._init_toolbar = function() {\n",
       "    var fig = this;\n",
       "\n",
       "    var nav_element = $('<div/>');\n",
       "    nav_element.attr('style', 'width: 100%');\n",
       "    this.root.append(nav_element);\n",
       "\n",
       "    // Define a callback function for later on.\n",
       "    function toolbar_event(event) {\n",
       "        return fig.toolbar_button_onclick(event['data']);\n",
       "    }\n",
       "    function toolbar_mouse_event(event) {\n",
       "        return fig.toolbar_button_onmouseover(event['data']);\n",
       "    }\n",
       "\n",
       "    for(var toolbar_ind in mpl.toolbar_items) {\n",
       "        var name = mpl.toolbar_items[toolbar_ind][0];\n",
       "        var tooltip = mpl.toolbar_items[toolbar_ind][1];\n",
       "        var image = mpl.toolbar_items[toolbar_ind][2];\n",
       "        var method_name = mpl.toolbar_items[toolbar_ind][3];\n",
       "\n",
       "        if (!name) {\n",
       "            // put a spacer in here.\n",
       "            continue;\n",
       "        }\n",
       "        var button = $('<button/>');\n",
       "        button.addClass('ui-button ui-widget ui-state-default ui-corner-all ' +\n",
       "                        'ui-button-icon-only');\n",
       "        button.attr('role', 'button');\n",
       "        button.attr('aria-disabled', 'false');\n",
       "        button.click(method_name, toolbar_event);\n",
       "        button.mouseover(tooltip, toolbar_mouse_event);\n",
       "\n",
       "        var icon_img = $('<span/>');\n",
       "        icon_img.addClass('ui-button-icon-primary ui-icon');\n",
       "        icon_img.addClass(image);\n",
       "        icon_img.addClass('ui-corner-all');\n",
       "\n",
       "        var tooltip_span = $('<span/>');\n",
       "        tooltip_span.addClass('ui-button-text');\n",
       "        tooltip_span.html(tooltip);\n",
       "\n",
       "        button.append(icon_img);\n",
       "        button.append(tooltip_span);\n",
       "\n",
       "        nav_element.append(button);\n",
       "    }\n",
       "\n",
       "    var fmt_picker_span = $('<span/>');\n",
       "\n",
       "    var fmt_picker = $('<select/>');\n",
       "    fmt_picker.addClass('mpl-toolbar-option ui-widget ui-widget-content');\n",
       "    fmt_picker_span.append(fmt_picker);\n",
       "    nav_element.append(fmt_picker_span);\n",
       "    this.format_dropdown = fmt_picker[0];\n",
       "\n",
       "    for (var ind in mpl.extensions) {\n",
       "        var fmt = mpl.extensions[ind];\n",
       "        var option = $(\n",
       "            '<option/>', {selected: fmt === mpl.default_extension}).html(fmt);\n",
       "        fmt_picker.append(option);\n",
       "    }\n",
       "\n",
       "    // Add hover states to the ui-buttons\n",
       "    $( \".ui-button\" ).hover(\n",
       "        function() { $(this).addClass(\"ui-state-hover\");},\n",
       "        function() { $(this).removeClass(\"ui-state-hover\");}\n",
       "    );\n",
       "\n",
       "    var status_bar = $('<span class=\"mpl-message\"/>');\n",
       "    nav_element.append(status_bar);\n",
       "    this.message = status_bar[0];\n",
       "}\n",
       "\n",
       "mpl.figure.prototype.request_resize = function(x_pixels, y_pixels) {\n",
       "    // Request matplotlib to resize the figure. Matplotlib will then trigger a resize in the client,\n",
       "    // which will in turn request a refresh of the image.\n",
       "    this.send_message('resize', {'width': x_pixels, 'height': y_pixels});\n",
       "}\n",
       "\n",
       "mpl.figure.prototype.send_message = function(type, properties) {\n",
       "    properties['type'] = type;\n",
       "    properties['figure_id'] = this.id;\n",
       "    this.ws.send(JSON.stringify(properties));\n",
       "}\n",
       "\n",
       "mpl.figure.prototype.send_draw_message = function() {\n",
       "    if (!this.waiting) {\n",
       "        this.waiting = true;\n",
       "        this.ws.send(JSON.stringify({type: \"draw\", figure_id: this.id}));\n",
       "    }\n",
       "}\n",
       "\n",
       "\n",
       "mpl.figure.prototype.handle_save = function(fig, msg) {\n",
       "    var format_dropdown = fig.format_dropdown;\n",
       "    var format = format_dropdown.options[format_dropdown.selectedIndex].value;\n",
       "    fig.ondownload(fig, format);\n",
       "}\n",
       "\n",
       "\n",
       "mpl.figure.prototype.handle_resize = function(fig, msg) {\n",
       "    var size = msg['size'];\n",
       "    if (size[0] != fig.canvas.width || size[1] != fig.canvas.height) {\n",
       "        fig._resize_canvas(size[0], size[1]);\n",
       "        fig.send_message(\"refresh\", {});\n",
       "    };\n",
       "}\n",
       "\n",
       "mpl.figure.prototype.handle_rubberband = function(fig, msg) {\n",
       "    var x0 = msg['x0'] / mpl.ratio;\n",
       "    var y0 = (fig.canvas.height - msg['y0']) / mpl.ratio;\n",
       "    var x1 = msg['x1'] / mpl.ratio;\n",
       "    var y1 = (fig.canvas.height - msg['y1']) / mpl.ratio;\n",
       "    x0 = Math.floor(x0) + 0.5;\n",
       "    y0 = Math.floor(y0) + 0.5;\n",
       "    x1 = Math.floor(x1) + 0.5;\n",
       "    y1 = Math.floor(y1) + 0.5;\n",
       "    var min_x = Math.min(x0, x1);\n",
       "    var min_y = Math.min(y0, y1);\n",
       "    var width = Math.abs(x1 - x0);\n",
       "    var height = Math.abs(y1 - y0);\n",
       "\n",
       "    fig.rubberband_context.clearRect(\n",
       "        0, 0, fig.canvas.width / mpl.ratio, fig.canvas.height / mpl.ratio);\n",
       "\n",
       "    fig.rubberband_context.strokeRect(min_x, min_y, width, height);\n",
       "}\n",
       "\n",
       "mpl.figure.prototype.handle_figure_label = function(fig, msg) {\n",
       "    // Updates the figure title.\n",
       "    fig.header.textContent = msg['label'];\n",
       "}\n",
       "\n",
       "mpl.figure.prototype.handle_cursor = function(fig, msg) {\n",
       "    var cursor = msg['cursor'];\n",
       "    switch(cursor)\n",
       "    {\n",
       "    case 0:\n",
       "        cursor = 'pointer';\n",
       "        break;\n",
       "    case 1:\n",
       "        cursor = 'default';\n",
       "        break;\n",
       "    case 2:\n",
       "        cursor = 'crosshair';\n",
       "        break;\n",
       "    case 3:\n",
       "        cursor = 'move';\n",
       "        break;\n",
       "    }\n",
       "    fig.rubberband_canvas.style.cursor = cursor;\n",
       "}\n",
       "\n",
       "mpl.figure.prototype.handle_message = function(fig, msg) {\n",
       "    fig.message.textContent = msg['message'];\n",
       "}\n",
       "\n",
       "mpl.figure.prototype.handle_draw = function(fig, msg) {\n",
       "    // Request the server to send over a new figure.\n",
       "    fig.send_draw_message();\n",
       "}\n",
       "\n",
       "mpl.figure.prototype.handle_image_mode = function(fig, msg) {\n",
       "    fig.image_mode = msg['mode'];\n",
       "}\n",
       "\n",
       "mpl.figure.prototype.updated_canvas_event = function() {\n",
       "    // Called whenever the canvas gets updated.\n",
       "    this.send_message(\"ack\", {});\n",
       "}\n",
       "\n",
       "// A function to construct a web socket function for onmessage handling.\n",
       "// Called in the figure constructor.\n",
       "mpl.figure.prototype._make_on_message_function = function(fig) {\n",
       "    return function socket_on_message(evt) {\n",
       "        if (evt.data instanceof Blob) {\n",
       "            /* FIXME: We get \"Resource interpreted as Image but\n",
       "             * transferred with MIME type text/plain:\" errors on\n",
       "             * Chrome.  But how to set the MIME type?  It doesn't seem\n",
       "             * to be part of the websocket stream */\n",
       "            evt.data.type = \"image/png\";\n",
       "\n",
       "            /* Free the memory for the previous frames */\n",
       "            if (fig.imageObj.src) {\n",
       "                (window.URL || window.webkitURL).revokeObjectURL(\n",
       "                    fig.imageObj.src);\n",
       "            }\n",
       "\n",
       "            fig.imageObj.src = (window.URL || window.webkitURL).createObjectURL(\n",
       "                evt.data);\n",
       "            fig.updated_canvas_event();\n",
       "            fig.waiting = false;\n",
       "            return;\n",
       "        }\n",
       "        else if (typeof evt.data === 'string' && evt.data.slice(0, 21) == \"data:image/png;base64\") {\n",
       "            fig.imageObj.src = evt.data;\n",
       "            fig.updated_canvas_event();\n",
       "            fig.waiting = false;\n",
       "            return;\n",
       "        }\n",
       "\n",
       "        var msg = JSON.parse(evt.data);\n",
       "        var msg_type = msg['type'];\n",
       "\n",
       "        // Call the  \"handle_{type}\" callback, which takes\n",
       "        // the figure and JSON message as its only arguments.\n",
       "        try {\n",
       "            var callback = fig[\"handle_\" + msg_type];\n",
       "        } catch (e) {\n",
       "            console.log(\"No handler for the '\" + msg_type + \"' message type: \", msg);\n",
       "            return;\n",
       "        }\n",
       "\n",
       "        if (callback) {\n",
       "            try {\n",
       "                // console.log(\"Handling '\" + msg_type + \"' message: \", msg);\n",
       "                callback(fig, msg);\n",
       "            } catch (e) {\n",
       "                console.log(\"Exception inside the 'handler_\" + msg_type + \"' callback:\", e, e.stack, msg);\n",
       "            }\n",
       "        }\n",
       "    };\n",
       "}\n",
       "\n",
       "// from http://stackoverflow.com/questions/1114465/getting-mouse-location-in-canvas\n",
       "mpl.findpos = function(e) {\n",
       "    //this section is from http://www.quirksmode.org/js/events_properties.html\n",
       "    var targ;\n",
       "    if (!e)\n",
       "        e = window.event;\n",
       "    if (e.target)\n",
       "        targ = e.target;\n",
       "    else if (e.srcElement)\n",
       "        targ = e.srcElement;\n",
       "    if (targ.nodeType == 3) // defeat Safari bug\n",
       "        targ = targ.parentNode;\n",
       "\n",
       "    // jQuery normalizes the pageX and pageY\n",
       "    // pageX,Y are the mouse positions relative to the document\n",
       "    // offset() returns the position of the element relative to the document\n",
       "    var x = e.pageX - $(targ).offset().left;\n",
       "    var y = e.pageY - $(targ).offset().top;\n",
       "\n",
       "    return {\"x\": x, \"y\": y};\n",
       "};\n",
       "\n",
       "/*\n",
       " * return a copy of an object with only non-object keys\n",
       " * we need this to avoid circular references\n",
       " * http://stackoverflow.com/a/24161582/3208463\n",
       " */\n",
       "function simpleKeys (original) {\n",
       "  return Object.keys(original).reduce(function (obj, key) {\n",
       "    if (typeof original[key] !== 'object')\n",
       "        obj[key] = original[key]\n",
       "    return obj;\n",
       "  }, {});\n",
       "}\n",
       "\n",
       "mpl.figure.prototype.mouse_event = function(event, name) {\n",
       "    var canvas_pos = mpl.findpos(event)\n",
       "\n",
       "    if (name === 'button_press')\n",
       "    {\n",
       "        this.canvas.focus();\n",
       "        this.canvas_div.focus();\n",
       "    }\n",
       "\n",
       "    var x = canvas_pos.x * mpl.ratio;\n",
       "    var y = canvas_pos.y * mpl.ratio;\n",
       "\n",
       "    this.send_message(name, {x: x, y: y, button: event.button,\n",
       "                             step: event.step,\n",
       "                             guiEvent: simpleKeys(event)});\n",
       "\n",
       "    /* This prevents the web browser from automatically changing to\n",
       "     * the text insertion cursor when the button is pressed.  We want\n",
       "     * to control all of the cursor setting manually through the\n",
       "     * 'cursor' event from matplotlib */\n",
       "    event.preventDefault();\n",
       "    return false;\n",
       "}\n",
       "\n",
       "mpl.figure.prototype._key_event_extra = function(event, name) {\n",
       "    // Handle any extra behaviour associated with a key event\n",
       "}\n",
       "\n",
       "mpl.figure.prototype.key_event = function(event, name) {\n",
       "\n",
       "    // Prevent repeat events\n",
       "    if (name == 'key_press')\n",
       "    {\n",
       "        if (event.which === this._key)\n",
       "            return;\n",
       "        else\n",
       "            this._key = event.which;\n",
       "    }\n",
       "    if (name == 'key_release')\n",
       "        this._key = null;\n",
       "\n",
       "    var value = '';\n",
       "    if (event.ctrlKey && event.which != 17)\n",
       "        value += \"ctrl+\";\n",
       "    if (event.altKey && event.which != 18)\n",
       "        value += \"alt+\";\n",
       "    if (event.shiftKey && event.which != 16)\n",
       "        value += \"shift+\";\n",
       "\n",
       "    value += 'k';\n",
       "    value += event.which.toString();\n",
       "\n",
       "    this._key_event_extra(event, name);\n",
       "\n",
       "    this.send_message(name, {key: value,\n",
       "                             guiEvent: simpleKeys(event)});\n",
       "    return false;\n",
       "}\n",
       "\n",
       "mpl.figure.prototype.toolbar_button_onclick = function(name) {\n",
       "    if (name == 'download') {\n",
       "        this.handle_save(this, null);\n",
       "    } else {\n",
       "        this.send_message(\"toolbar_button\", {name: name});\n",
       "    }\n",
       "};\n",
       "\n",
       "mpl.figure.prototype.toolbar_button_onmouseover = function(tooltip) {\n",
       "    this.message.textContent = tooltip;\n",
       "};\n",
       "mpl.toolbar_items = [[\"Home\", \"Reset original view\", \"fa fa-home icon-home\", \"home\"], [\"Back\", \"Back to previous view\", \"fa fa-arrow-left icon-arrow-left\", \"back\"], [\"Forward\", \"Forward to next view\", \"fa fa-arrow-right icon-arrow-right\", \"forward\"], [\"\", \"\", \"\", \"\"], [\"Pan\", \"Pan axes with left mouse, zoom with right\", \"fa fa-arrows icon-move\", \"pan\"], [\"Zoom\", \"Zoom to rectangle\", \"fa fa-square-o icon-check-empty\", \"zoom\"], [\"\", \"\", \"\", \"\"], [\"Download\", \"Download plot\", \"fa fa-floppy-o icon-save\", \"download\"]];\n",
       "\n",
       "mpl.extensions = [\"eps\", \"jpeg\", \"pdf\", \"png\", \"ps\", \"raw\", \"svg\", \"tif\"];\n",
       "\n",
       "mpl.default_extension = \"png\";var comm_websocket_adapter = function(comm) {\n",
       "    // Create a \"websocket\"-like object which calls the given IPython comm\n",
       "    // object with the appropriate methods. Currently this is a non binary\n",
       "    // socket, so there is still some room for performance tuning.\n",
       "    var ws = {};\n",
       "\n",
       "    ws.close = function() {\n",
       "        comm.close()\n",
       "    };\n",
       "    ws.send = function(m) {\n",
       "        //console.log('sending', m);\n",
       "        comm.send(m);\n",
       "    };\n",
       "    // Register the callback with on_msg.\n",
       "    comm.on_msg(function(msg) {\n",
       "        //console.log('receiving', msg['content']['data'], msg);\n",
       "        // Pass the mpl event to the overridden (by mpl) onmessage function.\n",
       "        ws.onmessage(msg['content']['data'])\n",
       "    });\n",
       "    return ws;\n",
       "}\n",
       "\n",
       "mpl.mpl_figure_comm = function(comm, msg) {\n",
       "    // This is the function which gets called when the mpl process\n",
       "    // starts-up an IPython Comm through the \"matplotlib\" channel.\n",
       "\n",
       "    var id = msg.content.data.id;\n",
       "    // Get hold of the div created by the display call when the Comm\n",
       "    // socket was opened in Python.\n",
       "    var element = $(\"#\" + id);\n",
       "    var ws_proxy = comm_websocket_adapter(comm)\n",
       "\n",
       "    function ondownload(figure, format) {\n",
       "        window.open(figure.imageObj.src);\n",
       "    }\n",
       "\n",
       "    var fig = new mpl.figure(id, ws_proxy,\n",
       "                           ondownload,\n",
       "                           element.get(0));\n",
       "\n",
       "    // Call onopen now - mpl needs it, as it is assuming we've passed it a real\n",
       "    // web socket which is closed, not our websocket->open comm proxy.\n",
       "    ws_proxy.onopen();\n",
       "\n",
       "    fig.parent_element = element.get(0);\n",
       "    fig.cell_info = mpl.find_output_cell(\"<div id='\" + id + \"'></div>\");\n",
       "    if (!fig.cell_info) {\n",
       "        console.error(\"Failed to find cell for figure\", id, fig);\n",
       "        return;\n",
       "    }\n",
       "\n",
       "    var output_index = fig.cell_info[2]\n",
       "    var cell = fig.cell_info[0];\n",
       "\n",
       "};\n",
       "\n",
       "mpl.figure.prototype.handle_close = function(fig, msg) {\n",
       "    var width = fig.canvas.width/mpl.ratio\n",
       "    fig.root.unbind('remove')\n",
       "\n",
       "    // Update the output cell to use the data from the current canvas.\n",
       "    fig.push_to_output();\n",
       "    var dataURL = fig.canvas.toDataURL();\n",
       "    // Re-enable the keyboard manager in IPython - without this line, in FF,\n",
       "    // the notebook keyboard shortcuts fail.\n",
       "    IPython.keyboard_manager.enable()\n",
       "    $(fig.parent_element).html('<img src=\"' + dataURL + '\" width=\"' + width + '\">');\n",
       "    fig.close_ws(fig, msg);\n",
       "}\n",
       "\n",
       "mpl.figure.prototype.close_ws = function(fig, msg){\n",
       "    fig.send_message('closing', msg);\n",
       "    // fig.ws.close()\n",
       "}\n",
       "\n",
       "mpl.figure.prototype.push_to_output = function(remove_interactive) {\n",
       "    // Turn the data on the canvas into data in the output cell.\n",
       "    var width = this.canvas.width/mpl.ratio\n",
       "    var dataURL = this.canvas.toDataURL();\n",
       "    this.cell_info[1]['text/html'] = '<img src=\"' + dataURL + '\" width=\"' + width + '\">';\n",
       "}\n",
       "\n",
       "mpl.figure.prototype.updated_canvas_event = function() {\n",
       "    // Tell IPython that the notebook contents must change.\n",
       "    IPython.notebook.set_dirty(true);\n",
       "    this.send_message(\"ack\", {});\n",
       "    var fig = this;\n",
       "    // Wait a second, then push the new image to the DOM so\n",
       "    // that it is saved nicely (might be nice to debounce this).\n",
       "    setTimeout(function () { fig.push_to_output() }, 1000);\n",
       "}\n",
       "\n",
       "mpl.figure.prototype._init_toolbar = function() {\n",
       "    var fig = this;\n",
       "\n",
       "    var nav_element = $('<div/>');\n",
       "    nav_element.attr('style', 'width: 100%');\n",
       "    this.root.append(nav_element);\n",
       "\n",
       "    // Define a callback function for later on.\n",
       "    function toolbar_event(event) {\n",
       "        return fig.toolbar_button_onclick(event['data']);\n",
       "    }\n",
       "    function toolbar_mouse_event(event) {\n",
       "        return fig.toolbar_button_onmouseover(event['data']);\n",
       "    }\n",
       "\n",
       "    for(var toolbar_ind in mpl.toolbar_items){\n",
       "        var name = mpl.toolbar_items[toolbar_ind][0];\n",
       "        var tooltip = mpl.toolbar_items[toolbar_ind][1];\n",
       "        var image = mpl.toolbar_items[toolbar_ind][2];\n",
       "        var method_name = mpl.toolbar_items[toolbar_ind][3];\n",
       "\n",
       "        if (!name) { continue; };\n",
       "\n",
       "        var button = $('<button class=\"btn btn-default\" href=\"#\" title=\"' + name + '\"><i class=\"fa ' + image + ' fa-lg\"></i></button>');\n",
       "        button.click(method_name, toolbar_event);\n",
       "        button.mouseover(tooltip, toolbar_mouse_event);\n",
       "        nav_element.append(button);\n",
       "    }\n",
       "\n",
       "    // Add the status bar.\n",
       "    var status_bar = $('<span class=\"mpl-message\" style=\"text-align:right; float: right;\"/>');\n",
       "    nav_element.append(status_bar);\n",
       "    this.message = status_bar[0];\n",
       "\n",
       "    // Add the close button to the window.\n",
       "    var buttongrp = $('<div class=\"btn-group inline pull-right\"></div>');\n",
       "    var button = $('<button class=\"btn btn-mini btn-primary\" href=\"#\" title=\"Stop Interaction\"><i class=\"fa fa-power-off icon-remove icon-large\"></i></button>');\n",
       "    button.click(function (evt) { fig.handle_close(fig, {}); } );\n",
       "    button.mouseover('Stop Interaction', toolbar_mouse_event);\n",
       "    buttongrp.append(button);\n",
       "    var titlebar = this.root.find($('.ui-dialog-titlebar'));\n",
       "    titlebar.prepend(buttongrp);\n",
       "}\n",
       "\n",
       "mpl.figure.prototype._root_extra_style = function(el){\n",
       "    var fig = this\n",
       "    el.on(\"remove\", function(){\n",
       "\tfig.close_ws(fig, {});\n",
       "    });\n",
       "}\n",
       "\n",
       "mpl.figure.prototype._canvas_extra_style = function(el){\n",
       "    // this is important to make the div 'focusable\n",
       "    el.attr('tabindex', 0)\n",
       "    // reach out to IPython and tell the keyboard manager to turn it's self\n",
       "    // off when our div gets focus\n",
       "\n",
       "    // location in version 3\n",
       "    if (IPython.notebook.keyboard_manager) {\n",
       "        IPython.notebook.keyboard_manager.register_events(el);\n",
       "    }\n",
       "    else {\n",
       "        // location in version 2\n",
       "        IPython.keyboard_manager.register_events(el);\n",
       "    }\n",
       "\n",
       "}\n",
       "\n",
       "mpl.figure.prototype._key_event_extra = function(event, name) {\n",
       "    var manager = IPython.notebook.keyboard_manager;\n",
       "    if (!manager)\n",
       "        manager = IPython.keyboard_manager;\n",
       "\n",
       "    // Check for shift+enter\n",
       "    if (event.shiftKey && event.which == 13) {\n",
       "        this.canvas_div.blur();\n",
       "        // select the cell after this one\n",
       "        var index = IPython.notebook.find_cell_index(this.cell_info[0]);\n",
       "        IPython.notebook.select(index + 1);\n",
       "    }\n",
       "}\n",
       "\n",
       "mpl.figure.prototype.handle_save = function(fig, msg) {\n",
       "    fig.ondownload(fig, null);\n",
       "}\n",
       "\n",
       "\n",
       "mpl.find_output_cell = function(html_output) {\n",
       "    // Return the cell and output element which can be found *uniquely* in the notebook.\n",
       "    // Note - this is a bit hacky, but it is done because the \"notebook_saving.Notebook\"\n",
       "    // IPython event is triggered only after the cells have been serialised, which for\n",
       "    // our purposes (turning an active figure into a static one), is too late.\n",
       "    var cells = IPython.notebook.get_cells();\n",
       "    var ncells = cells.length;\n",
       "    for (var i=0; i<ncells; i++) {\n",
       "        var cell = cells[i];\n",
       "        if (cell.cell_type === 'code'){\n",
       "            for (var j=0; j<cell.output_area.outputs.length; j++) {\n",
       "                var data = cell.output_area.outputs[j];\n",
       "                if (data.data) {\n",
       "                    // IPython >= 3 moved mimebundle to data attribute of output\n",
       "                    data = data.data;\n",
       "                }\n",
       "                if (data['text/html'] == html_output) {\n",
       "                    return [cell, data, j];\n",
       "                }\n",
       "            }\n",
       "        }\n",
       "    }\n",
       "}\n",
       "\n",
       "// Register the function which deals with the matplotlib target/channel.\n",
       "// The kernel may be null if the page has been refreshed.\n",
       "if (IPython.notebook.kernel != null) {\n",
       "    IPython.notebook.kernel.comm_manager.register_target('matplotlib', mpl.mpl_figure_comm);\n",
       "}\n"
      ],
      "text/plain": [
       "<IPython.core.display.Javascript object>"
      ]
     },
     "metadata": {},
     "output_type": "display_data"
    },
    {
     "data": {
      "text/html": [
       "<img src=\"data:image/png;base64,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\" width=\"640\">"
      ],
      "text/plain": [
       "<IPython.core.display.HTML object>"
      ]
     },
     "metadata": {},
     "output_type": "display_data"
    },
    {
     "data": {
      "text/plain": [
       "[<matplotlib.lines.Line2D at 0x153d9b7feb0>]"
      ]
     },
     "execution_count": 106,
     "metadata": {},
     "output_type": "execute_result"
    }
   ],
   "source": [
    "%matplotlib notebook    \n",
    "import math\n",
    "\n",
    "lista_x = []  # En esta lista guardaremos los valores para los que vamos a calcular el coseno\n",
    "for i in range(-100, 101):\n",
    "    lista_x.append(i / 10)\n",
    "    pass # ESCRIBE AQUÍ una instrucción para \"añadir a lista_x el valor i / 10\"\n",
    "    \n",
    "lista_y = []  # En esta lista guardaremos los cosenos de los valores anteriores\n",
    "for x in lista_x:\n",
    "    lista_y.append(math.cos(x))\n",
    "    pass # ESCRIBE AQUÍ una instrucción para \"añadir a lista_y el valor coseno(x)\"\n",
    "    \n",
    "\n",
    "# ESCRIBE AQUÍ una instrucción para dibujar la gráfica correspondiente a las coordenadas lista_x y lista_y.\n",
    "# Elige las opciones de formato de la representación gráfica que quieras\n",
    "\n",
    "\n",
    "pyplot.plot(lista_x, lista_y, \"o\")\n"
   ]
  },
  {
   "cell_type": "markdown",
   "metadata": {},
   "source": [
    "## 8. Ficheros"
   ]
  },
  {
   "cell_type": "markdown",
   "metadata": {},
   "source": [
    "Es muy habitual trabajar con **ficheros**. Aunque los ficheros pueden contener todo tipo de datos, nosotros trabajaremos con ficheros de texto. Al igual que haces tú mismo cuando quieres trabajar con un documento en el ordenador, para trabajar con un fichero en Python primero tenemos que abrirlo; después podemos leer o escribir datos en el mismo, y finalmente hemos de cerrarlo. Aquí tienes un pequeño ejemplo que abre un fichero de texto y muestra su contenido en pantalla:\n"
   ]
  },
  {
   "cell_type": "code",
   "execution_count": 107,
   "metadata": {},
   "outputs": [
    {
     "name": "stdout",
     "output_type": "stream",
     "text": [
      "Un pequeño texto de prueba.\n",
      "\n",
      "Sólo hay dos líneas en este fichero.\n"
     ]
    }
   ],
   "source": [
    "with open(\"prueba.txt\") as f:\n",
    "    for linea in f:\n",
    "        print(linea)\n",
    "\n",
    "# El archivo se cierra automáticamente cuando acaban las instrucciones escritas dentro de la instrucción \"with\""
   ]
  },
  {
   "cell_type": "markdown",
   "metadata": {},
   "source": [
    "Si el código anterior ocasiona un error al ser ejecutado, asegúrate de que tienes el archivo *prueba.txt* en la misma carpeta desde la que estás ejecutando este notebook."
   ]
  },
  {
   "cell_type": "markdown",
   "metadata": {},
   "source": [
    "## 9. Función principal"
   ]
  },
  {
   "cell_type": "markdown",
   "metadata": {},
   "source": [
    "Cuando escribimos nuestro código en un fichero de texto con extensión \".py\", estamos definiendo un módulo. Otros programadores podrán importar nuestro módulo, y hacer uso en sus programas de las funciones que hayamos definido en el mismo, o de las variables y objetos que aparezcan definidos sin indentar.\n",
    "\n",
    "Sin embargo, algunas veces queremos que el código que hemos escrito sea ejecutado por un usuario; es decir, estamos definiendo un **programa ejecutable**. En este caso, el usuario puede ejecutar el programa con el siguiente comando, escrito desde el **terminal** o **ventana de comandos** del sistema operativo:\n",
    "\n",
    "<pre>\n",
    "python nombre_fichero.py\n",
    "</pre>\n",
    "\n",
    "Cuando un programa es ejecutable, debe existir un **punto de entrada**. Un punto de entrada es un conjunto de instrucciones que se ejecutarán cuando se lance el programa. En Python, estas instrucciones se deben escribir dentro de un bloque **if** como el que se muestra a continuación:"
   ]
  },
  {
   "cell_type": "code",
   "execution_count": 108,
   "metadata": {},
   "outputs": [
    {
     "name": "stdout",
     "output_type": "stream",
     "text": [
      "Buenos días, Antonio\n"
     ]
    }
   ],
   "source": [
    "if __name__ == '__main__':\n",
    "    # Aquí vienen las instrucciones que definen el punto de entrada del programa\n",
    "    horaActual = datetime.now() \n",
    "    saluda(\"Antonio\", horaActual.hour)\n",
    "    "
   ]
  },
  {
   "cell_type": "markdown",
   "metadata": {},
   "source": [
    "A veces, el conjunto de instrucciones que definen el punto de entrada se escribe dentro de una función, a la que se le suele dar el nombre **main**. Esto en Python no es obligatorio, aunque sí lo es en otros lenguajes de programación. Si queremos hacerlo así, entonces el programa ejecutable anterior quedaría como sigue (se muestra a continuación el programa completo, con las sentencias *import* y las definiciones de funciones necesarias):\n"
   ]
  },
  {
   "cell_type": "code",
   "execution_count": 109,
   "metadata": {},
   "outputs": [
    {
     "name": "stdout",
     "output_type": "stream",
     "text": [
      "Buenos días, Antonio\n"
     ]
    }
   ],
   "source": [
    "from datetime import datetime\n",
    "\n",
    "\n",
    "def main():\n",
    "    horaActual = datetime.now() \n",
    "    saluda(\"Antonio\", horaActual.hour)\n",
    "\n",
    "\n",
    "def saluda(nombre, hora):\n",
    "    if hora < 12:     # Si el parámetro \"hora\" es menor de 12, se ejecuta el siguiente bloque de instrucciones\n",
    "        print(\"Buenos días, \" + nombre)\n",
    "    elif hora < 21:   # En otro caso, si el parámetro \"hora\" es menor de 21, se ejecuta el siguiente bloque de instrucciones\n",
    "        print(\"Buenas tardes, \" + nombre)\n",
    "    else:           # En cualquier otro caso, se ejecuta el siguiente bloque de instrucciones\n",
    "        print(\"Buenas noches, \" + nombre)\n",
    "\n",
    "\n",
    "if __name__ == '__main__':\n",
    "    main()\n",
    " "
   ]
  },
  {
   "cell_type": "markdown",
   "metadata": {},
   "source": [
    "### ¡Prueba tú!"
   ]
  },
  {
   "cell_type": "markdown",
   "metadata": {},
   "source": [
    "Escribe el código anterior en un fichero de texto llamado \"saluda.py\", y trata de ejecutarlo desde el terminal o ventana de comandos de tu sistema operativo."
   ]
  },
  {
   "cell_type": "markdown",
   "metadata": {},
   "source": [
    "---\n",
    "\n",
    "Ya sabes lo básico para entender programas simples escritos en Python y para escribir los tuyos propios."
   ]
  }
 ],
 "metadata": {
  "anaconda-cloud": {},
  "celltoolbar": "Raw Cell Format",
  "kernelspec": {
   "display_name": "Python 3",
   "language": "python",
   "name": "python3"
  },
  "language_info": {
   "codemirror_mode": {
    "name": "ipython",
    "version": 3
   },
   "file_extension": ".py",
   "mimetype": "text/x-python",
   "name": "python",
   "nbconvert_exporter": "python",
   "pygments_lexer": "ipython3",
   "version": "3.8.3"
  },
  "nbpresent": {
   "slides": {
    "1390653e-bdb6-444a-b611-39c60ffb77a1": {
     "id": "1390653e-bdb6-444a-b611-39c60ffb77a1",
     "prev": "5c2c8cc8-3676-4c06-b94c-d3f866ade69b",
     "regions": {
      "620813b3-9326-41e6-9d30-f5ac4f858225": {
       "attrs": {
        "height": 0.8,
        "width": 0.8,
        "x": 0.1,
        "y": 0.1
       },
       "content": {
        "cell": "86423d42-e808-47e6-b1a7-e925e195f821",
        "part": "whole"
       },
       "id": "620813b3-9326-41e6-9d30-f5ac4f858225"
      }
     }
    },
    "21036f68-a492-4532-a832-b213435c0ad2": {
     "id": "21036f68-a492-4532-a832-b213435c0ad2",
     "prev": "2c1c7f11-e5ee-4a25-8975-f0b033ba739a",
     "regions": {
      "a3908958-0784-4faa-ac97-b9325abe8ede": {
       "attrs": {
        "height": 0.8,
        "width": 0.8,
        "x": 0.1,
        "y": 0.1
       },
       "content": {
        "cell": "9aa64747-dc13-4bd9-bf26-73606628ad1c",
        "part": "whole"
       },
       "id": "a3908958-0784-4faa-ac97-b9325abe8ede"
      }
     }
    },
    "2c1c7f11-e5ee-4a25-8975-f0b033ba739a": {
     "id": "2c1c7f11-e5ee-4a25-8975-f0b033ba739a",
     "prev": "f3f10f50-4cad-4149-b308-c66e6a493a72",
     "regions": {
      "9e2d820e-ec17-4915-b960-0e0d5f640379": {
       "attrs": {
        "height": 0.8,
        "width": 0.8,
        "x": 0.1,
        "y": 0.1
       },
       "content": {
        "cell": "0281a659-abae-4cb9-b30f-b552b9db399e",
        "part": "whole"
       },
       "id": "9e2d820e-ec17-4915-b960-0e0d5f640379"
      }
     }
    },
    "30509a9a-dbd8-4dbd-9fab-852a7266d894": {
     "id": "30509a9a-dbd8-4dbd-9fab-852a7266d894",
     "prev": "8b078b7a-c2c6-4129-a19f-2a4f5c4a26f3",
     "regions": {
      "7baa4379-8f84-4d8f-b002-5a5ffd051489": {
       "attrs": {
        "height": 0.8,
        "width": 0.8,
        "x": 0.1,
        "y": 0.1
       },
       "content": {
        "cell": "14d1a927-b37f-4323-9404-17d453f3b487",
        "part": "whole"
       },
       "id": "7baa4379-8f84-4d8f-b002-5a5ffd051489"
      }
     }
    },
    "42d1bd80-265e-4acf-bbc1-b202afddade3": {
     "id": "42d1bd80-265e-4acf-bbc1-b202afddade3",
     "prev": "9bfe6214-4631-45b5-a05e-8923f178bb57",
     "regions": {
      "f2340145-4108-4fed-a0bc-4b91ca6c10ae": {
       "attrs": {
        "height": 0.8,
        "width": 0.8,
        "x": 0.1,
        "y": 0.1
       },
       "content": {
        "cell": "80be6133-d85a-4e43-9964-6578abcbaaac",
        "part": "whole"
       },
       "id": "f2340145-4108-4fed-a0bc-4b91ca6c10ae"
      }
     }
    },
    "5c2c8cc8-3676-4c06-b94c-d3f866ade69b": {
     "id": "5c2c8cc8-3676-4c06-b94c-d3f866ade69b",
     "prev": "6c4bc874-f3fc-472c-a81c-cd415b91c24b",
     "regions": {
      "e1de7ab6-4ef2-4b14-92d7-b174bf32806e": {
       "attrs": {
        "height": 0.8,
        "width": 0.8,
        "x": 0.1,
        "y": 0.1
       },
       "content": {
        "cell": "ae8725fa-30f7-4d7f-a2c2-5f86953d730b",
        "part": "whole"
       },
       "id": "e1de7ab6-4ef2-4b14-92d7-b174bf32806e"
      }
     }
    },
    "5cab5674-74dc-4378-93d7-eaa79e90cdae": {
     "id": "5cab5674-74dc-4378-93d7-eaa79e90cdae",
     "prev": "ba274d18-2760-4e55-ad47-2727b824fd00",
     "regions": {
      "2178d7cf-bf1e-4850-95a2-1509f15febfa": {
       "attrs": {
        "height": 0.8,
        "width": 0.8,
        "x": 0.1,
        "y": 0.1
       },
       "content": {
        "cell": "5d433d13-f44a-45bb-91fd-406f60b33b67",
        "part": "whole"
       },
       "id": "2178d7cf-bf1e-4850-95a2-1509f15febfa"
      }
     }
    },
    "638df7e1-84d1-4fd4-a15c-c94b731d1bea": {
     "id": "638df7e1-84d1-4fd4-a15c-c94b731d1bea",
     "prev": "b9dddf99-da24-46e1-81d4-8ac33b6fc3a3",
     "regions": {
      "deba8b1f-d997-4426-8f1b-978df7f19b41": {
       "attrs": {
        "height": 0.8,
        "width": 0.8,
        "x": 0.1,
        "y": 0.1
       },
       "content": {
        "cell": "7adaaf8f-a83e-456b-b99a-d3b3d4cb6d1a",
        "part": "whole"
       },
       "id": "deba8b1f-d997-4426-8f1b-978df7f19b41"
      }
     }
    },
    "6bda9eb4-0724-4e53-9971-131d0cb5f9e2": {
     "id": "6bda9eb4-0724-4e53-9971-131d0cb5f9e2",
     "prev": "ee33e624-cd65-4b8c-b28b-c95623a56dbf",
     "regions": {
      "feffbbd2-27d1-4318-8359-7d57583ee2bc": {
       "attrs": {
        "height": 0.8,
        "width": 0.8,
        "x": 0.1,
        "y": 0.1
       },
       "content": {
        "cell": "8dce188c-36b7-41fa-9020-b5cb5502e452",
        "part": "whole"
       },
       "id": "feffbbd2-27d1-4318-8359-7d57583ee2bc"
      }
     }
    },
    "6c4bc874-f3fc-472c-a81c-cd415b91c24b": {
     "id": "6c4bc874-f3fc-472c-a81c-cd415b91c24b",
     "prev": null,
     "regions": {
      "c9eac7e8-d033-4b03-8bf7-abd58ffe8d41": {
       "attrs": {
        "height": 0.8,
        "width": 0.8,
        "x": 0.1,
        "y": 0.1
       },
       "content": {
        "cell": "71219fc3-c9cb-4700-9f0b-ab38b1b223da",
        "part": "whole"
       },
       "id": "c9eac7e8-d033-4b03-8bf7-abd58ffe8d41"
      }
     }
    },
    "6d7ab34f-9d99-4c74-9877-27b25abc73f0": {
     "id": "6d7ab34f-9d99-4c74-9877-27b25abc73f0",
     "prev": "febe7de9-9362-4079-bfe9-2d4dfddf00e2",
     "regions": {
      "2ee252de-db5f-43e7-b4b7-7f59bba29962": {
       "attrs": {
        "height": 0.8,
        "width": 0.8,
        "x": 0.1,
        "y": 0.1
       },
       "content": {
        "cell": "85d1ab90-cc65-4935-808b-a6f57ecc892e",
        "part": "whole"
       },
       "id": "2ee252de-db5f-43e7-b4b7-7f59bba29962"
      }
     }
    },
    "7ea582c3-439d-4ec2-9f27-dea18bcacc31": {
     "id": "7ea582c3-439d-4ec2-9f27-dea18bcacc31",
     "prev": "f0727a74-61a1-48c1-94a5-3e7490c29f0b",
     "regions": {
      "652960af-b61f-4c36-b122-3eacd714867b": {
       "attrs": {
        "height": 0.8,
        "width": 0.8,
        "x": 0.1,
        "y": 0.1
       },
       "content": {
        "cell": "86172e20-fe16-447d-859f-24a81e563011",
        "part": "whole"
       },
       "id": "652960af-b61f-4c36-b122-3eacd714867b"
      }
     }
    },
    "8b078b7a-c2c6-4129-a19f-2a4f5c4a26f3": {
     "id": "8b078b7a-c2c6-4129-a19f-2a4f5c4a26f3",
     "prev": "5cab5674-74dc-4378-93d7-eaa79e90cdae",
     "regions": {
      "dce1e605-9342-414d-b8c6-7dcb922fbf47": {
       "attrs": {
        "height": 0.8,
        "width": 0.8,
        "x": 0.1,
        "y": 0.1
       },
       "content": {
        "cell": "ee1bdf03-6e13-4f1f-9dc9-22d4e344fdba",
        "part": "whole"
       },
       "id": "dce1e605-9342-414d-b8c6-7dcb922fbf47"
      }
     }
    },
    "999513ad-b53e-4d84-b9ef-ed37967f74d6": {
     "id": "999513ad-b53e-4d84-b9ef-ed37967f74d6",
     "prev": "638df7e1-84d1-4fd4-a15c-c94b731d1bea",
     "regions": {
      "2e85c1b2-3c30-413e-9b0f-141281da3a2a": {
       "attrs": {
        "height": 0.8,
        "width": 0.8,
        "x": 0.1,
        "y": 0.1
       },
       "content": {
        "cell": "998dc7f5-ab6d-4fb8-866f-4fa96a06aaaa",
        "part": "whole"
       },
       "id": "2e85c1b2-3c30-413e-9b0f-141281da3a2a"
      }
     }
    },
    "9add3d79-8621-4167-8e1d-d4ae48fba71b": {
     "id": "9add3d79-8621-4167-8e1d-d4ae48fba71b",
     "prev": "7ea582c3-439d-4ec2-9f27-dea18bcacc31",
     "regions": {
      "d5f4537e-4d8c-4179-b14b-6c475f50b04e": {
       "attrs": {
        "height": 0.8,
        "width": 0.8,
        "x": 0.1,
        "y": 0.1
       },
       "content": {
        "cell": "9659b1c1-9aed-4d71-b830-4a60d408ad71",
        "part": "whole"
       },
       "id": "d5f4537e-4d8c-4179-b14b-6c475f50b04e"
      }
     }
    },
    "9bfe6214-4631-45b5-a05e-8923f178bb57": {
     "id": "9bfe6214-4631-45b5-a05e-8923f178bb57",
     "prev": "30509a9a-dbd8-4dbd-9fab-852a7266d894",
     "regions": {
      "aac53254-d149-49f2-8f92-670c6f2714bb": {
       "attrs": {
        "height": 0.8,
        "width": 0.8,
        "x": 0.1,
        "y": 0.1
       },
       "content": {
        "cell": "c71a78d7-9d0e-4825-9c84-9998f971317d",
        "part": "whole"
       },
       "id": "aac53254-d149-49f2-8f92-670c6f2714bb"
      }
     }
    },
    "b9dddf99-da24-46e1-81d4-8ac33b6fc3a3": {
     "id": "b9dddf99-da24-46e1-81d4-8ac33b6fc3a3",
     "prev": "1390653e-bdb6-444a-b611-39c60ffb77a1",
     "regions": {
      "0b31dbb4-f15b-4a16-9420-c5dc8ed4e871": {
       "attrs": {
        "height": 0.8,
        "width": 0.8,
        "x": 0.1,
        "y": 0.1
       },
       "content": {
        "cell": "d0569bb0-fad8-48b7-8d48-0066bfb90401",
        "part": "whole"
       },
       "id": "0b31dbb4-f15b-4a16-9420-c5dc8ed4e871"
      }
     }
    },
    "ba274d18-2760-4e55-ad47-2727b824fd00": {
     "id": "ba274d18-2760-4e55-ad47-2727b824fd00",
     "prev": "ed47079d-58cf-4b87-a9fa-a709d8a7c3c6",
     "regions": {
      "13000b51-bd66-4fb5-970b-20bfad440880": {
       "attrs": {
        "height": 0.8,
        "width": 0.8,
        "x": 0.1,
        "y": 0.1
       },
       "content": {
        "cell": "f6847886-4044-43a7-9edd-f18efddcb7a9",
        "part": "whole"
       },
       "id": "13000b51-bd66-4fb5-970b-20bfad440880"
      }
     }
    },
    "ed47079d-58cf-4b87-a9fa-a709d8a7c3c6": {
     "id": "ed47079d-58cf-4b87-a9fa-a709d8a7c3c6",
     "prev": "9add3d79-8621-4167-8e1d-d4ae48fba71b",
     "regions": {
      "a96aea94-1714-4020-83f9-dbc03e9fd55e": {
       "attrs": {
        "height": 0.8,
        "width": 0.8,
        "x": 0.1,
        "y": 0.1
       },
       "content": {
        "cell": "5a579720-fa62-4525-85e3-dd049cbd73be",
        "part": "whole"
       },
       "id": "a96aea94-1714-4020-83f9-dbc03e9fd55e"
      }
     }
    },
    "ee33e624-cd65-4b8c-b28b-c95623a56dbf": {
     "id": "ee33e624-cd65-4b8c-b28b-c95623a56dbf",
     "prev": "999513ad-b53e-4d84-b9ef-ed37967f74d6",
     "regions": {
      "325ae98d-0855-4d16-8408-6d12f47efa24": {
       "attrs": {
        "height": 0.8,
        "width": 0.8,
        "x": 0.1,
        "y": 0.1
       },
       "content": {
        "cell": "829150e0-712b-4739-92d6-37b9c3d789cb",
        "part": "whole"
       },
       "id": "325ae98d-0855-4d16-8408-6d12f47efa24"
      }
     }
    },
    "f0727a74-61a1-48c1-94a5-3e7490c29f0b": {
     "id": "f0727a74-61a1-48c1-94a5-3e7490c29f0b",
     "prev": "6d7ab34f-9d99-4c74-9877-27b25abc73f0",
     "regions": {
      "1666081e-448d-4f80-90f2-9f26f1568cdc": {
       "attrs": {
        "height": 0.8,
        "width": 0.8,
        "x": 0.1,
        "y": 0.1
       },
       "content": {
        "cell": "d99a804c-9444-418b-bc94-3c2f064e2844",
        "part": "whole"
       },
       "id": "1666081e-448d-4f80-90f2-9f26f1568cdc"
      }
     }
    },
    "f3f10f50-4cad-4149-b308-c66e6a493a72": {
     "id": "f3f10f50-4cad-4149-b308-c66e6a493a72",
     "prev": "42d1bd80-265e-4acf-bbc1-b202afddade3",
     "regions": {
      "4fc1185f-bdb8-46fc-99bd-b8d30defeca9": {
       "attrs": {
        "height": 0.8,
        "width": 0.8,
        "x": 0.1,
        "y": 0.1
       },
       "content": {
        "cell": "9b7597e9-aaa9-4d9f-ba0d-22f43d1a3900",
        "part": "whole"
       },
       "id": "4fc1185f-bdb8-46fc-99bd-b8d30defeca9"
      }
     }
    },
    "febe7de9-9362-4079-bfe9-2d4dfddf00e2": {
     "id": "febe7de9-9362-4079-bfe9-2d4dfddf00e2",
     "prev": "6bda9eb4-0724-4e53-9971-131d0cb5f9e2",
     "regions": {
      "42348103-1cd6-4bac-b346-33cd41aea444": {
       "attrs": {
        "height": 0.8,
        "width": 0.8,
        "x": 0.1,
        "y": 0.1
       },
       "content": {
        "cell": "35a148d4-f201-4441-bf5e-8a07f93dea84",
        "part": "whole"
       },
       "id": "42348103-1cd6-4bac-b346-33cd41aea444"
      }
     }
    }
   },
   "themes": {}
  }
 },
 "nbformat": 4,
 "nbformat_minor": 1
}
