{
 "cells": [
  {
   "cell_type": "markdown",
   "metadata": {},
   "source": [
    "# Examen Python \n",
    "**Fecha**: 9 de Diciembre 2020  **I.E.S. Velázquez:** Curso 2020-2021\n",
    "**Alumno**: Andrés Carmona Lozano"
   ]
  },
  {
   "cell_type": "markdown",
   "metadata": {},
   "source": [
    "## Índice de ejercicios\n",
    "* [Ejercicio 1](#ejercicio_uno)\n",
    "* [Ejercicio 2](#ejercicio_dos)\n",
    "* [Ejercicio 3](#ejercicio_tres)\n",
    "* [Ejercicio 4](#ejercicio_cuatro)\n",
    "* [Ejercicio 5](#ejercicio_cinco)\n",
    "* [Ejercicio 6](#ejercicio_seis)\n",
    "* [Ejercicio 7](#ejercicio_siete)\n",
    "* [Ejercicio 8](#ejercicio_ocho)"
   ]
  },
  {
   "cell_type": "markdown",
   "metadata": {},
   "source": [
    "## Ejercicio 1 <a name=\"ejercicio_uno\"/>"
   ]
  },
  {
   "cell_type": "markdown",
   "metadata": {},
   "source": [
    "Escribe una función que recibe un **conjunto de números enteros aleatorios** y devuelve **dos listas ordenadas**. La primera lista ordenada contiene los números pares y la segunda los números impares.\n",
    "\n",
    "El conjunto estará formado como máximo por 100 números enteros aleatorios comprendidos entre el 1 y 999.\n"
   ]
  },
  {
   "cell_type": "markdown",
   "metadata": {},
   "source": [
    "### ¡Prueba tú!"
   ]
  },
  {
   "cell_type": "code",
   "execution_count": 7,
   "metadata": {},
   "outputs": [
    {
     "name": "stdout",
     "output_type": "stream",
     "text": [
      "[297, 783, 629, 923, 633, 607, 67, 587, 479, 551, 393, 883, 401, 805, 517, 377, 445, 407, 405, 811, 305, 825, 349, 685, 941, 965, 175, 265, 865, 751, 439, 791, 247, 141, 339, 323, 827, 791, 255, 7, 145, 647, 309, 565, 329, 173, 163, 111, 303, 199, 43, 13, 269, 191, 789, 569]\n"
     ]
    }
   ],
   "source": [
    "#importación de la librería random\n",
    "import random\n",
    "# randrange devuelve un número aleatorio en un rango\n",
    "def listas(enteros):\n",
    "    impares = []\n",
    "    pares = []\n",
    "    for x in enteros:\n",
    "        if((x%2)==0):\n",
    "            pares.append(x)\n",
    "        else:\n",
    "            impares.append(x)\n",
    "    return pares,impares\n",
    "listaNumeros = []\n",
    "for i in range(1,101):\n",
    "    listaNumeros.append(random.randint(1,999))\n",
    "print(listas(listaNumeros)[1])"
   ]
  },
  {
   "cell_type": "markdown",
   "metadata": {},
   "source": [
    "<hr>"
   ]
  },
  {
   "cell_type": "markdown",
   "metadata": {},
   "source": [
    "## Ejercicio 2 <a name=\"ejercicio_dos\"/>"
   ]
  },
  {
   "cell_type": "markdown",
   "metadata": {},
   "source": [
    "Escribe un programa que genere una lista, de la forma más eficiente, con los números del 1 al 10 y los muestre por pantalla en orden inverso separados por comas."
   ]
  },
  {
   "cell_type": "markdown",
   "metadata": {},
   "source": [
    "## ¡Prueba tú!"
   ]
  },
  {
   "cell_type": "code",
   "execution_count": 36,
   "metadata": {},
   "outputs": [
    {
     "name": "stdout",
     "output_type": "stream",
     "text": [
      "[10, 9, 8, 7, 6, 5, 4, 3, 2, 1]\n"
     ]
    }
   ],
   "source": [
    "lista = list(range(10,0,-1))\n",
    "print(lista)"
   ]
  },
  {
   "cell_type": "markdown",
   "metadata": {},
   "source": [
    "<hr>"
   ]
  },
  {
   "cell_type": "markdown",
   "metadata": {},
   "source": [
    "## Ejercicio 3 <a name=\"ejercicio_tres\"/>"
   ]
  },
  {
   "cell_type": "markdown",
   "metadata": {},
   "source": [
    "Obtener múltiplos de \"tres\" y \"nueve\".\n",
    "\n",
    "Construye una lista de tuplas en el que cada tupla es de la forma (número con tres dígitos, mayor divisor entre tres y nueve) En las lista sólo se deben incluir los números desde el 1 hasta el 900 que sean múltiplos de tres o de nueve. \n",
    "[('003',\"tres\"), ('006',\"tres\"), ('009',\"nueve\"), ('012', \"tres\"), ('015', \"tres\"), ('018',\"nueve\"),....('900',\"nueve\")]\n",
    "\n",
    "Obtén mediante slicing las tuplas (número con tres dígitos, mayor divisor entre tres y nueve) de los 10 primeros números que acaben en número par (0,2,4,6 o 8) que sean múltiplos de 3 o de 9.<br>\n",
    "Obtén mediante slicing las tuplas (número con tres dígitos, mayor divisor entre tres y nueve) de los últimos 7 números multiplos de tres o de nueve que acaben en cero.<br>\n",
    "Obtén mediante slicing las tuplas (número con tres dígitos, mayor divisor entre tres y nueve) de todos los múltiplos de nueve."
   ]
  },
  {
   "cell_type": "markdown",
   "metadata": {},
   "source": [
    "## ¡Prueba tú!"
   ]
  },
  {
   "cell_type": "code",
   "execution_count": 134,
   "metadata": {},
   "outputs": [
    {
     "name": "stdout",
     "output_type": "stream",
     "text": [
      "[('102', 'tres'), ('108', 'nueve'), ('114', 'tres'), ('120', 'tres'), ('126', 'nueve'), ('132', 'tres'), ('138', 'tres'), ('144', 'nueve'), ('150', 'tres'), ('156', 'tres')]\n",
      "[('690', 'tres'), ('720', 'nueve'), ('750', 'tres'), ('780', 'tres'), ('810', 'nueve'), ('840', 'tres'), ('870', 'tres')]\n",
      "nueve [('900', 'nueve'), ('891', 'nueve'), ('882', 'nueve'), ('873', 'nueve'), ('864', 'nueve'), ('855', 'nueve'), ('846', 'nueve'), ('837', 'nueve'), ('828', 'nueve'), ('819', 'nueve'), ('810', 'nueve'), ('801', 'nueve'), ('792', 'nueve'), ('783', 'nueve'), ('774', 'nueve'), ('765', 'nueve'), ('756', 'nueve'), ('747', 'nueve'), ('738', 'nueve'), ('729', 'nueve'), ('720', 'nueve'), ('711', 'nueve'), ('702', 'nueve'), ('693', 'nueve'), ('684', 'nueve'), ('675', 'nueve'), ('666', 'nueve'), ('657', 'nueve'), ('648', 'nueve'), ('639', 'nueve'), ('630', 'nueve'), ('621', 'nueve'), ('612', 'nueve'), ('603', 'nueve'), ('594', 'nueve'), ('585', 'nueve'), ('576', 'nueve'), ('567', 'nueve'), ('558', 'nueve'), ('549', 'nueve'), ('540', 'nueve'), ('531', 'nueve'), ('522', 'nueve'), ('513', 'nueve'), ('504', 'nueve'), ('495', 'nueve'), ('486', 'nueve'), ('477', 'nueve'), ('468', 'nueve'), ('459', 'nueve'), ('450', 'nueve'), ('441', 'nueve'), ('432', 'nueve'), ('423', 'nueve'), ('414', 'nueve'), ('405', 'nueve'), ('396', 'nueve'), ('387', 'nueve'), ('378', 'nueve'), ('369', 'nueve'), ('360', 'nueve'), ('351', 'nueve'), ('342', 'nueve'), ('333', 'nueve'), ('324', 'nueve'), ('315', 'nueve'), ('306', 'nueve'), ('297', 'nueve'), ('288', 'nueve'), ('279', 'nueve'), ('270', 'nueve'), ('261', 'nueve'), ('252', 'nueve'), ('243', 'nueve'), ('234', 'nueve'), ('225', 'nueve'), ('216', 'nueve'), ('207', 'nueve'), ('198', 'nueve'), ('189', 'nueve'), ('180', 'nueve'), ('171', 'nueve'), ('162', 'nueve'), ('153', 'nueve'), ('144', 'nueve'), ('135', 'nueve'), ('126', 'nueve'), ('117', 'nueve'), ('108', 'nueve'), ('099', 'nueve'), ('090', 'nueve'), ('081', 'nueve'), ('072', 'nueve'), ('063', 'nueve'), ('054', 'nueve'), ('045', 'nueve'), ('036', 'nueve'), ('027', 'nueve'), ('018', 'nueve'), ('009', 'nueve')]\n"
     ]
    }
   ],
   "source": [
    "multiplos = []\n",
    "for i in range(1,901):\n",
    "    if((i%9)==0):\n",
    "        multiplos.append(('{0:03d}'.format(i),\"nueve\"))\n",
    "    elif((i%3)==0):\n",
    "        multiplos.append(('{0:03d}'.format(i),\"tres\"))\n",
    "\n",
    "print(multiplos[33:53:2])\n",
    "print(multiplos[229:299:10])\n",
    "print(\"nueve\",multiplos[299::-3])"
   ]
  },
  {
   "cell_type": "markdown",
   "metadata": {},
   "source": [
    "<hr>"
   ]
  },
  {
   "cell_type": "markdown",
   "metadata": {},
   "source": [
    "## Ejercicio 4 <a name=\"ejercicio_cuatro\"/>"
   ]
  },
  {
   "cell_type": "markdown",
   "metadata": {},
   "source": [
    "Escribe un programa que simule un juego de dados entre dos jugadores (Juan y Ana). Cada jugador lanza dos dados. Si no coincide ningún dado, gana Juan. Si coincide uno de los dados, gana Ana. Si coinciden los dos dados, empatan.\n",
    "\n",
    "Ejemplos<br>\n",
    "JUEGO DE DADOS<br>\n",
    "Juan ha sacado 3 y 5.<br>\n",
    "Ana ha sacado 1 y 3.<br>\n",
    "Ha ganado Ana.<br>\n",
    "\n",
    "JUEGO DE DADOS<br>\n",
    "Juan ha sacado 5 y 3,<br>\n",
    "Ana ha sacado 6 y 1.<br>\n",
    "Ha ganado Juan.<br>\n",
    "\n",
    "JUEGO DE DADOS<br>\n",
    "Juan ha sacado 3 y 3.<br>\n",
    "Ana ha sacado 3 y 1.<br>\n",
    "Ha ganado Ana.<br>\n",
    "\n",
    "JUEGO DE DADOS<br>\n",
    "Juan ha sacado 5 y 2.<br>\n",
    "Ana ha sacado 2 y 5.<br>\n",
    "Han empatado.<br>"
   ]
  },
  {
   "cell_type": "markdown",
   "metadata": {},
   "source": [
    "### ¡Prueba tú!\n"
   ]
  },
  {
   "cell_type": "code",
   "execution_count": 29,
   "metadata": {},
   "outputs": [
    {
     "name": "stdout",
     "output_type": "stream",
     "text": [
      "Juan ha sacado 7  y  5\n",
      "Ana ha sacado 3  y  7\n",
      "Ha ganado Ana\n"
     ]
    }
   ],
   "source": [
    "#importación de la librería random\n",
    "import random\n",
    "# randrange devuelve un número aleatorio en un rango\n",
    "def tirada():\n",
    "    tirada = []\n",
    "    for i in range(0,2):\n",
    "        tirada.append(random.randint(1,7))\n",
    "    return tirada\n",
    "juan = tirada()\n",
    "ana = tirada()\n",
    "print(\"Juan ha sacado\",juan[0],\" y \",juan[1])\n",
    "print(\"Ana ha sacado\",ana[0],\" y \",ana[1])\n",
    "if(juan[0] in ana or juan[1] in ana):\n",
    "    if(juan[0]==ana[0] and ana[1] == juan[1]):\n",
    "        print(\"Han empatado.\")\n",
    "    else:\n",
    "        print(\"Ha ganado Ana\")\n",
    "else:\n",
    "    print(\"Ha ganado Juan\")"
   ]
  },
  {
   "cell_type": "markdown",
   "metadata": {},
   "source": [
    "<hr>"
   ]
  },
  {
   "cell_type": "markdown",
   "metadata": {},
   "source": [
    "## Ejercicio 5 <a name=\"ejercicio_cinco\"/>"
   ]
  },
  {
   "cell_type": "markdown",
   "metadata": {},
   "source": [
    "Escribe un programa que permita encriptar un texto que sólo contenga letras y espacios. La regla seguida para la encriptación es que a cada letra del abecedario independientemente de que esté en minúscula o mayúscula le corresponde un número cardinal empezando en el 1. Al espacio en blanco le corresponde el 0. \n",
    "\n",
    "Tras la encriptación de una letra irá un guión medio salvo que sea la última letra, que no irá nada. El texto encriptado se tendrá que guardar en un fichero txt, con encoding utf-8, con el nombre **ejercicio5.txt**\n",
    "\n",
    "Correspondencia de letras y números:\n",
    "\n",
    "* Al espacio \" \" le corresponde el 0.\n",
    "* A la letra \"A\" le corresponde el 1.\n",
    "* A la letra \"B\" le corresponde el 2.\n",
    "* A la letra \"C\" le corresponde el 3.\n",
    "* ....\n",
    "* A la letra \"Y\" le corresponde el 26.\n",
    "* A la letra \"Z\" le corresponde el 27.\n",
    "\n",
    "\n",
    "Utilizar el siguiente texto para probar el programa\n",
    "\"_Este año mi amigo Juan cursa un ciclo superior_\"\n"
   ]
  },
  {
   "cell_type": "markdown",
   "metadata": {},
   "source": [
    "### ¡Prueba tú!"
   ]
  },
  {
   "cell_type": "code",
   "execution_count": 61,
   "metadata": {},
   "outputs": [
    {
     "name": "stdout",
     "output_type": "stream",
     "text": [
      "_este año mi amigo juan cursa un ciclo superior_\n"
     ]
    }
   ],
   "source": [
    "texto = \"_Este año mi amigo Juan cursa un ciclo superior_\".lower()\n",
    "abc =\" abcdefghijklmnñopqrstuvwxyz\"\n",
    "print(texto)\n",
    "\n",
    "with open(\"ejercicio5.txt\",mode=\"w\",encoding=\"utf-8\") as fichero:\n",
    "    for x in texto:\n",
    "        if(x in abc):\n",
    "            if(x != texto[-1]):\n",
    "                fichero.write(str(abc.index(x))+\"-\")\n",
    "            else:\n",
    "                fichero.write(abc.index(x))\n",
    "        else:\n",
    "            fichero.write(x)\n",
    "    "
   ]
  },
  {
   "cell_type": "markdown",
   "metadata": {},
   "source": [
    "<hr>"
   ]
  },
  {
   "cell_type": "markdown",
   "metadata": {},
   "source": [
    "# Ejercicio 6 <a name=\"ejercicio_seis\"/>"
   ]
  },
  {
   "cell_type": "markdown",
   "metadata": {},
   "source": [
    "Escribe un programa que lea el contenido del fichero \"fichero6.txt\" y cree un diccionario con todas las palabras que aparecen en él. Si una palabra aparece más de una vez, aunque esté en mayúscula y en minúscula, sólo se debe incorporar al diccionario en una ocasión salvo que la misma palabra esté acentuada y sin acentuar en cuyo caso sí debe aparecer dos veces (Ejemplo \"que\" y \"qué\").\n",
    "\n",
    "El diccionario tiene que estar ordenado alfabéticamente tanto por las letras, claves del diccionario, como por los valores, lista asociada a cada letra.\n",
    "\n",
    "**NOTA**: En una ordenación alfabética en Python las letras acentuadas **á,é,í,ó,ú** y la **ñ** van tras la **z**. (Ejemplo \n",
    "'variada', 'viene', 'válidas')\n",
    "\n",
    "Para el contenido del fichero anterior, fichero6.txt, el resultado debe ser:\n",
    "\n",
    "\n",
    "{'a': ['a', 'acciones', 'al', 'alfabeto', 'algoritmos', 'almacenados', 'aplicando', 'artificial'], 'b': ['bajo', 'bien', 'básicamente'], 'c': ['capacidad', 'característica', 'caso', 'circunstancias', 'clases', 'codificación', 'colaborativa', 'comandos', 'como', 'compilación', 'comportamiento', 'comprendidas', 'computadora', 'común', 'con', 'conjunto', 'construcción', 'contenido', 'controlar', 'convertirlo', 'crear', 'código', 'cómo'], 'd': ['datos', 'de', 'debe', 'deben', 'define', 'definen', 'definidas', 'del', 'denomina', 'depuración', 'desarrollo', 'determinadas', 'dicho', 'dichos', 'diversas', 'documentación', 'documentos'], 'e': ['ejecutar', 'ejemplo', 'el', 'ellos', 'empleando', 'en', 'engloban', 'entre', 'error', 'es', 'escribir', 'escritos', 'escritura', 'especificar', 'específico', 'estar', 'este', 'esto', 'estructurar', 'estructuras', 'están', 'existe'], 'f': ['fiable', 'fin', 'forma', 'formados', 'formal', 'fuente', 'físico'], 'g': ['gama', 'gramaticales'], 'h': ['hasta', 'html', 'humano'], 'i': ['informático', 'informáticos', 'instrucciones', 'intenta', 'interpretación'], 'l': ['la', 'las', 'le', 'lenguaje', 'lenguajes', 'llamado', 'los', 'lógica', 'lógicamente', 'lógico'], 'm': ['manera', 'mantenimiento', 'marcado', 'mediante', 'máquina', 'más'], 'n': ['natural', 'no'], 'o': ['o', 'obtener', 'operar', 'otros'], 'p': ['para', 'particular', 'pasos', 'permite', 'permiten', 'persona', 'por', 'precisa', 'precisamente', 'problema', 'proceso', 'programa', 'programación', 'programador', 'programar', 'propiamente', 'proporciona', 'prueba', 'próximo', 'pueda', 'puedan', 'páginas'], 'q': ['que', 'qué'], 'r': ['realizar', 'reglas', 'relativamente', 'relevante', 'resolver'], 's': ['se', 'sean', 'secuencias', 'semánticas', 'ser', 'serie', 'significado', 'siguientes', 'sino', 'sinónimos', 'sobre', 'software', 'su', 'símbolos'], 't': ['tareas', 'todo', 'tomar', 'transmitidos', 'tratar', 'través', 'términos'], 'u': ['un', 'una', 'usar'], 'v': ['variada', 'viene', 'válidas'], 'w': ['web'], 'y': ['y']}"
   ]
  },
  {
   "cell_type": "markdown",
   "metadata": {},
   "source": [
    "### ¡Prueba tú!"
   ]
  },
  {
   "cell_type": "code",
   "execution_count": 292,
   "metadata": {},
   "outputs": [
    {
     "name": "stdout",
     "output_type": "stream",
     "text": [
      "{'i', 't', 'r', 'w', 'h', 'f', 'o', 'c', 'b', 'l', 'q', 'a', 'y', 'e', 'v', 'm', 'n', 's', 'p', 'd', 'u', 'g'}\n",
      "{'a': ['artificial', 'acciones', 'al', 'algoritmos', 'a', 'aplicando', 'almacenados', 'alfabeto'], 'b': ['básicamente', 'bien', 'bajo'], 'c': ['controlar', 'con', 'convertirlo', 'comandos', 'crear', 'construcción', 'común', 'colaborativa', 'circunstancias', 'contenido', 'como', 'comportamiento', 'clases', 'característica', 'compilación', 'capacidad', 'caso', 'codificación', 'código', 'computadora', 'cómo', 'conjunto', 'comprendidas'], 'd': ['documentación', 'define', 'del', 'definen', 'diversas', 'denomina', 'documentos', 'de', 'dicho', 'debe', 'determinadas', 'definidas', 'deben', 'desarrollo', 'datos', 'depuración', 'dichos'], 'e': ['están', 'es', 'esto', 'el', 'empleando', 'específico', 'entre', 'estructurar', 'en', 'ellos', 'ejecutar', 'escribir', 'este', 'existe', 'estructuras', 'estar', 'escritura', 'ejemplo', 'especificar', 'engloban', 'error', 'escritos'], 'f': ['fiable', 'fuente', 'forma', 'formados', 'fin', 'físico', 'formal'], 'g': ['gramaticales', 'gama'], 'h': ['hasta', 'humano', 'html'], 'i': ['informático', 'instrucciones', 'interpretación', 'informáticos', 'intenta'], 'l': ['la', 'lenguajes', 'llamado', 'le', 'lógicamente', 'lógica', 'los', 'las', 'lógico', 'lenguaje'], 'm': ['máquina', 'marcado', 'mediante', 'mantenimiento', 'manera', 'más'], 'n': ['no', 'natural'], 'o': ['o', 'operar', 'obtener', 'otros'], 'p': ['prueba', 'permite', 'para', 'precisa', 'particular', 'programación', 'problema', 'pueda', 'permiten', 'próximo', 'programar', 'persona', 'programador', 'programa', 'proceso', 'puedan', 'precisamente', 'proporciona', 'páginas', 'propiamente', 'pasos', 'por'], 'q': ['qué', 'que'], 'r': ['reglas', 'resolver', 'relativamente', 'relevante', 'realizar'], 's': ['semánticas', 'su', 'símbolos', 'significado', 'sobre', 'serie', 'sean', 'sino', 'siguientes', 'sinónimos', 'ser', 'software', 'se', 'secuencias'], 't': ['tomar', 'través', 'todo', 'términos', 'tratar', 'tareas', 'transmitidos'], 'u': ['un', 'una', 'usar'], 'v': ['viene', 'válidas', 'variada'], 'w': ['web'], 'y': ['y']}\n"
     ]
    }
   ],
   "source": [
    "vocales = {}\n",
    "prueba = [\"a\",\"b\",\"c\",\"d\"]\n",
    "if(\"d\" not in prueba):\n",
    "    print(\"asdfasdf\")\n",
    "with open(\"ejercicio6.txt\",encoding=\"utf-8\") as fichero:\n",
    "    texto = fichero.read().lower()\n",
    "    iniciales = [palabra[0] for palabra in texto.split()]\n",
    "    print(set(iniciales))\n",
    "    vocales = {inicial: [palabra for palabra in set(texto.split()) if palabra[0] == inicial]for inicial in sorted(iniciales) if (inicial) in iniciales}\n",
    "print(vocales)"
   ]
  },
  {
   "cell_type": "markdown",
   "metadata": {},
   "source": [
    "<hr>"
   ]
  },
  {
   "cell_type": "markdown",
   "metadata": {},
   "source": [
    "# Ejercicio 7 <a name=\"ejercicio_siete\"/>"
   ]
  },
  {
   "cell_type": "markdown",
   "metadata": {},
   "source": [
    "Escribe una función con nombre **obtenerInfo** que reciba dos parámetros:\n",
    "* El primer parámetro es una cadena de texto con valor por defecto a cadena vacía que recibe una dirección que no tiene que estar completa.\n",
    "* Un segundo parámetro que es un booleano con valor por defecto a **False** que indica si queremos o no información detallada.\n",
    "\n",
    "La función debe devolver:\n",
    "<ul>\n",
    "    <li>En el caso de que la información detalla sea <b>False</b> un diccionario con la siguiente información:</li>\n",
    "    <ul>\n",
    "        <li>Dirección recibida en la función y de la que se desea obtener información.</li>\n",
    "        <li>El número total de bicicletas cuya dirección contiene la cadena recibida.</li>\n",
    "        <li>El número total de bicicletas libres cuya dirección contiene la cadena recibida.</li>\n",
    "    </ul>\n",
    "    <li>En el caso de que la información detalla sea <b>True</b> una lista de diccionarios:</li>\n",
    "        En cada elemento de la lista debe ir un diccionario con:\n",
    "        <ul>\n",
    "            <li>Dirección dentro del fichero json que cumple con la dirección recibida.</li>\n",
    "            <li>El número total de bicicletas para esa dirección.</li>\n",
    "            <li>El número total de bicicletas libres para esa dirección.</li>\n",
    "        </ul>\n",
    "\n",
    "\n",
    "</ul>\n",
    "\n",
    "La información sobre las direcciones y las bicicletas se puede consultar en el fichero **sevici.json** que debe ser cargado en la función.\n",
    "\n",
    "Dentro del fichero json la información necesaria se encuentra en las siguientes claves:\n",
    "* 'address': Dirección de la estación\n",
    "* 'slots': Número de bicicletas\n",
    "* 'free_bikes': Bicicletas libres\n",
    "\n",
    "**Ejemplos**<br>\n",
    "Para la siguiente llamada a la función  <b>obtenerInfo(\"REINA MERCEDES\")</b> se obtiene<br>\n",
    "[{'Direccion': 'REINA MERCEDES', 'Total': 122, 'Libres': 25}]\n",
    "\n",
    "Para la siguiente llamada a la función  <b>obtenerInfo(\"REINA MERCEDES\", True)</b> se obtiene<br>\n",
    "[{'Direccion': 'AVENIDA REINA MERCEDES - Aprox. Facultad de Informática', 'Total': 25, 'Libres': 17}, {'Direccion': 'AVENIDA REINA MERCEDES - Aprox. Escuela de arquitectura', 'Total': 27, 'Libres': 1}, {'Direccion': 'AVENIDA REINA MERCEDES - Aprox. C/ Profesor García González', 'Total ': 20, 'Libres': 2}, {'Direccion': 'AVENIDA REINA MERCEDES - Aprox. Glorieta Alcalde de Parias Merry', 'Total': 30, 'Libres': 0}, {'Direccion': 'AVENIDA REINA MERCEDES - Aprox. C/ Profesor García González', 'Total': 20, 'Libres': 5}]"
   ]
  },
  {
   "cell_type": "markdown",
   "metadata": {},
   "source": [
    "### ¡Prueba tú!"
   ]
  },
  {
   "cell_type": "code",
   "execution_count": 199,
   "metadata": {},
   "outputs": [
    {
     "name": "stdout",
     "output_type": "stream",
     "text": [
      "fufa\n",
      "{'Direccion': 'PASEO CATALINA RIBERA - Aprox. C/ San Fernando', 'Total': 20, 'Libres': 17}\n"
     ]
    }
   ],
   "source": [
    "import json\n",
    "\n",
    "def obtenerInfo(direccion=\"\",detallada=False):\n",
    "    with open(\"sevici.json\",mode=\"r\",encoding=\"utf-8\") as fichero:\n",
    "        texto = fichero.read()\n",
    "        sevici = json.loads(texto)\n",
    "        if(detallada):\n",
    "            estaciones=[]\n",
    "            for estacion in sevici['network']['stations']:\n",
    "                if(direccion in estacion['extra']['address']):\n",
    "                    estaciones.append({'Direccion':estacion['extra']['address'],'Total':estacion['extra'][\"slots\"],'Libres':estacion[\"free_bikes\"]})\n",
    "                    return estaciones   \n",
    "        else:\n",
    "             for estacion in sevici['network']['stations']:\n",
    "                if(estacion['extra']['address'] == direccion):\n",
    "                    return {'Direccion':estacion['extra']['address'],'Total':estacion['extra'][\"slots\"],'Libres':estacion[\"free_bikes\"]}\n",
    "print(obtenerInfo(\"PASEO CATALINA RIBERA - Aprox. C/ San Fernando\"))"
   ]
  },
  {
   "cell_type": "markdown",
   "metadata": {},
   "source": [
    "<hr>"
   ]
  },
  {
   "cell_type": "markdown",
   "metadata": {},
   "source": [
    "## Ejercicio 8 <a name=\"ejercicio_ocho\"/>"
   ]
  },
  {
   "cell_type": "markdown",
   "metadata": {},
   "source": [
    "Escribe una función **realizarOperacion** que recibe dos números enteros introducidos por el usuario y la operación a realizar.\n",
    "\n",
    "La operación a realizar también es un número entero que introduce el usuario entre los siguientes posibles valores:\n",
    "<ul>\n",
    "    <li>1 - SUMA</li>\n",
    "    <li>2 - RESTA</li>\n",
    "    <li>3 - MULTIPLICACIÓN</li>\n",
    "    <li>4 - DIVISIÓN</li>\n",
    "</ul>\n",
    "\n",
    "\n",
    "Capturar la excepción si el usuario no introduce un número entero o una operación válida y no terminar el programa hasta que se hayan introducido valores válidos.\n",
    " \n",
    "Capturar también la excepción en la función **realizarOperacion** en el caso de que la operación a realizar sea la de  dividir y el segundo número sea un cero (excepción de dividir por cero). En este caso propagar la excepción al programa principal mostrando el siguiente mensaje \"No se puede dividir los números introducidos\".\n",
    "\n",
    "Ejemplos<br>\n",
    "Usuario introduce:<br>\n",
    "Primer número: 10<br>\n",
    "Segundo número 5<br>\n",
    "Operacion: 1<br>\n",
    "Resultado 15<br><br>\n",
    "\n",
    "Usuario introduce:<br>\n",
    "Primer número: 10<br>\n",
    "Segundo número 5<br>\n",
    "Operacion: 2<br>\n",
    "Resultado 5<br><br>\n",
    "\n",
    "Usuario introduce:<br>\n",
    "Primer número: 10<br>\n",
    "Segundo número 5<br>\n",
    "Operacion: 3<br>\n",
    "Resultado 50<br><br>\n",
    "\n",
    "Usuario introduce:<br>\n",
    "Primer número: 10<br>\n",
    "Segundo número 5<br>\n",
    "Operacion: 4<br>\n",
    "Resultado 2<br><br>\n",
    "\n",
    "Usuario introduce:<br>\n",
    "Primer número: 10<br>\n",
    "Segundo número 0<br>\n",
    "No se puede dividir los números introducidos\n"
   ]
  },
  {
   "cell_type": "markdown",
   "metadata": {},
   "source": [
    "### ¡Prueba tú!"
   ]
  },
  {
   "cell_type": "code",
   "execution_count": 212,
   "metadata": {},
   "outputs": [
    {
     "name": "stdout",
     "output_type": "stream",
     "text": [
      "Introduce el primer digito a operar1\n",
      "Introduce el segundo digito a operar2\n",
      "Introduce la operacion: 1-suma,2-resta,3-multiplicacion,4-division4\n",
      "La division de  1  mas  2  es igual a:  0.5\n"
     ]
    }
   ],
   "source": [
    "def realizarOperacion(a,b,operacion):\n",
    "    if(operacion == 1):\n",
    "        print(\"La suma de \",a,\" mas \",b,\" es igual a: \",(a+b))\n",
    "    if(operacion == 2):\n",
    "        print(\"La resta de \",a,\" mas \",b,\" es igual a: \",(a-b))\n",
    "    if(operacion==3):\n",
    "        print(\"La multiplicacion de \",a,\" mas \",b,\" es igual a: \",(a*b))\n",
    "    if(operacion==4):\n",
    "        print(\"La division de \",a,\" mas \",b,\" es igual a: \",(a/b))\n",
    "    \n",
    "try:\n",
    "    a = int(input(\"Introduce el primer digito a operar\"))\n",
    "    b = int(input(\"Introduce el segundo digito a operar\"))\n",
    "    opera = int(input(\"Introduce la operacion: 1-suma,2-resta,3-multiplicacion,4-division\"))\n",
    "except ValueError:\n",
    "    print(\"Solo se admiten numeros enteros\")\n",
    "    \n",
    "try:\n",
    "    realizarOperacion(a,b,opera)\n",
    "except ZeroDivisionError:\n",
    "    print(\"No se puede dividir entre 0\")"
   ]
  },
  {
   "cell_type": "code",
   "execution_count": null,
   "metadata": {},
   "outputs": [],
   "source": []
  },
  {
   "cell_type": "code",
   "execution_count": null,
   "metadata": {},
   "outputs": [],
   "source": []
  },
  {
   "cell_type": "code",
   "execution_count": null,
   "metadata": {},
   "outputs": [],
   "source": []
  }
 ],
 "metadata": {
  "kernelspec": {
   "display_name": "Python 3",
   "language": "python",
   "name": "python3"
  },
  "language_info": {
   "codemirror_mode": {
    "name": "ipython",
    "version": 3
   },
   "file_extension": ".py",
   "mimetype": "text/x-python",
   "name": "python",
   "nbconvert_exporter": "python",
   "pygments_lexer": "ipython3",
   "version": "3.8.3"
  }
 },
 "nbformat": 4,
 "nbformat_minor": 4
}
